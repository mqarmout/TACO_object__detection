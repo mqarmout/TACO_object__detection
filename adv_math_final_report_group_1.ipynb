{
 "cells": [
  {
   "cell_type": "markdown",
   "metadata": {},
   "source": [
    "# Final Report for Advanced Math for Deep Learning\n",
    "\n",
    "#### Team Members\n",
    "\n",
    "- **Andre Graham** - 101555540  \n",
    "- **Majed Qarmout** - 101565483  \n",
    "- **Younes Bensassi-Nour** - 101542854  \n",
    "- **Yonatan Abebe** - 101532284  \n",
    "- **Adnan Shaikh** - 101549676\n"
   ]
  },
  {
   "cell_type": "markdown",
   "metadata": {},
   "source": [
    "## 1. Dataset Details"
   ]
  },
  {
   "cell_type": "markdown",
   "metadata": {},
   "source": [
    "### 1.1 Dataset Reference\n",
    "\n",
    "Here we will include a reference to the TACO dataset as well as a description of its contents.\n",
    "\n",
    "We will also include the code that downloads the dataset and stores it properly."
   ]
  },
  {
   "cell_type": "markdown",
   "metadata": {},
   "source": [
    "### 1.2 Data Analysis\n",
    "\n",
    "Here we will include the data analysis code that shows the number of objects per category, the different visualizations we have for images, some example images and bounding boxes, etc. We will also provide comments on the contents of the visualizations."
   ]
  },
  {
   "cell_type": "markdown",
   "metadata": {},
   "source": [
    "## 2. Preprocessing Steps"
   ]
  },
  {
   "cell_type": "markdown",
   "metadata": {},
   "source": [
    "Here we will include sections such as converting to YOLO format, the data training pipelines for both YOLO and CNN, we can have both the from scratch code and the YOLO code in different sections"
   ]
  },
  {
   "cell_type": "markdown",
   "metadata": {},
   "source": [
    "### 2.1 Data Preprocessing for Transfer Learning with YOLO"
   ]
  },
  {
   "cell_type": "markdown",
   "metadata": {},
   "source": []
  },
  {
   "cell_type": "markdown",
   "metadata": {},
   "source": [
    "### 2.2 Data Preprocessing for the Custom CNN Object Detection Model from Scratch"
   ]
  },
  {
   "cell_type": "markdown",
   "metadata": {},
   "source": []
  },
  {
   "cell_type": "markdown",
   "metadata": {
    "vscode": {
     "languageId": "plaintext"
    }
   },
   "source": [
    "## 3. Base Model Training"
   ]
  },
  {
   "cell_type": "markdown",
   "metadata": {},
   "source": [
    "### 3.1 Base Model Training for YOLO"
   ]
  },
  {
   "cell_type": "markdown",
   "metadata": {},
   "source": [
    "### 3.2 Base Model Training for the Custom CNN Object Detection Model from Scratch"
   ]
  },
  {
   "cell_type": "markdown",
   "metadata": {},
   "source": [
    "## 4. Hyperparameter Tuning"
   ]
  },
  {
   "cell_type": "markdown",
   "metadata": {},
   "source": [
    "### 4.1 Hyperparameter Tuning for YOLO"
   ]
  },
  {
   "cell_type": "markdown",
   "metadata": {},
   "source": [
    "### 4.2 Hyperparameter Tuning for CNN model "
   ]
  },
  {
   "cell_type": "markdown",
   "metadata": {},
   "source": []
  }
 ],
 "metadata": {
  "language_info": {
   "name": "python"
  }
 },
 "nbformat": 4,
 "nbformat_minor": 2
}
