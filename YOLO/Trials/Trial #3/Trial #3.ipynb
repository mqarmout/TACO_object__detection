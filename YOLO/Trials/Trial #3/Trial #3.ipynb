{
  "cells": [
    {
      "cell_type": "markdown",
      "metadata": {
        "id": "HHepsf04Hi-N"
      },
      "source": [
        "## load base files"
      ]
    },
    {
      "cell_type": "code",
      "execution_count": 1,
      "metadata": {
        "colab": {
          "base_uri": "https://localhost:8080/"
        },
        "id": "1zQTESYYHi-P",
        "outputId": "31034fce-3f5d-491d-de00-ad48fc9dcd78"
      },
      "outputs": [
        {
          "output_type": "stream",
          "name": "stdout",
          "text": [
            "Cloning into 'TACO'...\n",
            "remote: Enumerating objects: 740, done.\u001b[K\n",
            "remote: Counting objects: 100% (435/435), done.\u001b[K\n",
            "remote: Compressing objects: 100% (55/55), done.\u001b[K\n",
            "remote: Total 740 (delta 416), reused 380 (delta 380), pack-reused 305 (from 1)\u001b[K\n",
            "Receiving objects: 100% (740/740), 97.48 MiB | 15.19 MiB/s, done.\n",
            "Resolving deltas: 100% (499/499), done.\n"
          ]
        }
      ],
      "source": [
        "!git clone https://github.com/pedropro/TACO.git"
      ]
    },
    {
      "cell_type": "code",
      "execution_count": 2,
      "metadata": {
        "colab": {
          "base_uri": "https://localhost:8080/"
        },
        "id": "Z5WZbsbmHi-R",
        "outputId": "a4b9eb88-b07f-4d8b-893c-fe8e959c1743"
      },
      "outputs": [
        {
          "output_type": "stream",
          "name": "stdout",
          "text": [
            "/content/TACO\n",
            "Note. If for any reason the connection is broken. Just call me again and I will start where I left.\n",
            "Finished\n",
            "/content\n"
          ]
        }
      ],
      "source": [
        "%cd TACO\n",
        "! python download.py\n",
        "%cd .."
      ]
    },
    {
      "cell_type": "code",
      "execution_count": 3,
      "metadata": {
        "colab": {
          "base_uri": "https://localhost:8080/"
        },
        "id": "iSzRbW4PHi-R",
        "outputId": "6b5710a5-1d3c-4ab6-94da-c510be64273e"
      },
      "outputs": [
        {
          "output_type": "stream",
          "name": "stdout",
          "text": [
            "Total number of batches: 15\n"
          ]
        }
      ],
      "source": [
        "import os\n",
        "\n",
        "# Check the number of batch folders downloaded\n",
        "data_path = 'TACO/data/'\n",
        "batches = [folder for folder in os.listdir(data_path) if folder.startswith('batch_')]\n",
        "print(f\"Total number of batches: {len(batches)}\")"
      ]
    },
    {
      "cell_type": "code",
      "execution_count": 4,
      "metadata": {
        "colab": {
          "base_uri": "https://localhost:8080/"
        },
        "id": "MHMuAdGYHi-S",
        "outputId": "ec885d66-441e-4505-da5a-a48a3edcb5f3"
      },
      "outputs": [
        {
          "output_type": "stream",
          "name": "stdout",
          "text": [
            "Number of images: 1500\n",
            "Number of categories: 60\n",
            "Number of annotations: 4784\n"
          ]
        }
      ],
      "source": [
        "import json\n",
        "import os\n",
        "\n",
        "# Path to the annotations file\n",
        "annotations_path = 'TACO/data/annotations.json'\n",
        "\n",
        "# Check if the annotations file exists\n",
        "if os.path.exists(annotations_path):\n",
        "    with open(annotations_path, 'r') as f:\n",
        "        data = json.load(f)\n",
        "\n",
        "    # Get the number of images, categories, and annotations\n",
        "    num_images = len(data['images'])  # List of images\n",
        "    num_categories = len(data['categories'])  # List of categories\n",
        "    num_annotations = len(data['annotations'])  # List of annotations\n",
        "\n",
        "    print(f\"Number of images: {num_images}\")\n",
        "    print(f\"Number of categories: {num_categories}\")\n",
        "    print(f\"Number of annotations: {num_annotations}\")\n",
        "else:\n",
        "    print(f\"Annotations file not found at: {annotations_path}\")\n"
      ]
    },
    {
      "cell_type": "code",
      "execution_count": 5,
      "metadata": {
        "id": "D18VzNjLHi-T"
      },
      "outputs": [],
      "source": [
        "import json\n",
        "\n",
        "# Load the annotations file\n",
        "with open('TACO/data/annotations.json') as f:\n",
        "    data = json.load(f)"
      ]
    },
    {
      "cell_type": "markdown",
      "metadata": {
        "id": "gXTabTFcHi-T"
      },
      "source": [
        "## convert data into yolo format"
      ]
    },
    {
      "cell_type": "code",
      "execution_count": 6,
      "metadata": {
        "colab": {
          "base_uri": "https://localhost:8080/"
        },
        "id": "54UNxUWOHi-T",
        "outputId": "9d74a35a-d7ed-4853-affb-b73144fc449d"
      },
      "outputs": [
        {
          "output_type": "stream",
          "name": "stdout",
          "text": [
            "Total number of images processed: 1500\n"
          ]
        }
      ],
      "source": [
        "import json\n",
        "import os\n",
        "from pathlib import Path\n",
        "import shutil\n",
        "\n",
        "# Paths to your TACO dataset\n",
        "coco_json_path = 'TACO/data/annotations.json'  # Path to TACO's annotations file\n",
        "images_dir = 'TACO/data'                       # Path to TACO's main image directory with batch subfolders\n",
        "output_dir = 'yolo_top_categories'             # Base directory for YOLO format\n",
        "\n",
        "# Ensure output directories for images and labels\n",
        "Path(output_dir, 'images').mkdir(parents=True, exist_ok=True)\n",
        "Path(output_dir, 'labels').mkdir(parents=True, exist_ok=True)\n",
        "\n",
        "# Load TACO annotations\n",
        "with open(coco_json_path, 'r') as f:\n",
        "    data = json.load(f)\n",
        "\n",
        "# Get category mappings\n",
        "categories = {category['id']: category['name'] for category in data['categories']}\n",
        "\n",
        "# Counter for unique filenames\n",
        "file_counter = 1\n",
        "\n",
        "# Process each image and corresponding annotations\n",
        "for img in data['images']:\n",
        "    img_id = img['id']\n",
        "    img_file_name = img['file_name']  # This should be in the format 'batch_x/filename.jpg'\n",
        "    img_width, img_height = img['width'], img['height']\n",
        "\n",
        "    # Derive the image path within one of the 15 batch folders\n",
        "    img_path = os.path.join(images_dir, img_file_name)\n",
        "\n",
        "    # Create a unique integer-based name for each image and label\n",
        "    unique_name = str(file_counter)\n",
        "    img_extension = os.path.splitext(img_file_name)[1]  # Preserve the original extension (e.g., .jpg, .png)\n",
        "\n",
        "    # Copy image to the images directory with the new unique name\n",
        "    output_image_path = os.path.join(output_dir, 'images', unique_name + img_extension)\n",
        "    if os.path.exists(img_path):\n",
        "        shutil.copy(img_path, output_image_path)\n",
        "\n",
        "        # Create a corresponding label file with the same unique integer name\n",
        "        label_file_path = os.path.join(output_dir, 'labels', unique_name + '.txt')\n",
        "        with open(label_file_path, 'w') as label_file:\n",
        "            # Find all annotations for the current image\n",
        "            for ann in data['annotations']:\n",
        "                if ann['image_id'] == img_id:\n",
        "                    category_id = ann['category_id']\n",
        "                    # Ensure the category is in our mapping\n",
        "                    if category_id in categories:\n",
        "                        # YOLO format requires x_center, y_center, width, and height normalized\n",
        "                        x, y, width, height = ann['bbox']\n",
        "                        x_center = (x + width / 2) / img_width\n",
        "                        y_center = (y + height / 2) / img_height\n",
        "                        width /= img_width\n",
        "                        height /= img_height\n",
        "\n",
        "                        # Write the label file in YOLO format: <class_id> <x_center> <y_center> <width> <height>\n",
        "                        label_file.write(f\"{category_id} {x_center} {y_center} {width} {height}\\n\")\n",
        "\n",
        "        # Increment the counter for the next file\n",
        "        file_counter += 1\n",
        "\n",
        "# Print the total number of images moved\n",
        "print(f\"Total number of images processed: {file_counter - 1}\")"
      ]
    },
    {
      "cell_type": "markdown",
      "metadata": {
        "id": "Qn9oPV2FHi-U"
      },
      "source": [
        "## deleting unwanted categories"
      ]
    },
    {
      "cell_type": "code",
      "execution_count": 7,
      "metadata": {
        "colab": {
          "base_uri": "https://localhost:8080/"
        },
        "id": "EkYr2NaOHi-V",
        "outputId": "d4cf6935-6817-4218-a4cf-23513c341f82"
      },
      "outputs": [
        {
          "output_type": "stream",
          "name": "stdout",
          "text": [
            "Label files have been updated with only the specified categories and new IDs.\n"
          ]
        }
      ],
      "source": [
        "import os\n",
        "import json\n",
        "\n",
        "# Step 1: Define the category mapping for the categories of interest\n",
        "desired_categories = {\n",
        "    36: 0,  # Plastic film\n",
        "    58: 1,  # Unlabeled litter\n",
        "    59: 2,  # Cigarette\n",
        "    5: 3,   # Clear plastic bottle\n",
        "    7: 4,   # Plastic bottle cap\n",
        "    39: 5,  # Other plastic wrapper\n",
        "    12: 6,  # Drink can\n",
        "    29: 7,  # Other plastic\n",
        "}\n",
        "\n",
        "# Step 2: Define path to annotations and labels directory\n",
        "\n",
        "label_dir = 'yolo_top_categories/labels'\n",
        "\n",
        "# Step 3: Initialize counters for total images and deleted images\n",
        "total_images = len(data['images'])\n",
        "deleted_image_ids = set()\n",
        "\n",
        "# Step 4: Loop through annotations and filter out unwanted categories\n",
        "for ann in data['annotations']:\n",
        "    if ann['category_id'] not in desired_categories:\n",
        "        deleted_image_ids.add(ann['image_id'])  # Mark images to be deleted\n",
        "\n",
        "# Step 5: Update the label files to reflect only desired categories and new IDs\n",
        "for label_file in os.listdir(label_dir):\n",
        "    label_file_path = os.path.join(label_dir, label_file)\n",
        "\n",
        "    # Read the original label data\n",
        "    with open(label_file_path, 'r') as file:\n",
        "        lines = file.readlines()\n",
        "\n",
        "    # Prepare a list to hold the updated lines\n",
        "    updated_lines = []\n",
        "\n",
        "    # Process each line in the label file\n",
        "    for line in lines:\n",
        "        parts = line.strip().split()\n",
        "        category_id = int(parts[0])\n",
        "\n",
        "        # Check if the category ID is in the desired mapping\n",
        "        if category_id in desired_categories:\n",
        "            # Update the category ID to the new mapping\n",
        "            new_category_id = desired_categories[category_id]\n",
        "\n",
        "            # Create the updated line with the new category ID\n",
        "            updated_line = f\"{new_category_id} \" + \" \".join(parts[1:]) + \"\\n\"\n",
        "            updated_lines.append(updated_line)\n",
        "\n",
        "    # Write the updated lines back to the label file\n",
        "    with open(label_file_path, 'w') as file:\n",
        "        file.writelines(updated_lines)\n",
        "\n",
        "print(\"Label files have been updated with only the specified categories and new IDs.\")"
      ]
    },
    {
      "cell_type": "markdown",
      "metadata": {
        "id": "x1ADl_NAHi-V"
      },
      "source": [
        "## delete files that don't contain objects of interest"
      ]
    },
    {
      "cell_type": "code",
      "execution_count": 8,
      "metadata": {
        "colab": {
          "base_uri": "https://localhost:8080/"
        },
        "id": "I9AVImBEHi-W",
        "outputId": "0c73272d-cf4a-46c5-9480-1dd8810dad6b"
      },
      "outputs": [
        {
          "output_type": "stream",
          "name": "stdout",
          "text": [
            "Total number of files deleted (label and image): 828\n"
          ]
        }
      ],
      "source": [
        "import os\n",
        "\n",
        "# Path to the base directory containing unified 'images' and 'labels' folders\n",
        "base_dir = 'yolo_top_categories'  # Adjust if necessary\n",
        "label_dir = os.path.join(base_dir, 'labels')\n",
        "image_dir = os.path.join(base_dir, 'images')\n",
        "\n",
        "# Initialize a counter for deleted files\n",
        "total_deleted_files = 0\n",
        "\n",
        "# Loop over each label file in the labels directory\n",
        "for label_file in os.listdir(label_dir):\n",
        "    label_file_path = os.path.join(label_dir, label_file)\n",
        "\n",
        "    # Check if the label file is empty\n",
        "    if os.path.getsize(label_file_path) == 0:\n",
        "        # Construct possible image file paths\n",
        "        base_image_name = os.path.splitext(label_file)[0]\n",
        "        image_file_path_jpg = os.path.join(image_dir, base_image_name + '.jpg')\n",
        "        image_file_path_jpg_upper = os.path.join(image_dir, base_image_name + '.JPG')\n",
        "\n",
        "        # Delete the label file\n",
        "        os.remove(label_file_path)\n",
        "        total_deleted_files += 1\n",
        "\n",
        "        # Delete the associated image file if it exists\n",
        "        if os.path.exists(image_file_path_jpg):\n",
        "            os.remove(image_file_path_jpg)\n",
        "            total_deleted_files += 1\n",
        "        elif os.path.exists(image_file_path_jpg_upper):\n",
        "            os.remove(image_file_path_jpg_upper)\n",
        "            total_deleted_files += 1\n",
        "\n",
        "# Print the total number of files deleted\n",
        "print(f\"Total number of files deleted (label and image): {total_deleted_files}\")"
      ]
    },
    {
      "cell_type": "markdown",
      "metadata": {
        "id": "_c0aPXNEHi-W"
      },
      "source": [
        "## split the data into train/val/test sections"
      ]
    },
    {
      "cell_type": "code",
      "execution_count": 9,
      "metadata": {
        "colab": {
          "base_uri": "https://localhost:8080/"
        },
        "id": "Aw4sqw8wHi-W",
        "outputId": "8297f36e-08d5-4a40-eee1-fb8b55292d92"
      },
      "outputs": [
        {
          "output_type": "stream",
          "name": "stdout",
          "text": [
            "Number of images in train: 760\n",
            "Number of images in val: 217\n",
            "Number of images in test: 109\n"
          ]
        }
      ],
      "source": [
        "import shutil\n",
        "import random\n",
        "\n",
        "random.seed(42)\n",
        "\n",
        "# Set the split ratios\n",
        "train_ratio = 0.7\n",
        "val_ratio = 0.2\n",
        "test_ratio = 0.1\n",
        "\n",
        "# Ensure output directories for each split\n",
        "for split in ['train', 'val', 'test']:\n",
        "    os.makedirs(os.path.join(base_dir, split, 'images'), exist_ok=True)\n",
        "    os.makedirs(os.path.join(base_dir, split, 'labels'), exist_ok=True)\n",
        "\n",
        "# Get a list of all images and shuffle them\n",
        "all_images = [f for f in os.listdir(image_dir) if os.path.isfile(os.path.join(image_dir, f))]\n",
        "random.shuffle(all_images)\n",
        "\n",
        "# Calculate split sizes\n",
        "num_train = int(len(all_images) * train_ratio)\n",
        "num_val = int(len(all_images) * val_ratio)\n",
        "\n",
        "# Assign images to each split\n",
        "train_images = all_images[:num_train]\n",
        "val_images = all_images[num_train:num_train + num_val]\n",
        "test_images = all_images[num_train + num_val:]\n",
        "\n",
        "# Move files to their respective split directories\n",
        "for split, images in zip(['train', 'val', 'test'], [train_images, val_images, test_images]):\n",
        "    for image_file in images:\n",
        "        # Move image file\n",
        "        src_image_path = os.path.join(image_dir, image_file)\n",
        "        dst_image_path = os.path.join(base_dir, split, 'images', image_file)\n",
        "        shutil.move(src_image_path, dst_image_path)\n",
        "\n",
        "        # Move corresponding label file\n",
        "        label_file = os.path.splitext(image_file)[0] + '.txt'\n",
        "        src_label_path = os.path.join(label_dir, label_file)\n",
        "        dst_label_path = os.path.join(base_dir, split, 'labels', label_file)\n",
        "        if os.path.exists(src_label_path):  # Ensure corresponding label file exists\n",
        "            shutil.move(src_label_path, dst_label_path)\n",
        "\n",
        "# Print the number of images in each split\n",
        "print(f\"Number of images in train: {len(train_images)}\")\n",
        "print(f\"Number of images in val: {len(val_images)}\")\n",
        "print(f\"Number of images in test: {len(test_images)}\")"
      ]
    },
    {
      "cell_type": "markdown",
      "metadata": {
        "id": "Gc68qe2BHi-W"
      },
      "source": [
        "## delete images under yolo_top_categories/images and labels"
      ]
    },
    {
      "cell_type": "code",
      "execution_count": 10,
      "metadata": {
        "colab": {
          "base_uri": "https://localhost:8080/"
        },
        "id": "VxfW7q7aHi-X",
        "outputId": "8b032b61-95c3-4c12-c01c-6b6dd38c5786"
      },
      "outputs": [
        {
          "output_type": "stream",
          "name": "stdout",
          "text": [
            "Original images and labels directories have been deleted.\n"
          ]
        }
      ],
      "source": [
        "# Paths to the original images and labels directories\n",
        "image_dir = os.path.join(base_dir, 'images')\n",
        "label_dir = os.path.join(base_dir, 'labels')\n",
        "\n",
        "# Delete the original images and labels directories\n",
        "if os.path.exists(image_dir):\n",
        "    shutil.rmtree(image_dir)\n",
        "\n",
        "if os.path.exists(label_dir):\n",
        "    shutil.rmtree(label_dir)\n",
        "\n",
        "print(\"Original images and labels directories have been deleted.\")"
      ]
    },
    {
      "cell_type": "markdown",
      "metadata": {
        "id": "_Unm_wMHHi-X"
      },
      "source": [
        "## find largest size for all categories"
      ]
    },
    {
      "cell_type": "code",
      "execution_count": 11,
      "metadata": {
        "colab": {
          "base_uri": "https://localhost:8080/"
        },
        "id": "g8-iEidqHi-X",
        "outputId": "410232e3-8d33-4a79-c101-81dbcf0beb3f"
      },
      "outputs": [
        {
          "output_type": "stream",
          "name": "stdout",
          "text": [
            "{0: 322, 1: 400, 2: 483, 3: 216, 4: 153, 5: 201, 6: 181, 7: 194}\n",
            "483\n"
          ]
        }
      ],
      "source": [
        "import os\n",
        "\n",
        "def find_largest_category(directory):\n",
        "    value_per_category = {0:0, 1:0, 2:0, 3:0, 4:0, 5:0, 6:0, 7:0}\n",
        "    image_files = [f for f in os.listdir(os.path.join(directory, 'images')) if f.endswith('.jpg') or f.endswith('.png') or f.endswith('.JPG')]\n",
        "\n",
        "    for image_file in image_files:\n",
        "      label_file = os.path.splitext(image_file)[0] + '.txt'\n",
        "      label_path = os.path.join(directory, 'labels', label_file)\n",
        "\n",
        "      if os.path.exists(label_path):\n",
        "        with open(label_path, 'r') as f:\n",
        "          lines = f.readlines()\n",
        "          for line in lines:\n",
        "            category = int(line.split()[0])\n",
        "            if category in value_per_category:\n",
        "              value_per_category[category] += 1\n",
        "\n",
        "    largest_value = max(value_per_category.values())\n",
        "    print(value_per_category)\n",
        "    return largest_value\n",
        "\n",
        "train_data_dir = 'yolo_top_categories/train'\n",
        "largest_value = find_largest_category(train_data_dir)\n",
        "print(largest_value)"
      ]
    },
    {
      "cell_type": "markdown",
      "metadata": {
        "id": "NIaSbaOQHi-Y"
      },
      "source": [
        "## copy the images to another directory"
      ]
    },
    {
      "cell_type": "code",
      "execution_count": 12,
      "metadata": {
        "id": "DGuA4ueOHi-Y"
      },
      "outputs": [],
      "source": [
        "def copy_balanced_data(source_dir, dest_dir, max_samples_per_class):\n",
        "  \"\"\"\n",
        "  Copies images and labels from source_dir to dest_dir, ensuring a balanced dataset\n",
        "  with a maximum number of samples per class.\n",
        "  \"\"\"\n",
        "  os.makedirs(os.path.join(dest_dir, 'images'), exist_ok=True)\n",
        "  os.makedirs(os.path.join(dest_dir, 'labels'), exist_ok=True)\n",
        "\n",
        "  class_counts = {0: 0, 1: 0, 2: 0, 3: 0, 4: 0, 5: 0, 6: 0, 7: 0}\n",
        "  image_files = [f for f in os.listdir(os.path.join(source_dir, 'images')) if f.endswith('.jpg') or f.endswith('.png') or f.endswith('.JPG')]\n",
        "\n",
        "  for image_file in image_files:\n",
        "    label_file = os.path.splitext(image_file)[0] + '.txt'\n",
        "    label_path = os.path.join(source_dir, 'labels', label_file)\n",
        "\n",
        "    if os.path.exists(label_path):\n",
        "      with open(label_path, 'r') as f:\n",
        "        lines = f.readlines()\n",
        "        for line in lines:\n",
        "          category = int(line.split()[0])\n",
        "          if category in class_counts and class_counts[category] < max_samples_per_class:\n",
        "            # Copy image\n",
        "            src_image_path = os.path.join(source_dir, 'images', image_file)\n",
        "            dst_image_path = os.path.join(dest_dir, 'images', image_file)\n",
        "            shutil.copy(src_image_path, dst_image_path)\n",
        "\n",
        "            # Copy label\n",
        "            src_label_path = os.path.join(source_dir, 'labels', label_file)\n",
        "            dst_label_path = os.path.join(dest_dir, 'labels', label_file)\n",
        "            shutil.copy(src_label_path, dst_label_path)\n",
        "\n",
        "            class_counts[category] += 1\n",
        "            break  # Only consider the first class in the image\n",
        "\n",
        "# Example usage\n",
        "source_dir = 'yolo_top_categories/train'\n",
        "dest_dir = 'yolo_top_categories/balanced_train'\n",
        "max_samples_per_class = largest_value\n",
        "\n",
        "copy_balanced_data(source_dir, dest_dir, max_samples_per_class)"
      ]
    },
    {
      "cell_type": "markdown",
      "metadata": {
        "id": "oQV0WoiZHi-Y"
      },
      "source": [
        "## balance train dataset"
      ]
    },
    {
      "cell_type": "code",
      "execution_count": 13,
      "metadata": {
        "colab": {
          "base_uri": "https://localhost:8080/"
        },
        "id": "watKaSUEHi-Y",
        "outputId": "5d5163a4-1174-4359-b9a3-05c207939a37"
      },
      "outputs": [
        {
          "output_type": "stream",
          "name": "stdout",
          "text": [
            "{0: 322, 1: 400, 2: 483, 3: 216, 4: 153, 5: 201, 6: 181, 7: 194}\n"
          ]
        }
      ],
      "source": [
        "def oversample_train_data(train_data_dir, largest_value):\n",
        "    \"\"\"Oversamples the training data to ensure a balanced dataset.\n",
        "\n",
        "    Args:\n",
        "        train_data_dir: Path to the training data directory.\n",
        "        largest_value: The largest number of samples for any category in the train data.\n",
        "    \"\"\"\n",
        "\n",
        "    label_dir = os.path.join(train_data_dir, 'labels')\n",
        "    image_dir = os.path.join(train_data_dir, 'images')\n",
        "\n",
        "    category_counts = {0: 0, 1: 0, 2: 0, 3: 0, 4: 0, 5: 0, 6: 0, 7: 0}\n",
        "    for label_file in os.listdir(label_dir):\n",
        "        label_path = os.path.join(label_dir, label_file)\n",
        "        with open(label_path, 'r') as f:\n",
        "            lines = f.readlines()\n",
        "            for line in lines:\n",
        "                category = int(line.split()[0])\n",
        "                if category in category_counts:\n",
        "                    category_counts[category] += 1\n",
        "\n",
        "    for category, count in category_counts.items():\n",
        "        if count < largest_value:\n",
        "            num_to_duplicate = largest_value - count\n",
        "            image_files = [f for f in os.listdir(image_dir) if f.endswith('.jpg') or f.endswith('.png') or f.endswith('.JPG')]\n",
        "            category_images = []\n",
        "            for image_file in image_files:\n",
        "                label_file = os.path.splitext(image_file)[0] + '.txt'\n",
        "                label_path = os.path.join(label_dir, label_file)\n",
        "                if os.path.exists(label_path):\n",
        "                    with open(label_path, 'r') as f:\n",
        "                        lines = f.readlines()\n",
        "                        for line in lines:\n",
        "                            if int(line.split()[0]) == category:\n",
        "                                category_images.append(image_file)\n",
        "                                break\n",
        "\n",
        "            for _ in range(num_to_duplicate):\n",
        "                if category_images:\n",
        "                    image_to_duplicate = random.choice(category_images)\n",
        "                    new_image_name = str(uuid.uuid4()) + os.path.splitext(image_to_duplicate)[1]\n",
        "\n",
        "                    src_image_path = os.path.join(image_dir, image_to_duplicate)\n",
        "                    dst_image_path = os.path.join(image_dir, new_image_name)\n",
        "                    shutil.copy(src_image_path, dst_image_path)\n",
        "\n",
        "                    src_label_path = os.path.join(label_dir, os.path.splitext(image_to_duplicate)[0] + '.txt')\n",
        "                    dst_label_path = os.path.join(label_dir, os.path.splitext(new_image_name)[0] + '.txt')\n",
        "                    shutil.copy(src_label_path, dst_label_path)\n",
        "\n",
        "# Example usage:\n",
        "import uuid\n",
        "train_data_dir = 'yolo_top_categories/balanced_train'\n",
        "largest_value = find_largest_category(train_data_dir)\n",
        "oversample_train_data(train_data_dir, largest_value)"
      ]
    },
    {
      "cell_type": "markdown",
      "metadata": {
        "id": "I24M422FHi-Z"
      },
      "source": [
        "## ensure that all the categories are balanced"
      ]
    },
    {
      "cell_type": "code",
      "execution_count": 14,
      "metadata": {
        "id": "y2yoN0O5Hi-Z"
      },
      "outputs": [],
      "source": [
        "from collections import Counter\n",
        "import matplotlib.pyplot as plt\n",
        "\n",
        "# Function to plot label counts for a given split\n",
        "def plot_label_counts(label_names, folders):\n",
        "    # Loop through each split and calculate label distributions\n",
        "    for split in folders:\n",
        "        label_dir_split = os.path.join(base_dir, split, 'labels')\n",
        "\n",
        "        # Initialize a counter for label counts for the current split\n",
        "        label_counts = Counter()\n",
        "\n",
        "        # Loop over each label file in the current label directory\n",
        "        for label_file in os.listdir(label_dir_split):\n",
        "            label_file_path = os.path.join(label_dir_split, label_file)\n",
        "\n",
        "            # Read the label file\n",
        "            with open(label_file_path, 'r') as file:\n",
        "                lines = file.readlines()\n",
        "\n",
        "                # Count each label in the file\n",
        "                for line in lines:\n",
        "                    parts = line.strip().split()\n",
        "                    label_id = int(parts[0])  # The label ID is the first element\n",
        "                    label_counts[label_id] += 1\n",
        "        # Convert label IDs to label names and sort by count\n",
        "        labels, counts = zip(*sorted(\n",
        "            [(label_names[label_id], count) for label_id, count in label_counts.items()],\n",
        "            key=lambda x: x[1]\n",
        "        ))\n",
        "\n",
        "        # Plotting a horizontal bar chart for the split\n",
        "        plt.figure(figsize=(10, 6))\n",
        "        plt.barh(labels, counts, color='skyblue')\n",
        "        plt.xlabel(\"Count\")\n",
        "        plt.ylabel(\"Label Name\")\n",
        "        plt.title(f\"Counts of Object Labels in {split.capitalize()} Dataset\")\n",
        "        plt.show()"
      ]
    },
    {
      "cell_type": "code",
      "execution_count": 15,
      "metadata": {
        "colab": {
          "base_uri": "https://localhost:8080/",
          "height": 1000
        },
        "id": "pdYXmvAVHi-Z",
        "outputId": "4746a45a-d94e-4514-c2e7-68c53135f1a9"
      },
      "outputs": [
        {
          "output_type": "display_data",
          "data": {
            "text/plain": [
              "<Figure size 1000x600 with 1 Axes>"
            ],
            "image/png": "[encoded data removed]"
          },
          "metadata": {}
        },
        {
          "output_type": "display_data",
          "data": {
            "text/plain": [
              "<Figure size 1000x600 with 1 Axes>"
            ],
            "image/png": "[encoded data removed]"
          },
          "metadata": {}
        }
      ],
      "source": [
        "# Define a mapping from label IDs to names\n",
        "label_names = {\n",
        "    0: \"Plastic film\",\n",
        "    1: \"Unlabeled litter\",\n",
        "    2: \"Cigarette\",\n",
        "    3: \"Clear plastic bottle\",\n",
        "    4: \"Plastic bottle cap\",\n",
        "    5: \"Other plastic wrapper\",\n",
        "    6: \"Drink can\",\n",
        "    7: \"Other plastic\",\n",
        "}\n",
        "# Plot label counts for the current split\n",
        "plot_label_counts(label_names, ['balanced_train', 'train'])"
      ]
    },
    {
      "cell_type": "code",
      "execution_count": 16,
      "metadata": {
        "id": "lfrNj0U2Hi-Z"
      },
      "outputs": [],
      "source": [
        "def undersample_largest_class(train_data_dir):\n",
        "  \"\"\"Undersamples the class with the highest count in the training data.\n",
        "\n",
        "  Args:\n",
        "      train_data_dir: Path to the training data directory.\n",
        "  \"\"\"\n",
        "\n",
        "  label_dir = os.path.join(train_data_dir, 'labels')\n",
        "  image_dir = os.path.join(train_data_dir, 'images')\n",
        "\n",
        "  category_counts = {0: 0, 1: 0, 2: 0, 3: 0, 4: 0, 5: 0, 6: 0, 7: 0}\n",
        "  for label_file in os.listdir(label_dir):\n",
        "      label_path = os.path.join(label_dir, label_file)\n",
        "      with open(label_path, 'r') as f:\n",
        "          lines = f.readlines()\n",
        "          for line in lines:\n",
        "              category = int(line.split()[0])\n",
        "              if category in category_counts:\n",
        "                  category_counts[category] += 1\n",
        "\n",
        "  # Find the class with the largest count\n",
        "  largest_class = max(category_counts, key=category_counts.get)\n",
        "  largest_count = category_counts[largest_class]\n",
        "\n",
        "  # Find the target count for undersampling (e.g., the second largest count)\n",
        "  second_largest_count = sorted(category_counts.values())[-2] if len(category_counts) > 1 else largest_count\n",
        "\n",
        "  # Remove images belonging to the largest class until its count matches the target count\n",
        "  images_to_remove = []\n",
        "  for image_file in os.listdir(image_dir):\n",
        "      label_file = os.path.splitext(image_file)[0] + '.txt'\n",
        "      label_path = os.path.join(label_dir, label_file)\n",
        "      if os.path.exists(label_path):\n",
        "          with open(label_path, 'r') as f:\n",
        "              lines = f.readlines()\n",
        "              for line in lines:\n",
        "                  if int(line.split()[0]) == largest_class:\n",
        "                      if category_counts[largest_class] > second_largest_count:\n",
        "                          images_to_remove.append(image_file)\n",
        "                          category_counts[largest_class] -= 1\n",
        "                          break\n",
        "\n",
        "  for image_file in images_to_remove:\n",
        "      image_path = os.path.join(image_dir, image_file)\n",
        "      label_path = os.path.join(label_dir, os.path.splitext(image_file)[0] + '.txt')\n",
        "      if os.path.exists(image_path):\n",
        "          os.remove(image_path)\n",
        "      if os.path.exists(label_path):\n",
        "          os.remove(label_path)\n",
        "\n",
        "# Example usage:\n",
        "train_data_dir = 'yolo_top_categories/balanced_train'\n",
        "undersample_largest_class(train_data_dir)"
      ]
    },
    {
      "cell_type": "code",
      "execution_count": 17,
      "metadata": {
        "colab": {
          "base_uri": "https://localhost:8080/",
          "height": 1000
        },
        "id": "ytPm_G0RHi-Z",
        "outputId": "190efea0-5cd8-43c3-825b-fc5069422ba2"
      },
      "outputs": [
        {
          "output_type": "display_data",
          "data": {
            "text/plain": [
              "<Figure size 1000x600 with 1 Axes>"
            ],
            "image/png": "[encoded data removed]"
          },
          "metadata": {}
        },
        {
          "output_type": "display_data",
          "data": {
            "text/plain": [
              "<Figure size 1000x600 with 1 Axes>"
            ],
            "image/png": "[encoded data removed]"
          },
          "metadata": {}
        }
      ],
      "source": [
        "# Define a mapping from label IDs to names\n",
        "label_names = {\n",
        "    0: \"Plastic film\",\n",
        "    1: \"Unlabeled litter\",\n",
        "    2: \"Cigarette\",\n",
        "    3: \"Clear plastic bottle\",\n",
        "    4: \"Plastic bottle cap\",\n",
        "    5: \"Other plastic wrapper\",\n",
        "    6: \"Drink can\",\n",
        "    7: \"Other plastic\",\n",
        "}\n",
        "# Plot label counts for the current split\n",
        "plot_label_counts(label_names, ['balanced_train', 'train'])"
      ]
    },
    {
      "cell_type": "code",
      "execution_count": 18,
      "metadata": {
        "colab": {
          "base_uri": "https://localhost:8080/"
        },
        "id": "g4JuRe4uHi-a",
        "outputId": "0936cf8e-f2d2-4e8d-df11-3c66699b46b0"
      },
      "outputs": [
        {
          "output_type": "stream",
          "name": "stdout",
          "text": [
            "Label files have been updated with only the specified categories and new IDs.\n"
          ]
        }
      ],
      "source": [
        "import os\n",
        "import json\n",
        "\n",
        "# desired_categories = {\n",
        "#     36: 0,  # Plastic film\n",
        "#     58: 1,  # Unlabeled litter\n",
        "#     59: 2,  # Cigarette\n",
        "#     5: 3,   # Clear plastic bottle\n",
        "#     7: 4,   # Plastic bottle cap\n",
        "#     39: 5,  # Other plastic wrapper\n",
        "#     12: 6,  # Drink can\n",
        "#     29: 7,  # Other plastic\n",
        "# }\n",
        "\n",
        "# Step 1: Define the category mapping for the categories of interest\n",
        "desired_categories = {\n",
        "    0: 0,   # Plastic film\n",
        "    1: 1,   # Unlabeled litter\n",
        "    2: 2,   # Cigarette\n",
        "    3: 3,   # Clear plastic bottle\n",
        "    4: 4,   # Plastic bottle cap\n",
        "    5: 5,   # Other plastic wrapper,\n",
        "    6: 6,   # drink can\n",
        "}\n",
        "\n",
        "# Step 2: Define path to annotations and labels directory\n",
        "\n",
        "label_dir = 'yolo_top_categories/balanced_train/labels'\n",
        "\n",
        "# Step 3: Initialize counters for total images and deleted images\n",
        "total_images = len(data['images'])\n",
        "deleted_image_ids = set()\n",
        "\n",
        "# Step 4: Loop through annotations and filter out unwanted categories\n",
        "for ann in data['annotations']:\n",
        "    if ann['category_id'] not in desired_categories:\n",
        "        deleted_image_ids.add(ann['image_id'])  # Mark images to be deleted\n",
        "\n",
        "# Step 5: Update the label files to reflect only desired categories and new IDs\n",
        "for label_file in os.listdir(label_dir):\n",
        "    label_file_path = os.path.join(label_dir, label_file)\n",
        "\n",
        "    # Read the original label data\n",
        "    with open(label_file_path, 'r') as file:\n",
        "        lines = file.readlines()\n",
        "\n",
        "    # Prepare a list to hold the updated lines\n",
        "    updated_lines = []\n",
        "\n",
        "    # Process each line in the label file\n",
        "    for line in lines:\n",
        "        parts = line.strip().split()\n",
        "        category_id = int(parts[0])\n",
        "\n",
        "        # Check if the category ID is in the desired mapping\n",
        "        if category_id in desired_categories:\n",
        "            # Update the category ID to the new mapping\n",
        "            new_category_id = desired_categories[category_id]\n",
        "\n",
        "            # Create the updated line with the new category ID\n",
        "            updated_line = f\"{new_category_id} \" + \" \".join(parts[1:]) + \"\\n\"\n",
        "            updated_lines.append(updated_line)\n",
        "\n",
        "    # Write the updated lines back to the label file\n",
        "    with open(label_file_path, 'w') as file:\n",
        "        file.writelines(updated_lines)\n",
        "\n",
        "print(\"Label files have been updated with only the specified categories and new IDs.\")"
      ]
    },
    {
      "cell_type": "code",
      "execution_count": 19,
      "metadata": {
        "colab": {
          "base_uri": "https://localhost:8080/"
        },
        "id": "s7virL0THi-a",
        "outputId": "691ee99d-db10-46a8-9eca-9a0c09fbadea"
      },
      "outputs": [
        {
          "output_type": "stream",
          "name": "stdout",
          "text": [
            "Total number of files deleted (label and image): 204\n"
          ]
        }
      ],
      "source": [
        "import os\n",
        "\n",
        "# Path to the base directory containing unified 'images' and 'labels' folders\n",
        "base_dir = 'yolo_top_categories/balanced_train'  # Adjust if necessary\n",
        "label_dir = os.path.join(base_dir, 'labels')\n",
        "image_dir = os.path.join(base_dir, 'images')\n",
        "\n",
        "# Initialize a counter for deleted files\n",
        "total_deleted_files = 0\n",
        "\n",
        "# Loop over each label file in the labels directory\n",
        "for label_file in os.listdir(label_dir):\n",
        "    label_file_path = os.path.join(label_dir, label_file)\n",
        "\n",
        "    # Check if the label file is empty\n",
        "    if os.path.getsize(label_file_path) == 0:\n",
        "        # Construct possible image file paths\n",
        "        base_image_name = os.path.splitext(label_file)[0]\n",
        "        image_file_path_jpg = os.path.join(image_dir, base_image_name + '.jpg')\n",
        "        image_file_path_jpg_upper = os.path.join(image_dir, base_image_name + '.JPG')\n",
        "\n",
        "        # Delete the label file\n",
        "        os.remove(label_file_path)\n",
        "        total_deleted_files += 1\n",
        "\n",
        "        # Delete the associated image file if it exists\n",
        "        if os.path.exists(image_file_path_jpg):\n",
        "            os.remove(image_file_path_jpg)\n",
        "            total_deleted_files += 1\n",
        "        elif os.path.exists(image_file_path_jpg_upper):\n",
        "            os.remove(image_file_path_jpg_upper)\n",
        "            total_deleted_files += 1\n",
        "\n",
        "# Print the total number of files deleted\n",
        "print(f\"Total number of files deleted (label and image): {total_deleted_files}\")"
      ]
    },
    {
      "cell_type": "code",
      "execution_count": 20,
      "metadata": {
        "colab": {
          "base_uri": "https://localhost:8080/",
          "height": 1000
        },
        "id": "jcWIdK3qHi-a",
        "outputId": "0f4d8601-4f4f-4f99-b184-98cd670ffc03"
      },
      "outputs": [
        {
          "output_type": "display_data",
          "data": {
            "text/plain": [
              "<Figure size 1000x600 with 1 Axes>"
            ],
            "image/png": "[encoded data removed]"
          },
          "metadata": {}
        },
        {
          "output_type": "display_data",
          "data": {
            "text/plain": [
              "<Figure size 1000x600 with 1 Axes>"
            ],
            "image/png": "[encoded data removed]"
          },
          "metadata": {}
        }
      ],
      "source": [
        "# Define a mapping from label IDs to names\n",
        "base_dir = 'yolo_top_categories'\n",
        "label_names = {\n",
        "    0: \"Plastic film\",\n",
        "    1: \"Unlabeled litter\",\n",
        "    2: \"Cigarette\",\n",
        "    3: \"Clear plastic bottle\",\n",
        "    4: \"Plastic bottle cap\",\n",
        "    5: \"Other plastic wrapper\",\n",
        "    6: \"Drink can\",\n",
        "    7: \"Other plastic\",\n",
        "}\n",
        "# Plot label counts for the current split\n",
        "plot_label_counts(label_names, ['balanced_train', 'train'])"
      ]
    },
    {
      "cell_type": "markdown",
      "metadata": {
        "id": "O3P0qiQYHi-b"
      },
      "source": [
        "## model training"
      ]
    },
    {
      "cell_type": "code",
      "source": [
        "!pip install ultralytics"
      ],
      "metadata": {
        "colab": {
          "base_uri": "https://localhost:8080/"
        },
        "id": "9jx8sObIQBOs",
        "outputId": "8677309f-4c58-4f04-9c05-9bda21298120"
      },
      "execution_count": 21,
      "outputs": [
        {
          "output_type": "stream",
          "name": "stdout",
          "text": [
            "Collecting ultralytics\n",
            "  Downloading ultralytics-8.3.31-py3-none-any.whl.metadata (35 kB)\n",
            "Requirement already satisfied: numpy>=1.23.0 in /usr/local/lib/python3.10/dist-packages (from ultralytics) (1.26.4)\n",
            "Requirement already satisfied: matplotlib>=3.3.0 in /usr/local/lib/python3.10/dist-packages (from ultralytics) (3.8.0)\n",
            "Requirement already satisfied: opencv-python>=4.6.0 in /usr/local/lib/python3.10/dist-packages (from ultralytics) (4.10.0.84)\n",
            "Requirement already satisfied: pillow>=7.1.2 in /usr/local/lib/python3.10/dist-packages (from ultralytics) (11.0.0)\n",
            "Requirement already satisfied: pyyaml>=5.3.1 in /usr/local/lib/python3.10/dist-packages (from ultralytics) (6.0.2)\n",
            "Requirement already satisfied: requests>=2.23.0 in /usr/local/lib/python3.10/dist-packages (from ultralytics) (2.32.3)\n",
            "Requirement already satisfied: scipy>=1.4.1 in /usr/local/lib/python3.10/dist-packages (from ultralytics) (1.13.1)\n",
            "Requirement already satisfied: torch>=1.8.0 in /usr/local/lib/python3.10/dist-packages (from ultralytics) (2.5.0+cu121)\n",
            "Requirement already satisfied: torchvision>=0.9.0 in /usr/local/lib/python3.10/dist-packages (from ultralytics) (0.20.0+cu121)\n",
            "Requirement already satisfied: tqdm>=4.64.0 in /usr/local/lib/python3.10/dist-packages (from ultralytics) (4.66.6)\n",
            "Requirement already satisfied: psutil in /usr/local/lib/python3.10/dist-packages (from ultralytics) (5.9.5)\n",
            "Requirement already satisfied: py-cpuinfo in /usr/local/lib/python3.10/dist-packages (from ultralytics) (9.0.0)\n",
            "Requirement already satisfied: pandas>=1.1.4 in /usr/local/lib/python3.10/dist-packages (from ultralytics) (2.2.2)\n",
            "Requirement already satisfied: seaborn>=0.11.0 in /usr/local/lib/python3.10/dist-packages (from ultralytics) (0.13.2)\n",
            "Collecting ultralytics-thop>=2.0.0 (from ultralytics)\n",
            "  Downloading ultralytics_thop-2.0.11-py3-none-any.whl.metadata (9.4 kB)\n",
            "Requirement already satisfied: contourpy>=1.0.1 in /usr/local/lib/python3.10/dist-packages (from matplotlib>=3.3.0->ultralytics) (1.3.0)\n",
            "Requirement already satisfied: cycler>=0.10 in /usr/local/lib/python3.10/dist-packages (from matplotlib>=3.3.0->ultralytics) (0.12.1)\n",
            "Requirement already satisfied: fonttools>=4.22.0 in /usr/local/lib/python3.10/dist-packages (from matplotlib>=3.3.0->ultralytics) (4.54.1)\n",
            "Requirement already satisfied: kiwisolver>=1.0.1 in /usr/local/lib/python3.10/dist-packages (from matplotlib>=3.3.0->ultralytics) (1.4.7)\n",
            "Requirement already satisfied: packaging>=20.0 in /usr/local/lib/python3.10/dist-packages (from matplotlib>=3.3.0->ultralytics) (24.2)\n",
            "Requirement already satisfied: pyparsing>=2.3.1 in /usr/local/lib/python3.10/dist-packages (from matplotlib>=3.3.0->ultralytics) (3.2.0)\n",
            "Requirement already satisfied: python-dateutil>=2.7 in /usr/local/lib/python3.10/dist-packages (from matplotlib>=3.3.0->ultralytics) (2.8.2)\n",
            "Requirement already satisfied: pytz>=2020.1 in /usr/local/lib/python3.10/dist-packages (from pandas>=1.1.4->ultralytics) (2024.2)\n",
            "Requirement already satisfied: tzdata>=2022.7 in /usr/local/lib/python3.10/dist-packages (from pandas>=1.1.4->ultralytics) (2024.2)\n",
            "Requirement already satisfied: charset-normalizer<4,>=2 in /usr/local/lib/python3.10/dist-packages (from requests>=2.23.0->ultralytics) (3.4.0)\n",
            "Requirement already satisfied: idna<4,>=2.5 in /usr/local/lib/python3.10/dist-packages (from requests>=2.23.0->ultralytics) (3.10)\n",
            "Requirement already satisfied: urllib3<3,>=1.21.1 in /usr/local/lib/python3.10/dist-packages (from requests>=2.23.0->ultralytics) (2.2.3)\n",
            "Requirement already satisfied: certifi>=2017.4.17 in /usr/local/lib/python3.10/dist-packages (from requests>=2.23.0->ultralytics) (2024.8.30)\n",
            "Requirement already satisfied: filelock in /usr/local/lib/python3.10/dist-packages (from torch>=1.8.0->ultralytics) (3.16.1)\n",
            "Requirement already satisfied: typing-extensions>=4.8.0 in /usr/local/lib/python3.10/dist-packages (from torch>=1.8.0->ultralytics) (4.12.2)\n",
            "Requirement already satisfied: networkx in /usr/local/lib/python3.10/dist-packages (from torch>=1.8.0->ultralytics) (3.4.2)\n",
            "Requirement already satisfied: jinja2 in /usr/local/lib/python3.10/dist-packages (from torch>=1.8.0->ultralytics) (3.1.4)\n",
            "Requirement already satisfied: fsspec in /usr/local/lib/python3.10/dist-packages (from torch>=1.8.0->ultralytics) (2024.10.0)\n",
            "Requirement already satisfied: sympy==1.13.1 in /usr/local/lib/python3.10/dist-packages (from torch>=1.8.0->ultralytics) (1.13.1)\n",
            "Requirement already satisfied: mpmath<1.4,>=1.1.0 in /usr/local/lib/python3.10/dist-packages (from sympy==1.13.1->torch>=1.8.0->ultralytics) (1.3.0)\n",
            "Requirement already satisfied: six>=1.5 in /usr/local/lib/python3.10/dist-packages (from python-dateutil>=2.7->matplotlib>=3.3.0->ultralytics) (1.16.0)\n",
            "Requirement already satisfied: MarkupSafe>=2.0 in /usr/local/lib/python3.10/dist-packages (from jinja2->torch>=1.8.0->ultralytics) (3.0.2)\n",
            "Downloading ultralytics-8.3.31-py3-none-any.whl (886 kB)\n",
            "\u001b[2K   \u001b[90m━━━━━━━━━━━━━━━━━━━━━━━━━━━━━━━━━━━━━━━━\u001b[0m \u001b[32m886.3/886.3 kB\u001b[0m \u001b[31m51.6 MB/s\u001b[0m eta \u001b[36m0:00:00\u001b[0m\n",
            "\u001b[?25hDownloading ultralytics_thop-2.0.11-py3-none-any.whl (26 kB)\n",
            "Installing collected packages: ultralytics-thop, ultralytics\n",
            "Successfully installed ultralytics-8.3.31 ultralytics-thop-2.0.11\n"
          ]
        }
      ]
    },
    {
      "cell_type": "code",
      "execution_count": 22,
      "metadata": {
        "colab": {
          "base_uri": "https://localhost:8080/"
        },
        "id": "H4BNvOPPHi-b",
        "outputId": "6bb70303-b69e-4636-c12e-3cd3e8112e7a"
      },
      "outputs": [
        {
          "output_type": "stream",
          "name": "stdout",
          "text": [
            "Creating new Ultralytics Settings v0.0.6 file ✅ \n",
            "View Ultralytics Settings with 'yolo settings' or at '/root/.config/Ultralytics/settings.json'\n",
            "Update Settings with 'yolo settings key=value', i.e. 'yolo settings runs_dir=path/to/dir'. For help see https://docs.ultralytics.com/quickstart/#ultralytics-settings.\n",
            "Downloading https://github.com/ultralytics/assets/releases/download/v8.3.0/yolov8l.pt to 'yolov8l.pt'...\n"
          ]
        },
        {
          "output_type": "stream",
          "name": "stderr",
          "text": [
            "100%|██████████| 83.7M/83.7M [00:02<00:00, 42.6MB/s]\n"
          ]
        },
        {
          "output_type": "stream",
          "name": "stdout",
          "text": [
            "Ultralytics 8.3.31 🚀 Python-3.10.12 torch-2.5.0+cu121 CUDA:0 (NVIDIA A100-SXM4-40GB, 40514MiB)\n",
            "\u001b[34m\u001b[1mengine/trainer: \u001b[0mtask=detect, mode=train, model=yolov8l.pt, data=data.yaml, epochs=100, time=None, patience=15, batch=16, imgsz=1536, save=True, save_period=-1, cache=False, device=None, workers=8, project=None, name=train, exist_ok=False, pretrained=True, optimizer=auto, verbose=True, seed=0, deterministic=True, single_cls=False, rect=False, cos_lr=False, close_mosaic=10, resume=False, amp=True, fraction=1.0, profile=False, freeze=10, multi_scale=False, overlap_mask=True, mask_ratio=4, dropout=0.0, val=True, split=val, save_json=False, save_hybrid=False, conf=None, iou=0.7, max_det=300, half=False, dnn=False, plots=True, source=None, vid_stride=1, stream_buffer=False, visualize=False, augment=False, agnostic_nms=False, classes=None, retina_masks=False, embed=None, show=False, save_frames=False, save_txt=False, save_conf=False, save_crop=False, show_labels=True, show_conf=True, show_boxes=True, line_width=None, format=torchscript, keras=False, optimize=False, int8=False, dynamic=False, simplify=True, opset=None, workspace=4, nms=False, lr0=0.01, lrf=0.01, momentum=0.937, weight_decay=0.0005, warmup_epochs=3.0, warmup_momentum=0.8, warmup_bias_lr=0.1, box=7.5, cls=0.5, dfl=1.5, pose=12.0, kobj=1.0, label_smoothing=0.0, nbs=64, hsv_h=0.5, hsv_s=0.7, hsv_v=0.4, degrees=180, translate=0.1, scale=0.5, shear=0.0, perspective=0.0, flipud=0.5, fliplr=0.5, bgr=0.0, mosaic=1.0, mixup=0.0, copy_paste=0.0, copy_paste_mode=flip, auto_augment=randaugment, erasing=0.4, crop_fraction=1.0, cfg=hyp.yaml, tracker=botsort.yaml, save_dir=runs/detect/train\n",
            "Downloading https://ultralytics.com/assets/Arial.ttf to '/root/.config/Ultralytics/Arial.ttf'...\n"
          ]
        },
        {
          "output_type": "stream",
          "name": "stderr",
          "text": [
            "100%|██████████| 755k/755k [00:00<00:00, 101MB/s]\n"
          ]
        },
        {
          "output_type": "stream",
          "name": "stdout",
          "text": [
            "Overriding model.yaml nc=80 with nc=8\n",
            "\n",
            "                   from  n    params  module                                       arguments                     \n",
            "  0                  -1  1      1856  ultralytics.nn.modules.conv.Conv             [3, 64, 3, 2]                 \n",
            "  1                  -1  1     73984  ultralytics.nn.modules.conv.Conv             [64, 128, 3, 2]               \n",
            "  2                  -1  3    279808  ultralytics.nn.modules.block.C2f             [128, 128, 3, True]           \n",
            "  3                  -1  1    295424  ultralytics.nn.modules.conv.Conv             [128, 256, 3, 2]              \n",
            "  4                  -1  6   2101248  ultralytics.nn.modules.block.C2f             [256, 256, 6, True]           \n",
            "  5                  -1  1   1180672  ultralytics.nn.modules.conv.Conv             [256, 512, 3, 2]              \n",
            "  6                  -1  6   8396800  ultralytics.nn.modules.block.C2f             [512, 512, 6, True]           \n",
            "  7                  -1  1   2360320  ultralytics.nn.modules.conv.Conv             [512, 512, 3, 2]              \n",
            "  8                  -1  3   4461568  ultralytics.nn.modules.block.C2f             [512, 512, 3, True]           \n",
            "  9                  -1  1    656896  ultralytics.nn.modules.block.SPPF            [512, 512, 5]                 \n",
            " 10                  -1  1         0  torch.nn.modules.upsampling.Upsample         [None, 2, 'nearest']          \n",
            " 11             [-1, 6]  1         0  ultralytics.nn.modules.conv.Concat           [1]                           \n",
            " 12                  -1  3   4723712  ultralytics.nn.modules.block.C2f             [1024, 512, 3]                \n",
            " 13                  -1  1         0  torch.nn.modules.upsampling.Upsample         [None, 2, 'nearest']          \n",
            " 14             [-1, 4]  1         0  ultralytics.nn.modules.conv.Concat           [1]                           \n",
            " 15                  -1  3   1247744  ultralytics.nn.modules.block.C2f             [768, 256, 3]                 \n",
            " 16                  -1  1    590336  ultralytics.nn.modules.conv.Conv             [256, 256, 3, 2]              \n",
            " 17            [-1, 12]  1         0  ultralytics.nn.modules.conv.Concat           [1]                           \n",
            " 18                  -1  3   4592640  ultralytics.nn.modules.block.C2f             [768, 512, 3]                 \n",
            " 19                  -1  1   2360320  ultralytics.nn.modules.conv.Conv             [512, 512, 3, 2]              \n",
            " 20             [-1, 9]  1         0  ultralytics.nn.modules.conv.Concat           [1]                           \n",
            " 21                  -1  3   4723712  ultralytics.nn.modules.block.C2f             [1024, 512, 3]                \n",
            " 22        [15, 18, 21]  1   5588968  ultralytics.nn.modules.head.Detect           [8, [256, 512, 512]]          \n",
            "Model summary: 365 layers, 43,636,008 parameters, 43,635,992 gradients, 165.4 GFLOPs\n",
            "\n",
            "Transferred 589/595 items from pretrained weights\n",
            "\u001b[34m\u001b[1mTensorBoard: \u001b[0mStart with 'tensorboard --logdir runs/detect/train', view at http://localhost:6006/\n",
            "Freezing layer 'model.0.conv.weight'\n",
            "Freezing layer 'model.0.bn.weight'\n",
            "Freezing layer 'model.0.bn.bias'\n",
            "Freezing layer 'model.1.conv.weight'\n",
            "Freezing layer 'model.1.bn.weight'\n",
            "Freezing layer 'model.1.bn.bias'\n",
            "Freezing layer 'model.2.cv1.conv.weight'\n",
            "Freezing layer 'model.2.cv1.bn.weight'\n",
            "Freezing layer 'model.2.cv1.bn.bias'\n",
            "Freezing layer 'model.2.cv2.conv.weight'\n",
            "Freezing layer 'model.2.cv2.bn.weight'\n",
            "Freezing layer 'model.2.cv2.bn.bias'\n",
            "Freezing layer 'model.2.m.0.cv1.conv.weight'\n",
            "Freezing layer 'model.2.m.0.cv1.bn.weight'\n",
            "Freezing layer 'model.2.m.0.cv1.bn.bias'\n",
            "Freezing layer 'model.2.m.0.cv2.conv.weight'\n",
            "Freezing layer 'model.2.m.0.cv2.bn.weight'\n",
            "Freezing layer 'model.2.m.0.cv2.bn.bias'\n",
            "Freezing layer 'model.2.m.1.cv1.conv.weight'\n",
            "Freezing layer 'model.2.m.1.cv1.bn.weight'\n",
            "Freezing layer 'model.2.m.1.cv1.bn.bias'\n",
            "Freezing layer 'model.2.m.1.cv2.conv.weight'\n",
            "Freezing layer 'model.2.m.1.cv2.bn.weight'\n",
            "Freezing layer 'model.2.m.1.cv2.bn.bias'\n",
            "Freezing layer 'model.2.m.2.cv1.conv.weight'\n",
            "Freezing layer 'model.2.m.2.cv1.bn.weight'\n",
            "Freezing layer 'model.2.m.2.cv1.bn.bias'\n",
            "Freezing layer 'model.2.m.2.cv2.conv.weight'\n",
            "Freezing layer 'model.2.m.2.cv2.bn.weight'\n",
            "Freezing layer 'model.2.m.2.cv2.bn.bias'\n",
            "Freezing layer 'model.3.conv.weight'\n",
            "Freezing layer 'model.3.bn.weight'\n",
            "Freezing layer 'model.3.bn.bias'\n",
            "Freezing layer 'model.4.cv1.conv.weight'\n",
            "Freezing layer 'model.4.cv1.bn.weight'\n",
            "Freezing layer 'model.4.cv1.bn.bias'\n",
            "Freezing layer 'model.4.cv2.conv.weight'\n",
            "Freezing layer 'model.4.cv2.bn.weight'\n",
            "Freezing layer 'model.4.cv2.bn.bias'\n",
            "Freezing layer 'model.4.m.0.cv1.conv.weight'\n",
            "Freezing layer 'model.4.m.0.cv1.bn.weight'\n",
            "Freezing layer 'model.4.m.0.cv1.bn.bias'\n",
            "Freezing layer 'model.4.m.0.cv2.conv.weight'\n",
            "Freezing layer 'model.4.m.0.cv2.bn.weight'\n",
            "Freezing layer 'model.4.m.0.cv2.bn.bias'\n",
            "Freezing layer 'model.4.m.1.cv1.conv.weight'\n",
            "Freezing layer 'model.4.m.1.cv1.bn.weight'\n",
            "Freezing layer 'model.4.m.1.cv1.bn.bias'\n",
            "Freezing layer 'model.4.m.1.cv2.conv.weight'\n",
            "Freezing layer 'model.4.m.1.cv2.bn.weight'\n",
            "Freezing layer 'model.4.m.1.cv2.bn.bias'\n",
            "Freezing layer 'model.4.m.2.cv1.conv.weight'\n",
            "Freezing layer 'model.4.m.2.cv1.bn.weight'\n",
            "Freezing layer 'model.4.m.2.cv1.bn.bias'\n",
            "Freezing layer 'model.4.m.2.cv2.conv.weight'\n",
            "Freezing layer 'model.4.m.2.cv2.bn.weight'\n",
            "Freezing layer 'model.4.m.2.cv2.bn.bias'\n",
            "Freezing layer 'model.4.m.3.cv1.conv.weight'\n",
            "Freezing layer 'model.4.m.3.cv1.bn.weight'\n",
            "Freezing layer 'model.4.m.3.cv1.bn.bias'\n",
            "Freezing layer 'model.4.m.3.cv2.conv.weight'\n",
            "Freezing layer 'model.4.m.3.cv2.bn.weight'\n",
            "Freezing layer 'model.4.m.3.cv2.bn.bias'\n",
            "Freezing layer 'model.4.m.4.cv1.conv.weight'\n",
            "Freezing layer 'model.4.m.4.cv1.bn.weight'\n",
            "Freezing layer 'model.4.m.4.cv1.bn.bias'\n",
            "Freezing layer 'model.4.m.4.cv2.conv.weight'\n",
            "Freezing layer 'model.4.m.4.cv2.bn.weight'\n",
            "Freezing layer 'model.4.m.4.cv2.bn.bias'\n",
            "Freezing layer 'model.4.m.5.cv1.conv.weight'\n",
            "Freezing layer 'model.4.m.5.cv1.bn.weight'\n",
            "Freezing layer 'model.4.m.5.cv1.bn.bias'\n",
            "Freezing layer 'model.4.m.5.cv2.conv.weight'\n",
            "Freezing layer 'model.4.m.5.cv2.bn.weight'\n",
            "Freezing layer 'model.4.m.5.cv2.bn.bias'\n",
            "Freezing layer 'model.5.conv.weight'\n",
            "Freezing layer 'model.5.bn.weight'\n",
            "Freezing layer 'model.5.bn.bias'\n",
            "Freezing layer 'model.6.cv1.conv.weight'\n",
            "Freezing layer 'model.6.cv1.bn.weight'\n",
            "Freezing layer 'model.6.cv1.bn.bias'\n",
            "Freezing layer 'model.6.cv2.conv.weight'\n",
            "Freezing layer 'model.6.cv2.bn.weight'\n",
            "Freezing layer 'model.6.cv2.bn.bias'\n",
            "Freezing layer 'model.6.m.0.cv1.conv.weight'\n",
            "Freezing layer 'model.6.m.0.cv1.bn.weight'\n",
            "Freezing layer 'model.6.m.0.cv1.bn.bias'\n",
            "Freezing layer 'model.6.m.0.cv2.conv.weight'\n",
            "Freezing layer 'model.6.m.0.cv2.bn.weight'\n",
            "Freezing layer 'model.6.m.0.cv2.bn.bias'\n",
            "Freezing layer 'model.6.m.1.cv1.conv.weight'\n",
            "Freezing layer 'model.6.m.1.cv1.bn.weight'\n",
            "Freezing layer 'model.6.m.1.cv1.bn.bias'\n",
            "Freezing layer 'model.6.m.1.cv2.conv.weight'\n",
            "Freezing layer 'model.6.m.1.cv2.bn.weight'\n",
            "Freezing layer 'model.6.m.1.cv2.bn.bias'\n",
            "Freezing layer 'model.6.m.2.cv1.conv.weight'\n",
            "Freezing layer 'model.6.m.2.cv1.bn.weight'\n",
            "Freezing layer 'model.6.m.2.cv1.bn.bias'\n",
            "Freezing layer 'model.6.m.2.cv2.conv.weight'\n",
            "Freezing layer 'model.6.m.2.cv2.bn.weight'\n",
            "Freezing layer 'model.6.m.2.cv2.bn.bias'\n",
            "Freezing layer 'model.6.m.3.cv1.conv.weight'\n",
            "Freezing layer 'model.6.m.3.cv1.bn.weight'\n",
            "Freezing layer 'model.6.m.3.cv1.bn.bias'\n",
            "Freezing layer 'model.6.m.3.cv2.conv.weight'\n",
            "Freezing layer 'model.6.m.3.cv2.bn.weight'\n",
            "Freezing layer 'model.6.m.3.cv2.bn.bias'\n",
            "Freezing layer 'model.6.m.4.cv1.conv.weight'\n",
            "Freezing layer 'model.6.m.4.cv1.bn.weight'\n",
            "Freezing layer 'model.6.m.4.cv1.bn.bias'\n",
            "Freezing layer 'model.6.m.4.cv2.conv.weight'\n",
            "Freezing layer 'model.6.m.4.cv2.bn.weight'\n",
            "Freezing layer 'model.6.m.4.cv2.bn.bias'\n",
            "Freezing layer 'model.6.m.5.cv1.conv.weight'\n",
            "Freezing layer 'model.6.m.5.cv1.bn.weight'\n",
            "Freezing layer 'model.6.m.5.cv1.bn.bias'\n",
            "Freezing layer 'model.6.m.5.cv2.conv.weight'\n",
            "Freezing layer 'model.6.m.5.cv2.bn.weight'\n",
            "Freezing layer 'model.6.m.5.cv2.bn.bias'\n",
            "Freezing layer 'model.7.conv.weight'\n",
            "Freezing layer 'model.7.bn.weight'\n",
            "Freezing layer 'model.7.bn.bias'\n",
            "Freezing layer 'model.8.cv1.conv.weight'\n",
            "Freezing layer 'model.8.cv1.bn.weight'\n",
            "Freezing layer 'model.8.cv1.bn.bias'\n",
            "Freezing layer 'model.8.cv2.conv.weight'\n",
            "Freezing layer 'model.8.cv2.bn.weight'\n",
            "Freezing layer 'model.8.cv2.bn.bias'\n",
            "Freezing layer 'model.8.m.0.cv1.conv.weight'\n",
            "Freezing layer 'model.8.m.0.cv1.bn.weight'\n",
            "Freezing layer 'model.8.m.0.cv1.bn.bias'\n",
            "Freezing layer 'model.8.m.0.cv2.conv.weight'\n",
            "Freezing layer 'model.8.m.0.cv2.bn.weight'\n",
            "Freezing layer 'model.8.m.0.cv2.bn.bias'\n",
            "Freezing layer 'model.8.m.1.cv1.conv.weight'\n",
            "Freezing layer 'model.8.m.1.cv1.bn.weight'\n",
            "Freezing layer 'model.8.m.1.cv1.bn.bias'\n",
            "Freezing layer 'model.8.m.1.cv2.conv.weight'\n",
            "Freezing layer 'model.8.m.1.cv2.bn.weight'\n",
            "Freezing layer 'model.8.m.1.cv2.bn.bias'\n",
            "Freezing layer 'model.8.m.2.cv1.conv.weight'\n",
            "Freezing layer 'model.8.m.2.cv1.bn.weight'\n",
            "Freezing layer 'model.8.m.2.cv1.bn.bias'\n",
            "Freezing layer 'model.8.m.2.cv2.conv.weight'\n",
            "Freezing layer 'model.8.m.2.cv2.bn.weight'\n",
            "Freezing layer 'model.8.m.2.cv2.bn.bias'\n",
            "Freezing layer 'model.9.cv1.conv.weight'\n",
            "Freezing layer 'model.9.cv1.bn.weight'\n",
            "Freezing layer 'model.9.cv1.bn.bias'\n",
            "Freezing layer 'model.9.cv2.conv.weight'\n",
            "Freezing layer 'model.9.cv2.bn.weight'\n",
            "Freezing layer 'model.9.cv2.bn.bias'\n",
            "Freezing layer 'model.22.dfl.conv.weight'\n",
            "\u001b[34m\u001b[1mAMP: \u001b[0mrunning Automatic Mixed Precision (AMP) checks...\n",
            "Downloading https://github.com/ultralytics/assets/releases/download/v8.3.0/yolo11n.pt to 'yolo11n.pt'...\n"
          ]
        },
        {
          "output_type": "stream",
          "name": "stderr",
          "text": [
            "100%|██████████| 5.35M/5.35M [00:00<00:00, 288MB/s]\n"
          ]
        },
        {
          "output_type": "stream",
          "name": "stdout",
          "text": [
            "\u001b[34m\u001b[1mAMP: \u001b[0mchecks passed ✅\n"
          ]
        },
        {
          "output_type": "stream",
          "name": "stderr",
          "text": [
            "\u001b[34m\u001b[1mtrain: \u001b[0mScanning /content/yolo_top_categories/balanced_train/labels... 1317 images, 0 backgrounds, 0 corrupt: 100%|██████████| 1317/1317 [00:01<00:00, 1022.98it/s]"
          ]
        },
        {
          "output_type": "stream",
          "name": "stdout",
          "text": [
            "\u001b[34m\u001b[1mtrain: \u001b[0mNew cache created: /content/yolo_top_categories/balanced_train/labels.cache\n"
          ]
        },
        {
          "output_type": "stream",
          "name": "stderr",
          "text": [
            "\n"
          ]
        },
        {
          "output_type": "stream",
          "name": "stdout",
          "text": [
            "\u001b[34m\u001b[1malbumentations: \u001b[0mBlur(p=0.01, blur_limit=(3, 7)), MedianBlur(p=0.01, blur_limit=(3, 7)), ToGray(p=0.01, num_output_channels=3, method='weighted_average'), CLAHE(p=0.01, clip_limit=(1.0, 4.0), tile_grid_size=(8, 8))\n"
          ]
        },
        {
          "output_type": "stream",
          "name": "stderr",
          "text": [
            "/usr/local/lib/python3.10/dist-packages/albumentations/__init__.py:24: UserWarning: A new version of Albumentations is available: 1.4.21 (you have 1.4.20). Upgrade using: pip install -U albumentations. To disable automatic update checks, set the environment variable NO_ALBUMENTATIONS_UPDATE to 1.\n",
            "  check_for_updates()\n",
            "\u001b[34m\u001b[1mval: \u001b[0mScanning /content/yolo_top_categories/val/labels... 217 images, 0 backgrounds, 0 corrupt: 100%|██████████| 217/217 [00:00<00:00, 872.45it/s]"
          ]
        },
        {
          "output_type": "stream",
          "name": "stdout",
          "text": [
            "\u001b[34m\u001b[1mval: \u001b[0mNew cache created: /content/yolo_top_categories/val/labels.cache\n"
          ]
        },
        {
          "output_type": "stream",
          "name": "stderr",
          "text": [
            "\n"
          ]
        },
        {
          "output_type": "stream",
          "name": "stdout",
          "text": [
            "Plotting labels to runs/detect/train/labels.jpg... \n",
            "\u001b[34m\u001b[1moptimizer:\u001b[0m 'optimizer=auto' found, ignoring 'lr0=0.01' and 'momentum=0.937' and determining best 'optimizer', 'lr0' and 'momentum' automatically... \n",
            "\u001b[34m\u001b[1moptimizer:\u001b[0m AdamW(lr=0.000833, momentum=0.9) with parameter groups 97 weight(decay=0.0), 104 weight(decay=0.0005), 103 bias(decay=0.0)\n",
            "\u001b[34m\u001b[1mTensorBoard: \u001b[0mmodel graph visualization added ✅\n",
            "Image sizes 1536 train, 1536 val\n",
            "Using 8 dataloader workers\n",
            "Logging results to \u001b[1mruns/detect/train\u001b[0m\n",
            "Starting training for 100 epochs...\n",
            "\n",
            "      Epoch    GPU_mem   box_loss   cls_loss   dfl_loss  Instances       Size\n"
          ]
        },
        {
          "output_type": "stream",
          "name": "stderr",
          "text": [
            "      1/100      19.3G      1.837      4.601      2.009         39       1536: 100%|██████████| 83/83 [00:40<00:00,  2.05it/s]\n",
            "                 Class     Images  Instances      Box(P          R      mAP50  mAP50-95): 100%|██████████| 7/7 [00:06<00:00,  1.14it/s]"
          ]
        },
        {
          "output_type": "stream",
          "name": "stdout",
          "text": [
            "                   all        217        505     0.0485       0.23     0.0284     0.0103\n"
          ]
        },
        {
          "output_type": "stream",
          "name": "stderr",
          "text": [
            "\n"
          ]
        },
        {
          "output_type": "stream",
          "name": "stdout",
          "text": [
            "\n",
            "      Epoch    GPU_mem   box_loss   cls_loss   dfl_loss  Instances       Size\n"
          ]
        },
        {
          "output_type": "stream",
          "name": "stderr",
          "text": [
            "      2/100      19.4G      1.696      2.666      1.848         21       1536: 100%|██████████| 83/83 [00:38<00:00,  2.17it/s]\n",
            "                 Class     Images  Instances      Box(P          R      mAP50  mAP50-95): 100%|██████████| 7/7 [00:04<00:00,  1.67it/s]"
          ]
        },
        {
          "output_type": "stream",
          "name": "stdout",
          "text": [
            "                   all        217        505      0.158      0.136     0.0252    0.00782\n"
          ]
        },
        {
          "output_type": "stream",
          "name": "stderr",
          "text": [
            "\n"
          ]
        },
        {
          "output_type": "stream",
          "name": "stdout",
          "text": [
            "\n",
            "      Epoch    GPU_mem   box_loss   cls_loss   dfl_loss  Instances       Size\n"
          ]
        },
        {
          "output_type": "stream",
          "name": "stderr",
          "text": [
            "      3/100      18.8G      1.725      2.347      1.881         30       1536: 100%|██████████| 83/83 [00:38<00:00,  2.18it/s]\n",
            "                 Class     Images  Instances      Box(P          R      mAP50  mAP50-95): 100%|██████████| 7/7 [00:06<00:00,  1.07it/s]"
          ]
        },
        {
          "output_type": "stream",
          "name": "stdout",
          "text": [
            "                   all        217        505      0.076      0.107     0.0399     0.0102\n"
          ]
        },
        {
          "output_type": "stream",
          "name": "stderr",
          "text": [
            "\n"
          ]
        },
        {
          "output_type": "stream",
          "name": "stdout",
          "text": [
            "\n",
            "      Epoch    GPU_mem   box_loss   cls_loss   dfl_loss  Instances       Size\n"
          ]
        },
        {
          "output_type": "stream",
          "name": "stderr",
          "text": [
            "      4/100      18.8G      1.662      2.157      1.821         24       1536: 100%|██████████| 83/83 [00:37<00:00,  2.20it/s]\n",
            "                 Class     Images  Instances      Box(P          R      mAP50  mAP50-95): 100%|██████████| 7/7 [00:03<00:00,  2.08it/s]"
          ]
        },
        {
          "output_type": "stream",
          "name": "stdout",
          "text": [
            "                   all        217        505      0.229      0.231      0.155     0.0483\n"
          ]
        },
        {
          "output_type": "stream",
          "name": "stderr",
          "text": [
            "\n"
          ]
        },
        {
          "output_type": "stream",
          "name": "stdout",
          "text": [
            "\n",
            "      Epoch    GPU_mem   box_loss   cls_loss   dfl_loss  Instances       Size\n"
          ]
        },
        {
          "output_type": "stream",
          "name": "stderr",
          "text": [
            "      5/100      18.9G      1.598      1.977      1.786          9       1536: 100%|██████████| 83/83 [00:37<00:00,  2.20it/s]\n",
            "                 Class     Images  Instances      Box(P          R      mAP50  mAP50-95): 100%|██████████| 7/7 [00:03<00:00,  2.18it/s]"
          ]
        },
        {
          "output_type": "stream",
          "name": "stdout",
          "text": [
            "                   all        217        505      0.201      0.242      0.159     0.0496\n"
          ]
        },
        {
          "output_type": "stream",
          "name": "stderr",
          "text": [
            "\n"
          ]
        },
        {
          "output_type": "stream",
          "name": "stdout",
          "text": [
            "\n",
            "      Epoch    GPU_mem   box_loss   cls_loss   dfl_loss  Instances       Size\n"
          ]
        },
        {
          "output_type": "stream",
          "name": "stderr",
          "text": [
            "      6/100      18.7G      1.563      1.861      1.749         20       1536: 100%|██████████| 83/83 [00:37<00:00,  2.20it/s]\n",
            "                 Class     Images  Instances      Box(P          R      mAP50  mAP50-95): 100%|██████████| 7/7 [00:03<00:00,  2.11it/s]"
          ]
        },
        {
          "output_type": "stream",
          "name": "stdout",
          "text": [
            "                   all        217        505      0.201      0.288      0.158     0.0533\n"
          ]
        },
        {
          "output_type": "stream",
          "name": "stderr",
          "text": [
            "\n"
          ]
        },
        {
          "output_type": "stream",
          "name": "stdout",
          "text": [
            "\n",
            "      Epoch    GPU_mem   box_loss   cls_loss   dfl_loss  Instances       Size\n"
          ]
        },
        {
          "output_type": "stream",
          "name": "stderr",
          "text": [
            "      7/100      19.1G      1.539      1.763      1.711         20       1536: 100%|██████████| 83/83 [00:37<00:00,  2.19it/s]\n",
            "                 Class     Images  Instances      Box(P          R      mAP50  mAP50-95): 100%|██████████| 7/7 [00:03<00:00,  2.18it/s]"
          ]
        },
        {
          "output_type": "stream",
          "name": "stdout",
          "text": [
            "                   all        217        505      0.237       0.26      0.188     0.0581\n"
          ]
        },
        {
          "output_type": "stream",
          "name": "stderr",
          "text": [
            "\n"
          ]
        },
        {
          "output_type": "stream",
          "name": "stdout",
          "text": [
            "\n",
            "      Epoch    GPU_mem   box_loss   cls_loss   dfl_loss  Instances       Size\n"
          ]
        },
        {
          "output_type": "stream",
          "name": "stderr",
          "text": [
            "      8/100      18.8G      1.501      1.623      1.693         34       1536: 100%|██████████| 83/83 [00:37<00:00,  2.20it/s]\n",
            "                 Class     Images  Instances      Box(P          R      mAP50  mAP50-95): 100%|██████████| 7/7 [00:03<00:00,  2.16it/s]"
          ]
        },
        {
          "output_type": "stream",
          "name": "stdout",
          "text": [
            "                   all        217        505      0.245      0.265       0.19     0.0596\n"
          ]
        },
        {
          "output_type": "stream",
          "name": "stderr",
          "text": [
            "\n"
          ]
        },
        {
          "output_type": "stream",
          "name": "stdout",
          "text": [
            "\n",
            "      Epoch    GPU_mem   box_loss   cls_loss   dfl_loss  Instances       Size\n"
          ]
        },
        {
          "output_type": "stream",
          "name": "stderr",
          "text": [
            "      9/100        19G      1.488      1.598      1.673         23       1536: 100%|██████████| 83/83 [00:37<00:00,  2.20it/s]\n",
            "                 Class     Images  Instances      Box(P          R      mAP50  mAP50-95): 100%|██████████| 7/7 [00:03<00:00,  2.20it/s]"
          ]
        },
        {
          "output_type": "stream",
          "name": "stdout",
          "text": [
            "                   all        217        505      0.232      0.221      0.171     0.0491\n"
          ]
        },
        {
          "output_type": "stream",
          "name": "stderr",
          "text": [
            "\n"
          ]
        },
        {
          "output_type": "stream",
          "name": "stdout",
          "text": [
            "\n",
            "      Epoch    GPU_mem   box_loss   cls_loss   dfl_loss  Instances       Size\n"
          ]
        },
        {
          "output_type": "stream",
          "name": "stderr",
          "text": [
            "     10/100      18.7G      1.421      1.552      1.602         15       1536: 100%|██████████| 83/83 [00:37<00:00,  2.20it/s]\n",
            "                 Class     Images  Instances      Box(P          R      mAP50  mAP50-95): 100%|██████████| 7/7 [00:03<00:00,  2.13it/s]"
          ]
        },
        {
          "output_type": "stream",
          "name": "stdout",
          "text": [
            "                   all        217        505      0.275      0.251      0.206     0.0632\n"
          ]
        },
        {
          "output_type": "stream",
          "name": "stderr",
          "text": [
            "\n"
          ]
        },
        {
          "output_type": "stream",
          "name": "stdout",
          "text": [
            "\n",
            "      Epoch    GPU_mem   box_loss   cls_loss   dfl_loss  Instances       Size\n"
          ]
        },
        {
          "output_type": "stream",
          "name": "stderr",
          "text": [
            "     11/100      21.7G      1.439       1.47      1.636         12       1536: 100%|██████████| 83/83 [00:37<00:00,  2.19it/s]\n",
            "                 Class     Images  Instances      Box(P          R      mAP50  mAP50-95): 100%|██████████| 7/7 [00:03<00:00,  2.23it/s]"
          ]
        },
        {
          "output_type": "stream",
          "name": "stdout",
          "text": [
            "                   all        217        505      0.231      0.276       0.19     0.0565\n"
          ]
        },
        {
          "output_type": "stream",
          "name": "stderr",
          "text": [
            "\n"
          ]
        },
        {
          "output_type": "stream",
          "name": "stdout",
          "text": [
            "\n",
            "      Epoch    GPU_mem   box_loss   cls_loss   dfl_loss  Instances       Size\n"
          ]
        },
        {
          "output_type": "stream",
          "name": "stderr",
          "text": [
            "     12/100      18.8G      1.398      1.405      1.596         25       1536: 100%|██████████| 83/83 [00:37<00:00,  2.19it/s]\n",
            "                 Class     Images  Instances      Box(P          R      mAP50  mAP50-95): 100%|██████████| 7/7 [00:03<00:00,  2.21it/s]"
          ]
        },
        {
          "output_type": "stream",
          "name": "stdout",
          "text": [
            "                   all        217        505       0.21      0.283       0.19     0.0622\n"
          ]
        },
        {
          "output_type": "stream",
          "name": "stderr",
          "text": [
            "\n"
          ]
        },
        {
          "output_type": "stream",
          "name": "stdout",
          "text": [
            "\n",
            "      Epoch    GPU_mem   box_loss   cls_loss   dfl_loss  Instances       Size\n"
          ]
        },
        {
          "output_type": "stream",
          "name": "stderr",
          "text": [
            "     13/100      19.2G      1.414      1.386      1.606         34       1536: 100%|██████████| 83/83 [00:37<00:00,  2.20it/s]\n",
            "                 Class     Images  Instances      Box(P          R      mAP50  mAP50-95): 100%|██████████| 7/7 [00:03<00:00,  2.20it/s]"
          ]
        },
        {
          "output_type": "stream",
          "name": "stdout",
          "text": [
            "                   all        217        505      0.237      0.232      0.175     0.0452\n"
          ]
        },
        {
          "output_type": "stream",
          "name": "stderr",
          "text": [
            "\n"
          ]
        },
        {
          "output_type": "stream",
          "name": "stdout",
          "text": [
            "\n",
            "      Epoch    GPU_mem   box_loss   cls_loss   dfl_loss  Instances       Size\n"
          ]
        },
        {
          "output_type": "stream",
          "name": "stderr",
          "text": [
            "     14/100      18.7G      1.364      1.334      1.583         22       1536: 100%|██████████| 83/83 [00:37<00:00,  2.20it/s]\n",
            "                 Class     Images  Instances      Box(P          R      mAP50  mAP50-95): 100%|██████████| 7/7 [00:03<00:00,  2.30it/s]"
          ]
        },
        {
          "output_type": "stream",
          "name": "stdout",
          "text": [
            "                   all        217        505      0.228       0.27      0.183     0.0547\n"
          ]
        },
        {
          "output_type": "stream",
          "name": "stderr",
          "text": [
            "\n"
          ]
        },
        {
          "output_type": "stream",
          "name": "stdout",
          "text": [
            "\n",
            "      Epoch    GPU_mem   box_loss   cls_loss   dfl_loss  Instances       Size\n"
          ]
        },
        {
          "output_type": "stream",
          "name": "stderr",
          "text": [
            "     15/100      18.6G      1.364      1.286      1.566         19       1536: 100%|██████████| 83/83 [00:37<00:00,  2.19it/s]\n",
            "                 Class     Images  Instances      Box(P          R      mAP50  mAP50-95): 100%|██████████| 7/7 [00:03<00:00,  2.17it/s]"
          ]
        },
        {
          "output_type": "stream",
          "name": "stdout",
          "text": [
            "                   all        217        505      0.272      0.252      0.209     0.0595\n"
          ]
        },
        {
          "output_type": "stream",
          "name": "stderr",
          "text": [
            "\n"
          ]
        },
        {
          "output_type": "stream",
          "name": "stdout",
          "text": [
            "\n",
            "      Epoch    GPU_mem   box_loss   cls_loss   dfl_loss  Instances       Size\n"
          ]
        },
        {
          "output_type": "stream",
          "name": "stderr",
          "text": [
            "     16/100      18.8G      1.354      1.252      1.537         15       1536: 100%|██████████| 83/83 [00:37<00:00,  2.20it/s]\n",
            "                 Class     Images  Instances      Box(P          R      mAP50  mAP50-95): 100%|██████████| 7/7 [00:03<00:00,  2.18it/s]"
          ]
        },
        {
          "output_type": "stream",
          "name": "stdout",
          "text": [
            "                   all        217        505      0.284      0.307      0.255     0.0854\n"
          ]
        },
        {
          "output_type": "stream",
          "name": "stderr",
          "text": [
            "\n"
          ]
        },
        {
          "output_type": "stream",
          "name": "stdout",
          "text": [
            "\n",
            "      Epoch    GPU_mem   box_loss   cls_loss   dfl_loss  Instances       Size\n"
          ]
        },
        {
          "output_type": "stream",
          "name": "stderr",
          "text": [
            "     17/100      18.8G      1.308      1.229      1.526         19       1536: 100%|██████████| 83/83 [00:37<00:00,  2.20it/s]\n",
            "                 Class     Images  Instances      Box(P          R      mAP50  mAP50-95): 100%|██████████| 7/7 [00:03<00:00,  2.13it/s]"
          ]
        },
        {
          "output_type": "stream",
          "name": "stdout",
          "text": [
            "                   all        217        505      0.261      0.277      0.236     0.0837\n"
          ]
        },
        {
          "output_type": "stream",
          "name": "stderr",
          "text": [
            "\n"
          ]
        },
        {
          "output_type": "stream",
          "name": "stdout",
          "text": [
            "\n",
            "      Epoch    GPU_mem   box_loss   cls_loss   dfl_loss  Instances       Size\n"
          ]
        },
        {
          "output_type": "stream",
          "name": "stderr",
          "text": [
            "     18/100      19.1G      1.306      1.207      1.525         24       1536: 100%|██████████| 83/83 [00:37<00:00,  2.20it/s]\n",
            "                 Class     Images  Instances      Box(P          R      mAP50  mAP50-95): 100%|██████████| 7/7 [00:03<00:00,  2.27it/s]"
          ]
        },
        {
          "output_type": "stream",
          "name": "stdout",
          "text": [
            "                   all        217        505      0.249      0.293      0.214     0.0618\n"
          ]
        },
        {
          "output_type": "stream",
          "name": "stderr",
          "text": [
            "\n"
          ]
        },
        {
          "output_type": "stream",
          "name": "stdout",
          "text": [
            "\n",
            "      Epoch    GPU_mem   box_loss   cls_loss   dfl_loss  Instances       Size\n"
          ]
        },
        {
          "output_type": "stream",
          "name": "stderr",
          "text": [
            "     19/100      18.6G      1.283      1.135      1.504         31       1536: 100%|██████████| 83/83 [00:37<00:00,  2.20it/s]\n",
            "                 Class     Images  Instances      Box(P          R      mAP50  mAP50-95): 100%|██████████| 7/7 [00:03<00:00,  2.14it/s]"
          ]
        },
        {
          "output_type": "stream",
          "name": "stdout",
          "text": [
            "                   all        217        505      0.274      0.302      0.233     0.0733\n"
          ]
        },
        {
          "output_type": "stream",
          "name": "stderr",
          "text": [
            "\n"
          ]
        },
        {
          "output_type": "stream",
          "name": "stdout",
          "text": [
            "\n",
            "      Epoch    GPU_mem   box_loss   cls_loss   dfl_loss  Instances       Size\n"
          ]
        },
        {
          "output_type": "stream",
          "name": "stderr",
          "text": [
            "     20/100      18.7G      1.282       1.18      1.516         11       1536: 100%|██████████| 83/83 [00:37<00:00,  2.20it/s]\n",
            "                 Class     Images  Instances      Box(P          R      mAP50  mAP50-95): 100%|██████████| 7/7 [00:03<00:00,  2.22it/s]"
          ]
        },
        {
          "output_type": "stream",
          "name": "stdout",
          "text": [
            "                   all        217        505        0.3      0.301      0.245     0.0862\n"
          ]
        },
        {
          "output_type": "stream",
          "name": "stderr",
          "text": [
            "\n"
          ]
        },
        {
          "output_type": "stream",
          "name": "stdout",
          "text": [
            "\n",
            "      Epoch    GPU_mem   box_loss   cls_loss   dfl_loss  Instances       Size\n"
          ]
        },
        {
          "output_type": "stream",
          "name": "stderr",
          "text": [
            "     21/100      19.2G       1.28       1.13      1.499         20       1536: 100%|██████████| 83/83 [00:37<00:00,  2.20it/s]\n",
            "                 Class     Images  Instances      Box(P          R      mAP50  mAP50-95): 100%|██████████| 7/7 [00:03<00:00,  2.16it/s]"
          ]
        },
        {
          "output_type": "stream",
          "name": "stdout",
          "text": [
            "                   all        217        505      0.303      0.294      0.258     0.0977\n"
          ]
        },
        {
          "output_type": "stream",
          "name": "stderr",
          "text": [
            "\n"
          ]
        },
        {
          "output_type": "stream",
          "name": "stdout",
          "text": [
            "\n",
            "      Epoch    GPU_mem   box_loss   cls_loss   dfl_loss  Instances       Size\n"
          ]
        },
        {
          "output_type": "stream",
          "name": "stderr",
          "text": [
            "     22/100        19G      1.265      1.115      1.491         17       1536: 100%|██████████| 83/83 [00:37<00:00,  2.20it/s]\n",
            "                 Class     Images  Instances      Box(P          R      mAP50  mAP50-95): 100%|██████████| 7/7 [00:03<00:00,  2.19it/s]"
          ]
        },
        {
          "output_type": "stream",
          "name": "stdout",
          "text": [
            "                   all        217        505      0.294      0.259      0.231     0.0715\n"
          ]
        },
        {
          "output_type": "stream",
          "name": "stderr",
          "text": [
            "\n"
          ]
        },
        {
          "output_type": "stream",
          "name": "stdout",
          "text": [
            "\n",
            "      Epoch    GPU_mem   box_loss   cls_loss   dfl_loss  Instances       Size\n"
          ]
        },
        {
          "output_type": "stream",
          "name": "stderr",
          "text": [
            "     23/100      18.7G      1.245      1.055       1.48         30       1536: 100%|██████████| 83/83 [00:37<00:00,  2.20it/s]\n",
            "                 Class     Images  Instances      Box(P          R      mAP50  mAP50-95): 100%|██████████| 7/7 [00:03<00:00,  2.17it/s]"
          ]
        },
        {
          "output_type": "stream",
          "name": "stdout",
          "text": [
            "                   all        217        505      0.249      0.292      0.219     0.0615\n"
          ]
        },
        {
          "output_type": "stream",
          "name": "stderr",
          "text": [
            "\n"
          ]
        },
        {
          "output_type": "stream",
          "name": "stdout",
          "text": [
            "\n",
            "      Epoch    GPU_mem   box_loss   cls_loss   dfl_loss  Instances       Size\n"
          ]
        },
        {
          "output_type": "stream",
          "name": "stderr",
          "text": [
            "     24/100      18.7G      1.237      1.046      1.471         20       1536: 100%|██████████| 83/83 [00:37<00:00,  2.20it/s]\n",
            "                 Class     Images  Instances      Box(P          R      mAP50  mAP50-95): 100%|██████████| 7/7 [00:03<00:00,  2.18it/s]"
          ]
        },
        {
          "output_type": "stream",
          "name": "stdout",
          "text": [
            "                   all        217        505      0.243      0.291      0.221       0.07\n"
          ]
        },
        {
          "output_type": "stream",
          "name": "stderr",
          "text": [
            "\n"
          ]
        },
        {
          "output_type": "stream",
          "name": "stdout",
          "text": [
            "\n",
            "      Epoch    GPU_mem   box_loss   cls_loss   dfl_loss  Instances       Size\n"
          ]
        },
        {
          "output_type": "stream",
          "name": "stderr",
          "text": [
            "     25/100      19.2G      1.233      1.041      1.454         25       1536: 100%|██████████| 83/83 [00:37<00:00,  2.20it/s]\n",
            "                 Class     Images  Instances      Box(P          R      mAP50  mAP50-95): 100%|██████████| 7/7 [00:03<00:00,  2.27it/s]"
          ]
        },
        {
          "output_type": "stream",
          "name": "stdout",
          "text": [
            "                   all        217        505      0.296      0.288      0.237     0.0739\n"
          ]
        },
        {
          "output_type": "stream",
          "name": "stderr",
          "text": [
            "\n"
          ]
        },
        {
          "output_type": "stream",
          "name": "stdout",
          "text": [
            "\n",
            "      Epoch    GPU_mem   box_loss   cls_loss   dfl_loss  Instances       Size\n"
          ]
        },
        {
          "output_type": "stream",
          "name": "stderr",
          "text": [
            "     26/100      19.2G      1.234      1.016      1.448         16       1536: 100%|██████████| 83/83 [00:37<00:00,  2.19it/s]\n",
            "                 Class     Images  Instances      Box(P          R      mAP50  mAP50-95): 100%|██████████| 7/7 [00:03<00:00,  2.22it/s]"
          ]
        },
        {
          "output_type": "stream",
          "name": "stdout",
          "text": [
            "                   all        217        505      0.284       0.31      0.237     0.0768\n"
          ]
        },
        {
          "output_type": "stream",
          "name": "stderr",
          "text": [
            "\n"
          ]
        },
        {
          "output_type": "stream",
          "name": "stdout",
          "text": [
            "\n",
            "      Epoch    GPU_mem   box_loss   cls_loss   dfl_loss  Instances       Size\n"
          ]
        },
        {
          "output_type": "stream",
          "name": "stderr",
          "text": [
            "     27/100      18.5G      1.227      1.002      1.461         20       1536: 100%|██████████| 83/83 [00:37<00:00,  2.20it/s]\n",
            "                 Class     Images  Instances      Box(P          R      mAP50  mAP50-95): 100%|██████████| 7/7 [00:03<00:00,  2.22it/s]"
          ]
        },
        {
          "output_type": "stream",
          "name": "stdout",
          "text": [
            "                   all        217        505      0.266      0.298      0.224     0.0678\n"
          ]
        },
        {
          "output_type": "stream",
          "name": "stderr",
          "text": [
            "\n"
          ]
        },
        {
          "output_type": "stream",
          "name": "stdout",
          "text": [
            "\n",
            "      Epoch    GPU_mem   box_loss   cls_loss   dfl_loss  Instances       Size\n"
          ]
        },
        {
          "output_type": "stream",
          "name": "stderr",
          "text": [
            "     28/100      18.8G      1.227     0.9705       1.45         17       1536: 100%|██████████| 83/83 [00:37<00:00,  2.19it/s]\n",
            "                 Class     Images  Instances      Box(P          R      mAP50  mAP50-95): 100%|██████████| 7/7 [00:03<00:00,  2.22it/s]"
          ]
        },
        {
          "output_type": "stream",
          "name": "stdout",
          "text": [
            "                   all        217        505      0.337      0.307      0.269     0.0903\n"
          ]
        },
        {
          "output_type": "stream",
          "name": "stderr",
          "text": [
            "\n"
          ]
        },
        {
          "output_type": "stream",
          "name": "stdout",
          "text": [
            "\n",
            "      Epoch    GPU_mem   box_loss   cls_loss   dfl_loss  Instances       Size\n"
          ]
        },
        {
          "output_type": "stream",
          "name": "stderr",
          "text": [
            "     29/100      19.2G      1.209     0.9715       1.45         45       1536: 100%|██████████| 83/83 [00:37<00:00,  2.20it/s]\n",
            "                 Class     Images  Instances      Box(P          R      mAP50  mAP50-95): 100%|██████████| 7/7 [00:03<00:00,  2.21it/s]"
          ]
        },
        {
          "output_type": "stream",
          "name": "stdout",
          "text": [
            "                   all        217        505      0.343      0.256      0.258     0.0913\n"
          ]
        },
        {
          "output_type": "stream",
          "name": "stderr",
          "text": [
            "\n"
          ]
        },
        {
          "output_type": "stream",
          "name": "stdout",
          "text": [
            "\n",
            "      Epoch    GPU_mem   box_loss   cls_loss   dfl_loss  Instances       Size\n"
          ]
        },
        {
          "output_type": "stream",
          "name": "stderr",
          "text": [
            "     30/100      18.5G      1.184     0.9419       1.41         22       1536: 100%|██████████| 83/83 [00:37<00:00,  2.20it/s]\n",
            "                 Class     Images  Instances      Box(P          R      mAP50  mAP50-95): 100%|██████████| 7/7 [00:03<00:00,  2.13it/s]"
          ]
        },
        {
          "output_type": "stream",
          "name": "stdout",
          "text": [
            "                   all        217        505      0.267      0.331      0.254     0.0905\n"
          ]
        },
        {
          "output_type": "stream",
          "name": "stderr",
          "text": [
            "\n"
          ]
        },
        {
          "output_type": "stream",
          "name": "stdout",
          "text": [
            "\n",
            "      Epoch    GPU_mem   box_loss   cls_loss   dfl_loss  Instances       Size\n"
          ]
        },
        {
          "output_type": "stream",
          "name": "stderr",
          "text": [
            "     31/100      21.7G      1.169     0.9275      1.419         18       1536: 100%|██████████| 83/83 [00:37<00:00,  2.20it/s]\n",
            "                 Class     Images  Instances      Box(P          R      mAP50  mAP50-95): 100%|██████████| 7/7 [00:03<00:00,  2.22it/s]"
          ]
        },
        {
          "output_type": "stream",
          "name": "stdout",
          "text": [
            "                   all        217        505      0.308       0.31       0.26     0.0994\n"
          ]
        },
        {
          "output_type": "stream",
          "name": "stderr",
          "text": [
            "\n"
          ]
        },
        {
          "output_type": "stream",
          "name": "stdout",
          "text": [
            "\n",
            "      Epoch    GPU_mem   box_loss   cls_loss   dfl_loss  Instances       Size\n"
          ]
        },
        {
          "output_type": "stream",
          "name": "stderr",
          "text": [
            "     32/100      18.9G      1.152     0.9174      1.388         33       1536: 100%|██████████| 83/83 [00:37<00:00,  2.19it/s]\n",
            "                 Class     Images  Instances      Box(P          R      mAP50  mAP50-95): 100%|██████████| 7/7 [00:03<00:00,  2.22it/s]"
          ]
        },
        {
          "output_type": "stream",
          "name": "stdout",
          "text": [
            "                   all        217        505      0.295      0.306      0.257     0.0921\n"
          ]
        },
        {
          "output_type": "stream",
          "name": "stderr",
          "text": [
            "\n"
          ]
        },
        {
          "output_type": "stream",
          "name": "stdout",
          "text": [
            "\n",
            "      Epoch    GPU_mem   box_loss   cls_loss   dfl_loss  Instances       Size\n"
          ]
        },
        {
          "output_type": "stream",
          "name": "stderr",
          "text": [
            "     33/100      18.8G      1.167     0.9022      1.407         14       1536: 100%|██████████| 83/83 [00:37<00:00,  2.20it/s]\n",
            "                 Class     Images  Instances      Box(P          R      mAP50  mAP50-95): 100%|██████████| 7/7 [00:03<00:00,  2.24it/s]"
          ]
        },
        {
          "output_type": "stream",
          "name": "stdout",
          "text": [
            "                   all        217        505      0.347      0.321      0.271     0.0921\n"
          ]
        },
        {
          "output_type": "stream",
          "name": "stderr",
          "text": [
            "\n"
          ]
        },
        {
          "output_type": "stream",
          "name": "stdout",
          "text": [
            "\n",
            "      Epoch    GPU_mem   box_loss   cls_loss   dfl_loss  Instances       Size\n"
          ]
        },
        {
          "output_type": "stream",
          "name": "stderr",
          "text": [
            "     34/100      18.5G      1.176     0.9153      1.409         19       1536: 100%|██████████| 83/83 [00:37<00:00,  2.19it/s]\n",
            "                 Class     Images  Instances      Box(P          R      mAP50  mAP50-95): 100%|██████████| 7/7 [00:03<00:00,  2.19it/s]"
          ]
        },
        {
          "output_type": "stream",
          "name": "stdout",
          "text": [
            "                   all        217        505      0.309       0.33      0.275      0.124\n"
          ]
        },
        {
          "output_type": "stream",
          "name": "stderr",
          "text": [
            "\n"
          ]
        },
        {
          "output_type": "stream",
          "name": "stdout",
          "text": [
            "\n",
            "      Epoch    GPU_mem   box_loss   cls_loss   dfl_loss  Instances       Size\n"
          ]
        },
        {
          "output_type": "stream",
          "name": "stderr",
          "text": [
            "     35/100      18.7G      1.125     0.8842      1.373         16       1536: 100%|██████████| 83/83 [00:37<00:00,  2.20it/s]\n",
            "                 Class     Images  Instances      Box(P          R      mAP50  mAP50-95): 100%|██████████| 7/7 [00:03<00:00,  2.19it/s]"
          ]
        },
        {
          "output_type": "stream",
          "name": "stdout",
          "text": [
            "                   all        217        505      0.302      0.359      0.278      0.103\n"
          ]
        },
        {
          "output_type": "stream",
          "name": "stderr",
          "text": [
            "\n"
          ]
        },
        {
          "output_type": "stream",
          "name": "stdout",
          "text": [
            "\n",
            "      Epoch    GPU_mem   box_loss   cls_loss   dfl_loss  Instances       Size\n"
          ]
        },
        {
          "output_type": "stream",
          "name": "stderr",
          "text": [
            "     36/100      18.8G      1.156     0.9073      1.414         10       1536: 100%|██████████| 83/83 [00:37<00:00,  2.20it/s]\n",
            "                 Class     Images  Instances      Box(P          R      mAP50  mAP50-95): 100%|██████████| 7/7 [00:03<00:00,  2.20it/s]"
          ]
        },
        {
          "output_type": "stream",
          "name": "stdout",
          "text": [
            "                   all        217        505      0.332      0.282      0.248     0.0831\n"
          ]
        },
        {
          "output_type": "stream",
          "name": "stderr",
          "text": [
            "\n"
          ]
        },
        {
          "output_type": "stream",
          "name": "stdout",
          "text": [
            "\n",
            "      Epoch    GPU_mem   box_loss   cls_loss   dfl_loss  Instances       Size\n"
          ]
        },
        {
          "output_type": "stream",
          "name": "stderr",
          "text": [
            "     37/100      18.6G      1.124     0.8769      1.385         26       1536: 100%|██████████| 83/83 [00:37<00:00,  2.20it/s]\n",
            "                 Class     Images  Instances      Box(P          R      mAP50  mAP50-95): 100%|██████████| 7/7 [00:03<00:00,  2.28it/s]"
          ]
        },
        {
          "output_type": "stream",
          "name": "stdout",
          "text": [
            "                   all        217        505       0.36       0.28      0.256     0.0839\n"
          ]
        },
        {
          "output_type": "stream",
          "name": "stderr",
          "text": [
            "\n"
          ]
        },
        {
          "output_type": "stream",
          "name": "stdout",
          "text": [
            "\n",
            "      Epoch    GPU_mem   box_loss   cls_loss   dfl_loss  Instances       Size\n"
          ]
        },
        {
          "output_type": "stream",
          "name": "stderr",
          "text": [
            "     38/100      19.2G      1.118     0.8438      1.381         17       1536: 100%|██████████| 83/83 [00:37<00:00,  2.20it/s]\n",
            "                 Class     Images  Instances      Box(P          R      mAP50  mAP50-95): 100%|██████████| 7/7 [00:03<00:00,  2.16it/s]"
          ]
        },
        {
          "output_type": "stream",
          "name": "stdout",
          "text": [
            "                   all        217        505      0.245      0.304      0.222      0.068\n"
          ]
        },
        {
          "output_type": "stream",
          "name": "stderr",
          "text": [
            "\n"
          ]
        },
        {
          "output_type": "stream",
          "name": "stdout",
          "text": [
            "\n",
            "      Epoch    GPU_mem   box_loss   cls_loss   dfl_loss  Instances       Size\n"
          ]
        },
        {
          "output_type": "stream",
          "name": "stderr",
          "text": [
            "     39/100      18.7G      1.115     0.8245      1.358         22       1536: 100%|██████████| 83/83 [00:37<00:00,  2.20it/s]\n",
            "                 Class     Images  Instances      Box(P          R      mAP50  mAP50-95): 100%|██████████| 7/7 [00:03<00:00,  2.22it/s]"
          ]
        },
        {
          "output_type": "stream",
          "name": "stdout",
          "text": [
            "                   all        217        505      0.303      0.292      0.259      0.101\n"
          ]
        },
        {
          "output_type": "stream",
          "name": "stderr",
          "text": [
            "\n"
          ]
        },
        {
          "output_type": "stream",
          "name": "stdout",
          "text": [
            "\n",
            "      Epoch    GPU_mem   box_loss   cls_loss   dfl_loss  Instances       Size\n"
          ]
        },
        {
          "output_type": "stream",
          "name": "stderr",
          "text": [
            "     40/100      18.8G      1.073     0.7827      1.334         20       1536: 100%|██████████| 83/83 [00:37<00:00,  2.19it/s]\n",
            "                 Class     Images  Instances      Box(P          R      mAP50  mAP50-95): 100%|██████████| 7/7 [00:03<00:00,  2.17it/s]"
          ]
        },
        {
          "output_type": "stream",
          "name": "stdout",
          "text": [
            "                   all        217        505      0.293      0.335      0.275      0.114\n"
          ]
        },
        {
          "output_type": "stream",
          "name": "stderr",
          "text": [
            "\n"
          ]
        },
        {
          "output_type": "stream",
          "name": "stdout",
          "text": [
            "\n",
            "      Epoch    GPU_mem   box_loss   cls_loss   dfl_loss  Instances       Size\n"
          ]
        },
        {
          "output_type": "stream",
          "name": "stderr",
          "text": [
            "     41/100      19.2G      1.091     0.8118      1.343         16       1536: 100%|██████████| 83/83 [00:37<00:00,  2.19it/s]\n",
            "                 Class     Images  Instances      Box(P          R      mAP50  mAP50-95): 100%|██████████| 7/7 [00:03<00:00,  2.25it/s]"
          ]
        },
        {
          "output_type": "stream",
          "name": "stdout",
          "text": [
            "                   all        217        505      0.336      0.295      0.272      0.103\n"
          ]
        },
        {
          "output_type": "stream",
          "name": "stderr",
          "text": [
            "\n"
          ]
        },
        {
          "output_type": "stream",
          "name": "stdout",
          "text": [
            "\n",
            "      Epoch    GPU_mem   box_loss   cls_loss   dfl_loss  Instances       Size\n"
          ]
        },
        {
          "output_type": "stream",
          "name": "stderr",
          "text": [
            "     42/100        19G      1.055     0.7999      1.325         15       1536: 100%|██████████| 83/83 [00:37<00:00,  2.20it/s]\n",
            "                 Class     Images  Instances      Box(P          R      mAP50  mAP50-95): 100%|██████████| 7/7 [00:03<00:00,  2.14it/s]"
          ]
        },
        {
          "output_type": "stream",
          "name": "stdout",
          "text": [
            "                   all        217        505      0.354      0.299      0.278      0.103\n"
          ]
        },
        {
          "output_type": "stream",
          "name": "stderr",
          "text": [
            "\n"
          ]
        },
        {
          "output_type": "stream",
          "name": "stdout",
          "text": [
            "\n",
            "      Epoch    GPU_mem   box_loss   cls_loss   dfl_loss  Instances       Size\n"
          ]
        },
        {
          "output_type": "stream",
          "name": "stderr",
          "text": [
            "     43/100      19.2G      1.105     0.8031      1.355         17       1536: 100%|██████████| 83/83 [00:37<00:00,  2.20it/s]\n",
            "                 Class     Images  Instances      Box(P          R      mAP50  mAP50-95): 100%|██████████| 7/7 [00:03<00:00,  2.23it/s]"
          ]
        },
        {
          "output_type": "stream",
          "name": "stdout",
          "text": [
            "                   all        217        505      0.345      0.304      0.283      0.117\n"
          ]
        },
        {
          "output_type": "stream",
          "name": "stderr",
          "text": [
            "\n"
          ]
        },
        {
          "output_type": "stream",
          "name": "stdout",
          "text": [
            "\n",
            "      Epoch    GPU_mem   box_loss   cls_loss   dfl_loss  Instances       Size\n"
          ]
        },
        {
          "output_type": "stream",
          "name": "stderr",
          "text": [
            "     44/100      18.8G      1.088      0.786       1.35         18       1536: 100%|██████████| 83/83 [00:37<00:00,  2.19it/s]\n",
            "                 Class     Images  Instances      Box(P          R      mAP50  mAP50-95): 100%|██████████| 7/7 [00:03<00:00,  2.18it/s]"
          ]
        },
        {
          "output_type": "stream",
          "name": "stdout",
          "text": [
            "                   all        217        505      0.341      0.285      0.274     0.0961\n"
          ]
        },
        {
          "output_type": "stream",
          "name": "stderr",
          "text": [
            "\n"
          ]
        },
        {
          "output_type": "stream",
          "name": "stdout",
          "text": [
            "\n",
            "      Epoch    GPU_mem   box_loss   cls_loss   dfl_loss  Instances       Size\n"
          ]
        },
        {
          "output_type": "stream",
          "name": "stderr",
          "text": [
            "     45/100      19.4G      1.059      0.784      1.329         30       1536: 100%|██████████| 83/83 [00:37<00:00,  2.20it/s]\n",
            "                 Class     Images  Instances      Box(P          R      mAP50  mAP50-95): 100%|██████████| 7/7 [00:03<00:00,  2.19it/s]"
          ]
        },
        {
          "output_type": "stream",
          "name": "stdout",
          "text": [
            "                   all        217        505      0.322      0.336      0.281      0.108\n"
          ]
        },
        {
          "output_type": "stream",
          "name": "stderr",
          "text": [
            "\n"
          ]
        },
        {
          "output_type": "stream",
          "name": "stdout",
          "text": [
            "\n",
            "      Epoch    GPU_mem   box_loss   cls_loss   dfl_loss  Instances       Size\n"
          ]
        },
        {
          "output_type": "stream",
          "name": "stderr",
          "text": [
            "     46/100        19G      1.071     0.7921      1.327         23       1536: 100%|██████████| 83/83 [00:37<00:00,  2.19it/s]\n",
            "                 Class     Images  Instances      Box(P          R      mAP50  mAP50-95): 100%|██████████| 7/7 [00:03<00:00,  2.20it/s]"
          ]
        },
        {
          "output_type": "stream",
          "name": "stdout",
          "text": [
            "                   all        217        505      0.288      0.317      0.263     0.0948\n"
          ]
        },
        {
          "output_type": "stream",
          "name": "stderr",
          "text": [
            "\n"
          ]
        },
        {
          "output_type": "stream",
          "name": "stdout",
          "text": [
            "\n",
            "      Epoch    GPU_mem   box_loss   cls_loss   dfl_loss  Instances       Size\n"
          ]
        },
        {
          "output_type": "stream",
          "name": "stderr",
          "text": [
            "     47/100      19.7G      1.082     0.7975      1.347         31       1536: 100%|██████████| 83/83 [00:37<00:00,  2.19it/s]\n",
            "                 Class     Images  Instances      Box(P          R      mAP50  mAP50-95): 100%|██████████| 7/7 [00:03<00:00,  2.22it/s]"
          ]
        },
        {
          "output_type": "stream",
          "name": "stdout",
          "text": [
            "                   all        217        505      0.307      0.347      0.284      0.106\n"
          ]
        },
        {
          "output_type": "stream",
          "name": "stderr",
          "text": [
            "\n"
          ]
        },
        {
          "output_type": "stream",
          "name": "stdout",
          "text": [
            "\n",
            "      Epoch    GPU_mem   box_loss   cls_loss   dfl_loss  Instances       Size\n"
          ]
        },
        {
          "output_type": "stream",
          "name": "stderr",
          "text": [
            "     48/100      21.9G      1.079     0.7933      1.343         40       1536: 100%|██████████| 83/83 [00:37<00:00,  2.20it/s]\n",
            "                 Class     Images  Instances      Box(P          R      mAP50  mAP50-95): 100%|██████████| 7/7 [00:03<00:00,  2.19it/s]"
          ]
        },
        {
          "output_type": "stream",
          "name": "stdout",
          "text": [
            "                   all        217        505      0.346      0.298      0.268     0.0993\n"
          ]
        },
        {
          "output_type": "stream",
          "name": "stderr",
          "text": [
            "\n"
          ]
        },
        {
          "output_type": "stream",
          "name": "stdout",
          "text": [
            "\n",
            "      Epoch    GPU_mem   box_loss   cls_loss   dfl_loss  Instances       Size\n"
          ]
        },
        {
          "output_type": "stream",
          "name": "stderr",
          "text": [
            "     49/100      18.9G      1.061     0.7553      1.318         29       1536: 100%|██████████| 83/83 [00:37<00:00,  2.19it/s]\n",
            "                 Class     Images  Instances      Box(P          R      mAP50  mAP50-95): 100%|██████████| 7/7 [00:03<00:00,  2.19it/s]"
          ]
        },
        {
          "output_type": "stream",
          "name": "stdout",
          "text": [
            "                   all        217        505      0.296      0.353      0.283      0.113\n",
            "\u001b[34m\u001b[1mEarlyStopping: \u001b[0mTraining stopped early as no improvement observed in last 15 epochs. Best results observed at epoch 34, best model saved as best.pt.\n",
            "To update EarlyStopping(patience=15) pass a new patience value, i.e. `patience=300` or use `patience=0` to disable EarlyStopping.\n"
          ]
        },
        {
          "output_type": "stream",
          "name": "stderr",
          "text": [
            "\n"
          ]
        },
        {
          "output_type": "stream",
          "name": "stdout",
          "text": [
            "\n",
            "49 epochs completed in 0.583 hours.\n",
            "Optimizer stripped from runs/detect/train/weights/last.pt, 87.8MB\n",
            "Optimizer stripped from runs/detect/train/weights/best.pt, 87.8MB\n",
            "\n",
            "Validating runs/detect/train/weights/best.pt...\n",
            "Ultralytics 8.3.31 🚀 Python-3.10.12 torch-2.5.0+cu121 CUDA:0 (NVIDIA A100-SXM4-40GB, 40514MiB)\n",
            "Model summary (fused): 268 layers, 43,612,776 parameters, 0 gradients, 164.8 GFLOPs\n"
          ]
        },
        {
          "output_type": "stream",
          "name": "stderr",
          "text": [
            "                 Class     Images  Instances      Box(P          R      mAP50  mAP50-95): 100%|██████████| 7/7 [00:03<00:00,  1.75it/s]\n"
          ]
        },
        {
          "output_type": "stream",
          "name": "stdout",
          "text": [
            "                   all        217        505      0.309      0.322      0.275      0.124\n",
            "          Plastic film         52         81      0.371      0.342      0.243       0.11\n",
            "      Unlabeled litter         51         75          0          0          0          0\n",
            "             Cigarette         49        136      0.371      0.346      0.266      0.118\n",
            "  Clear plastic bottle         45         51       0.51      0.529       0.56      0.253\n",
            "    Plastic bottle cap         37         40      0.403      0.425      0.377      0.147\n",
            " Other plastic wrapper         28         41      0.353      0.319      0.262      0.112\n",
            "         Other plastic         27         34      0.465      0.618       0.49      0.249\n",
            "             Drink can         34         47          0          0          0          0\n",
            "Speed: 0.7ms preprocess, 10.5ms inference, 0.0ms loss, 2.6ms postprocess per image\n",
            "Results saved to \u001b[1mruns/detect/train\u001b[0m\n"
          ]
        }
      ],
      "source": [
        "from ultralytics import YOLO\n",
        "\n",
        "# change the model as needed\n",
        "model = YOLO('yolov8l.pt')\n",
        "\n",
        "results = model.train(data='data.yaml', cfg='hyp.yaml')"
      ]
    },
    {
      "cell_type": "code",
      "source": [],
      "metadata": {
        "id": "qprCbbvJQqCx"
      },
      "execution_count": null,
      "outputs": []
    }
  ],
  "metadata": {
    "kernelspec": {
      "display_name": "Python 3",
      "name": "python3"
    },
    "language_info": {
      "codemirror_mode": {
        "name": "ipython",
        "version": 3
      },
      "file_extension": ".py",
      "mimetype": "text/x-python",
      "name": "python",
      "nbconvert_exporter": "python",
      "pygments_lexer": "ipython3",
      "version": "3.10.0"
    },
    "colab": {
      "provenance": [],
      "gpuType": "A100"
    },
    "accelerator": "GPU"
  },
  "nbformat": 4,
  "nbformat_minor": 0
}