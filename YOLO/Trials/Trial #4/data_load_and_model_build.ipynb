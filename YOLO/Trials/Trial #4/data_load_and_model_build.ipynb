{
  "cells": [
    {
      "cell_type": "markdown",
      "metadata": {
        "id": "QEU_R-4v8fu5"
      },
      "source": [
        "## load base files"
      ]
    },
    {
      "cell_type": "code",
      "execution_count": 1,
      "metadata": {
        "colab": {
          "base_uri": "https://localhost:8080/"
        },
        "id": "ALjMJC9K8fu6",
        "outputId": "1833c4b5-aee1-4c67-b6a2-8d48ce1cd104"
      },
      "outputs": [
        {
          "output_type": "stream",
          "name": "stdout",
          "text": [
            "Cloning into 'TACO'...\n",
            "remote: Enumerating objects: 740, done.\u001b[K\n",
            "remote: Counting objects: 100% (435/435), done.\u001b[K\n",
            "remote: Compressing objects: 100% (55/55), done.\u001b[K\n",
            "remote: Total 740 (delta 416), reused 380 (delta 380), pack-reused 305 (from 1)\u001b[K\n",
            "Receiving objects: 100% (740/740), 97.48 MiB | 16.32 MiB/s, done.\n",
            "Resolving deltas: 100% (499/499), done.\n"
          ]
        }
      ],
      "source": [
        "!git clone https://github.com/pedropro/TACO.git"
      ]
    },
    {
      "cell_type": "code",
      "execution_count": 2,
      "metadata": {
        "colab": {
          "base_uri": "https://localhost:8080/"
        },
        "id": "lZgzGoCH8fu6",
        "outputId": "6f0ba8fe-0730-4a04-bf39-5647efca57b2"
      },
      "outputs": [
        {
          "output_type": "stream",
          "name": "stdout",
          "text": [
            "/content/TACO\n",
            "Note. If for any reason the connection is broken. Just call me again and I will start where I left.\n",
            "Finished\n",
            "/content\n"
          ]
        }
      ],
      "source": [
        "%cd TACO\n",
        "! python download.py\n",
        "%cd .."
      ]
    },
    {
      "cell_type": "code",
      "execution_count": 3,
      "metadata": {
        "colab": {
          "base_uri": "https://localhost:8080/"
        },
        "id": "craRGteV8fu7",
        "outputId": "bb93b6da-3976-4f1a-cc6d-514e49c4e5b9"
      },
      "outputs": [
        {
          "output_type": "stream",
          "name": "stdout",
          "text": [
            "Total number of batches: 15\n"
          ]
        }
      ],
      "source": [
        "import os\n",
        "\n",
        "# Check the number of batch folders downloaded\n",
        "data_path = 'TACO/data/'\n",
        "batches = [folder for folder in os.listdir(data_path) if folder.startswith('batch_')]\n",
        "print(f\"Total number of batches: {len(batches)}\")"
      ]
    },
    {
      "cell_type": "code",
      "execution_count": 4,
      "metadata": {
        "colab": {
          "base_uri": "https://localhost:8080/"
        },
        "id": "UE3fSYRF8fu7",
        "outputId": "8da7a633-4e7c-48de-b26d-2c42ea2e9376"
      },
      "outputs": [
        {
          "output_type": "stream",
          "name": "stdout",
          "text": [
            "Number of images: 1500\n",
            "Number of categories: 60\n",
            "Number of annotations: 4784\n"
          ]
        }
      ],
      "source": [
        "import json\n",
        "import os\n",
        "\n",
        "# Path to the annotations file\n",
        "annotations_path = 'TACO/data/annotations.json'\n",
        "\n",
        "# Check if the annotations file exists\n",
        "if os.path.exists(annotations_path):\n",
        "    with open(annotations_path, 'r') as f:\n",
        "        data = json.load(f)\n",
        "\n",
        "    # Get the number of images, categories, and annotations\n",
        "    num_images = len(data['images'])  # List of images\n",
        "    num_categories = len(data['categories'])  # List of categories\n",
        "    num_annotations = len(data['annotations'])  # List of annotations\n",
        "\n",
        "    print(f\"Number of images: {num_images}\")\n",
        "    print(f\"Number of categories: {num_categories}\")\n",
        "    print(f\"Number of annotations: {num_annotations}\")\n",
        "else:\n",
        "    print(f\"Annotations file not found at: {annotations_path}\")\n"
      ]
    },
    {
      "cell_type": "code",
      "execution_count": 5,
      "metadata": {
        "id": "RSlnpL-I8fu8"
      },
      "outputs": [],
      "source": [
        "import json\n",
        "\n",
        "# Load the annotations file\n",
        "with open('TACO/data/annotations.json') as f:\n",
        "    data = json.load(f)"
      ]
    },
    {
      "cell_type": "markdown",
      "metadata": {
        "id": "wlz2tuo_8fu8"
      },
      "source": [
        "## convert data into yolo format"
      ]
    },
    {
      "cell_type": "code",
      "execution_count": 6,
      "metadata": {
        "colab": {
          "base_uri": "https://localhost:8080/"
        },
        "id": "pyaGmPHe8fu8",
        "outputId": "715ad621-3848-4c0e-e622-77c2d79f05f8"
      },
      "outputs": [
        {
          "output_type": "stream",
          "name": "stdout",
          "text": [
            "Total number of images processed: 1500\n"
          ]
        }
      ],
      "source": [
        "import json\n",
        "import os\n",
        "from pathlib import Path\n",
        "import shutil\n",
        "\n",
        "# Paths to your TACO dataset\n",
        "coco_json_path = 'TACO/data/annotations.json'  # Path to TACO's annotations file\n",
        "images_dir = 'TACO/data'                       # Path to TACO's main image directory with batch subfolders\n",
        "output_dir = 'yolo_top_categories'             # Base directory for YOLO format\n",
        "\n",
        "# Ensure output directories for images and labels\n",
        "Path(output_dir, 'images').mkdir(parents=True, exist_ok=True)\n",
        "Path(output_dir, 'labels').mkdir(parents=True, exist_ok=True)\n",
        "\n",
        "# Load TACO annotations\n",
        "with open(coco_json_path, 'r') as f:\n",
        "    data = json.load(f)\n",
        "\n",
        "# Get category mappings\n",
        "categories = {category['id']: category['name'] for category in data['categories']}\n",
        "\n",
        "# Counter for unique filenames\n",
        "file_counter = 1\n",
        "\n",
        "# Process each image and corresponding annotations\n",
        "for img in data['images']:\n",
        "    img_id = img['id']\n",
        "    img_file_name = img['file_name']  # This should be in the format 'batch_x/filename.jpg'\n",
        "    img_width, img_height = img['width'], img['height']\n",
        "\n",
        "    # Derive the image path within one of the 15 batch folders\n",
        "    img_path = os.path.join(images_dir, img_file_name)\n",
        "\n",
        "    # Create a unique integer-based name for each image and label\n",
        "    unique_name = str(file_counter)\n",
        "    img_extension = os.path.splitext(img_file_name)[1]  # Preserve the original extension (e.g., .jpg, .png)\n",
        "\n",
        "    # Copy image to the images directory with the new unique name\n",
        "    output_image_path = os.path.join(output_dir, 'images', unique_name + img_extension)\n",
        "    if os.path.exists(img_path):\n",
        "        shutil.copy(img_path, output_image_path)\n",
        "\n",
        "        # Create a corresponding label file with the same unique integer name\n",
        "        label_file_path = os.path.join(output_dir, 'labels', unique_name + '.txt')\n",
        "        with open(label_file_path, 'w') as label_file:\n",
        "            # Find all annotations for the current image\n",
        "            for ann in data['annotations']:\n",
        "                if ann['image_id'] == img_id:\n",
        "                    category_id = ann['category_id']\n",
        "                    # Ensure the category is in our mapping\n",
        "                    if category_id in categories:\n",
        "                        # YOLO format requires x_center, y_center, width, and height normalized\n",
        "                        x, y, width, height = ann['bbox']\n",
        "                        x_center = (x + width / 2) / img_width\n",
        "                        y_center = (y + height / 2) / img_height\n",
        "                        width /= img_width\n",
        "                        height /= img_height\n",
        "\n",
        "                        # Write the label file in YOLO format: <class_id> <x_center> <y_center> <width> <height>\n",
        "                        label_file.write(f\"{category_id} {x_center} {y_center} {width} {height}\\n\")\n",
        "\n",
        "        # Increment the counter for the next file\n",
        "        file_counter += 1\n",
        "\n",
        "# Print the total number of images moved\n",
        "print(f\"Total number of images processed: {file_counter - 1}\")"
      ]
    },
    {
      "cell_type": "markdown",
      "metadata": {
        "id": "TwkMm1Dq8fu8"
      },
      "source": [
        "## deleting unwanted categories"
      ]
    },
    {
      "cell_type": "code",
      "execution_count": 7,
      "metadata": {
        "colab": {
          "base_uri": "https://localhost:8080/"
        },
        "id": "Fzf3HURN8fu8",
        "outputId": "4ac28cf3-bc6a-48c7-8cf0-171d40c1742e"
      },
      "outputs": [
        {
          "output_type": "stream",
          "name": "stdout",
          "text": [
            "Label files have been updated with only the specified categories and new IDs.\n"
          ]
        }
      ],
      "source": [
        "import os\n",
        "import json\n",
        "\n",
        "# Step 1: Define the category mapping for the categories of interest\n",
        "desired_categories = {\n",
        "    36: 0,  # Plastic film\n",
        "    58: 1,  # Unlabeled litter\n",
        "    59: 2,  # Cigarette\n",
        "    5: 3,   # Clear plastic bottle\n",
        "    7: 4,   # Plastic bottle cap\n",
        "    39: 5,  # Other plastic wrapper\n",
        "    12: 6,  # Drink can\n",
        "    29: 7,  # Other plastic\n",
        "}\n",
        "\n",
        "# Step 2: Define path to annotations and labels directory\n",
        "\n",
        "label_dir = 'yolo_top_categories/labels'\n",
        "\n",
        "# Step 3: Initialize counters for total images and deleted images\n",
        "total_images = len(data['images'])\n",
        "deleted_image_ids = set()\n",
        "\n",
        "# Step 4: Loop through annotations and filter out unwanted categories\n",
        "for ann in data['annotations']:\n",
        "    if ann['category_id'] not in desired_categories:\n",
        "        deleted_image_ids.add(ann['image_id'])  # Mark images to be deleted\n",
        "\n",
        "# Step 5: Update the label files to reflect only desired categories and new IDs\n",
        "for label_file in os.listdir(label_dir):\n",
        "    label_file_path = os.path.join(label_dir, label_file)\n",
        "\n",
        "    # Read the original label data\n",
        "    with open(label_file_path, 'r') as file:\n",
        "        lines = file.readlines()\n",
        "\n",
        "    # Prepare a list to hold the updated lines\n",
        "    updated_lines = []\n",
        "\n",
        "    # Process each line in the label file\n",
        "    for line in lines:\n",
        "        parts = line.strip().split()\n",
        "        category_id = int(parts[0])\n",
        "\n",
        "        # Check if the category ID is in the desired mapping\n",
        "        if category_id in desired_categories:\n",
        "            # Update the category ID to the new mapping\n",
        "            new_category_id = desired_categories[category_id]\n",
        "\n",
        "            # Create the updated line with the new category ID\n",
        "            updated_line = f\"{new_category_id} \" + \" \".join(parts[1:]) + \"\\n\"\n",
        "            updated_lines.append(updated_line)\n",
        "\n",
        "    # Write the updated lines back to the label file\n",
        "    with open(label_file_path, 'w') as file:\n",
        "        file.writelines(updated_lines)\n",
        "\n",
        "print(\"Label files have been updated with only the specified categories and new IDs.\")"
      ]
    },
    {
      "cell_type": "markdown",
      "metadata": {
        "id": "PvesH-yc8fu9"
      },
      "source": [
        "## delete files that don't contain objects of interest"
      ]
    },
    {
      "cell_type": "code",
      "execution_count": 8,
      "metadata": {
        "colab": {
          "base_uri": "https://localhost:8080/"
        },
        "id": "a-qbG8e58fu9",
        "outputId": "494caea1-83cf-45aa-d8c3-682204a50af9"
      },
      "outputs": [
        {
          "output_type": "stream",
          "name": "stdout",
          "text": [
            "Total number of files deleted (label and image): 828\n"
          ]
        }
      ],
      "source": [
        "import os\n",
        "\n",
        "# Path to the base directory containing unified 'images' and 'labels' folders\n",
        "base_dir = 'yolo_top_categories'  # Adjust if necessary\n",
        "label_dir = os.path.join(base_dir, 'labels')\n",
        "image_dir = os.path.join(base_dir, 'images')\n",
        "\n",
        "# Initialize a counter for deleted files\n",
        "total_deleted_files = 0\n",
        "\n",
        "# Loop over each label file in the labels directory\n",
        "for label_file in os.listdir(label_dir):\n",
        "    label_file_path = os.path.join(label_dir, label_file)\n",
        "\n",
        "    # Check if the label file is empty\n",
        "    if os.path.getsize(label_file_path) == 0:\n",
        "        # Construct possible image file paths\n",
        "        base_image_name = os.path.splitext(label_file)[0]\n",
        "        image_file_path_jpg = os.path.join(image_dir, base_image_name + '.jpg')\n",
        "        image_file_path_jpg_upper = os.path.join(image_dir, base_image_name + '.JPG')\n",
        "\n",
        "        # Delete the label file\n",
        "        os.remove(label_file_path)\n",
        "        total_deleted_files += 1\n",
        "\n",
        "        # Delete the associated image file if it exists\n",
        "        if os.path.exists(image_file_path_jpg):\n",
        "            os.remove(image_file_path_jpg)\n",
        "            total_deleted_files += 1\n",
        "        elif os.path.exists(image_file_path_jpg_upper):\n",
        "            os.remove(image_file_path_jpg_upper)\n",
        "            total_deleted_files += 1\n",
        "\n",
        "# Print the total number of files deleted\n",
        "print(f\"Total number of files deleted (label and image): {total_deleted_files}\")"
      ]
    },
    {
      "cell_type": "markdown",
      "metadata": {
        "id": "eFKmqxeL8fu9"
      },
      "source": [
        "## split the data into train/val/test sections"
      ]
    },
    {
      "cell_type": "code",
      "execution_count": 9,
      "metadata": {
        "colab": {
          "base_uri": "https://localhost:8080/"
        },
        "id": "TQA9Sj6a8fu9",
        "outputId": "22753772-0c64-48e5-8fc5-c37afceaeef5"
      },
      "outputs": [
        {
          "output_type": "stream",
          "name": "stdout",
          "text": [
            "Number of images in train: 760\n",
            "Number of images in val: 217\n",
            "Number of images in test: 109\n"
          ]
        }
      ],
      "source": [
        "import shutil\n",
        "import random\n",
        "\n",
        "random.seed(42)\n",
        "\n",
        "# Set the split ratios\n",
        "train_ratio = 0.7\n",
        "val_ratio = 0.2\n",
        "test_ratio = 0.1\n",
        "\n",
        "# Ensure output directories for each split\n",
        "for split in ['train', 'val', 'test']:\n",
        "    os.makedirs(os.path.join(base_dir, split, 'images'), exist_ok=True)\n",
        "    os.makedirs(os.path.join(base_dir, split, 'labels'), exist_ok=True)\n",
        "\n",
        "# Get a list of all images and shuffle them\n",
        "all_images = [f for f in os.listdir(image_dir) if os.path.isfile(os.path.join(image_dir, f))]\n",
        "random.shuffle(all_images)\n",
        "\n",
        "# Calculate split sizes\n",
        "num_train = int(len(all_images) * train_ratio)\n",
        "num_val = int(len(all_images) * val_ratio)\n",
        "\n",
        "# Assign images to each split\n",
        "train_images = all_images[:num_train]\n",
        "val_images = all_images[num_train:num_train + num_val]\n",
        "test_images = all_images[num_train + num_val:]\n",
        "\n",
        "# Move files to their respective split directories\n",
        "for split, images in zip(['train', 'val', 'test'], [train_images, val_images, test_images]):\n",
        "    for image_file in images:\n",
        "        # Move image file\n",
        "        src_image_path = os.path.join(image_dir, image_file)\n",
        "        dst_image_path = os.path.join(base_dir, split, 'images', image_file)\n",
        "        shutil.move(src_image_path, dst_image_path)\n",
        "\n",
        "        # Move corresponding label file\n",
        "        label_file = os.path.splitext(image_file)[0] + '.txt'\n",
        "        src_label_path = os.path.join(label_dir, label_file)\n",
        "        dst_label_path = os.path.join(base_dir, split, 'labels', label_file)\n",
        "        if os.path.exists(src_label_path):  # Ensure corresponding label file exists\n",
        "            shutil.move(src_label_path, dst_label_path)\n",
        "\n",
        "# Print the number of images in each split\n",
        "print(f\"Number of images in train: {len(train_images)}\")\n",
        "print(f\"Number of images in val: {len(val_images)}\")\n",
        "print(f\"Number of images in test: {len(test_images)}\")"
      ]
    },
    {
      "cell_type": "markdown",
      "metadata": {
        "id": "wljyPnFD8fu9"
      },
      "source": [
        "## delete images under yolo_top_categories/images and labels"
      ]
    },
    {
      "cell_type": "code",
      "execution_count": 10,
      "metadata": {
        "colab": {
          "base_uri": "https://localhost:8080/"
        },
        "id": "BiDWymCV8fu9",
        "outputId": "35da8abc-6298-4d7c-de25-d9a3eb2bed04"
      },
      "outputs": [
        {
          "output_type": "stream",
          "name": "stdout",
          "text": [
            "Original images and labels directories have been deleted.\n"
          ]
        }
      ],
      "source": [
        "# Paths to the original images and labels directories\n",
        "image_dir = os.path.join(base_dir, 'images')\n",
        "label_dir = os.path.join(base_dir, 'labels')\n",
        "\n",
        "# Delete the original images and labels directories\n",
        "if os.path.exists(image_dir):\n",
        "    shutil.rmtree(image_dir)\n",
        "\n",
        "if os.path.exists(label_dir):\n",
        "    shutil.rmtree(label_dir)\n",
        "\n",
        "print(\"Original images and labels directories have been deleted.\")"
      ]
    },
    {
      "cell_type": "code",
      "execution_count": 11,
      "metadata": {
        "colab": {
          "base_uri": "https://localhost:8080/"
        },
        "id": "ZkF20cBg8fu-",
        "outputId": "216bb330-1a1e-4276-d2d2-9550f95906df"
      },
      "outputs": [
        {
          "output_type": "stream",
          "name": "stdout",
          "text": [
            "Class distribution in the training set:\n",
            "Class 0: 322 instances\n",
            "Class 1: 400 instances\n",
            "Class 4: 153 instances\n",
            "Class 6: 181 instances\n",
            "Class 2: 483 instances\n",
            "Class 7: 194 instances\n",
            "Class 3: 216 instances\n",
            "Class 5: 201 instances\n"
          ]
        }
      ],
      "source": [
        "import os\n",
        "from collections import Counter\n",
        "\n",
        "def count_class_instances(label_dir):\n",
        "    class_counts = Counter()\n",
        "    for label_file in os.listdir(label_dir):\n",
        "        label_file_path = os.path.join(label_dir, label_file)\n",
        "        with open(label_file_path, 'r') as f:\n",
        "            lines = f.readlines()\n",
        "            for line in lines:\n",
        "                class_id = int(line.strip().split()[0])\n",
        "                class_counts[class_id] += 1\n",
        "    return class_counts\n",
        "\n",
        "# Paths to training labels\n",
        "train_label_dir = os.path.join(base_dir, 'train', 'labels')\n",
        "\n",
        "# Get class counts\n",
        "class_counts = count_class_instances(train_label_dir)\n",
        "\n",
        "print(\"Class distribution in the training set:\")\n",
        "for class_id, count in class_counts.items():\n",
        "    print(f\"Class {class_id}: {count} instances\")\n"
      ]
    },
    {
      "cell_type": "code",
      "execution_count": 12,
      "metadata": {
        "colab": {
          "base_uri": "https://localhost:8080/"
        },
        "id": "UOS4tWDf8fu-",
        "outputId": "f1a8b545-f902-4fee-da95-1bc653008cc6"
      },
      "outputs": [
        {
          "output_type": "stream",
          "name": "stdout",
          "text": [
            "\n",
            "Underrepresented classes:\n",
            "Class 4: 153 instances\n",
            "Class 6: 181 instances\n",
            "Class 7: 194 instances\n",
            "Class 3: 216 instances\n",
            "Class 5: 201 instances\n"
          ]
        }
      ],
      "source": [
        "# Determine the threshold for underrepresentation (e.g., 50% of the max count)\n",
        "max_count = max(class_counts.values())\n",
        "threshold = 0.65 * max_count\n",
        "\n",
        "# Identify underrepresented classes\n",
        "underrepresented_classes = [class_id for class_id, count in class_counts.items() if count < threshold]\n",
        "\n",
        "print(\"\\nUnderrepresented classes:\")\n",
        "for class_id in underrepresented_classes:\n",
        "    print(f\"Class {class_id}: {class_counts[class_id]} instances\")"
      ]
    },
    {
      "cell_type": "code",
      "execution_count": 13,
      "metadata": {
        "colab": {
          "base_uri": "https://localhost:8080/"
        },
        "id": "i1TylGct8fu-",
        "outputId": "af3c20d9-4246-4808-84e8-fd801db18bf9"
      },
      "outputs": [
        {
          "output_type": "stream",
          "name": "stdout",
          "text": [
            "\n",
            "Instances needed for balance:\n",
            "Class 0: 64 instances needed\n",
            "Class 4: 233 instances needed\n",
            "Class 6: 205 instances needed\n",
            "Class 7: 192 instances needed\n",
            "Class 3: 170 instances needed\n",
            "Class 5: 185 instances needed\n"
          ]
        }
      ],
      "source": [
        "# Calculate the number of instances needed for each underrepresented class\n",
        "\n",
        "target_count = int(0.8 * max_count)  # 80% of the max count\n",
        "\n",
        "instances_needed = {}\n",
        "for class_id, count in class_counts.items():\n",
        "    if count < target_count:\n",
        "        instances_needed[class_id] = int(target_count - count)\n",
        "\n",
        "print(\"\\nInstances needed for balance:\")\n",
        "for class_id, count_needed in instances_needed.items():\n",
        "    print(f\"Class {class_id}: {count_needed} instances needed\")"
      ]
    },
    {
      "cell_type": "code",
      "execution_count": 14,
      "metadata": {
        "id": "2I2QcA_f8fu-"
      },
      "outputs": [],
      "source": [
        "# Initialize a mapping from class IDs to image filenames\n",
        "images_to_duplicate = {class_id: [] for class_id in underrepresented_classes}\n",
        "\n",
        "# Loop through label files to identify suitable images\n",
        "for label_file in os.listdir(train_label_dir):\n",
        "    label_file_path = os.path.join(train_label_dir, label_file)\n",
        "    with open(label_file_path, 'r') as f:\n",
        "        lines = f.readlines()\n",
        "        image_classes = set()\n",
        "        for line in lines:\n",
        "            class_id = int(line.strip().split()[0])\n",
        "            image_classes.add(class_id)\n",
        "        # Check if the image contains only underrepresented classes\n",
        "        if image_classes.issubset(underrepresented_classes):\n",
        "            for class_id in image_classes:\n",
        "                images_to_duplicate[class_id].append(label_file)"
      ]
    },
    {
      "cell_type": "code",
      "execution_count": 15,
      "metadata": {
        "colab": {
          "base_uri": "https://localhost:8080/"
        },
        "id": "ipVbBse68fu-",
        "outputId": "b527de8d-0a32-43e8-a3c9-300236f3a76c"
      },
      "outputs": [
        {
          "output_type": "stream",
          "name": "stdout",
          "text": [
            "\n",
            "Oversampling completed. Duplicated images 556 times.\n"
          ]
        }
      ],
      "source": [
        "import shutil\n",
        "import numpy as np\n",
        "\n",
        "# Directory paths\n",
        "train_image_dir = os.path.join(base_dir, 'train', 'images')\n",
        "train_label_dir = os.path.join(base_dir, 'train', 'labels')\n",
        "\n",
        "# Counter for new filenames\n",
        "duplication_counter = 0\n",
        "\n",
        "# Oversample images for each underrepresented class\n",
        "for class_id in underrepresented_classes:\n",
        "    count_needed = instances_needed[class_id]\n",
        "    available_labels = images_to_duplicate[class_id]\n",
        "    if not available_labels:\n",
        "        print(f\"No images found containing only class {class_id}\")\n",
        "        continue\n",
        "\n",
        "    total_images = len(available_labels)\n",
        "    duplicates_per_image = int(np.ceil(count_needed / total_images))\n",
        "\n",
        "    for label_filename in available_labels:\n",
        "        if count_needed <= 0:\n",
        "            break\n",
        "\n",
        "        image_filename = os.path.splitext(label_filename)[0]\n",
        "        image_extensions = ['.jpg', '.png', '.jpeg']  # Adjust based on your dataset\n",
        "\n",
        "        # Find the correct image extension\n",
        "        for ext in image_extensions:\n",
        "            image_path = os.path.join(train_image_dir, image_filename + ext)\n",
        "            if os.path.exists(image_path):\n",
        "                break\n",
        "        else:\n",
        "            continue  # Skip if image file not found\n",
        "\n",
        "        label_path = os.path.join(train_label_dir, label_filename)\n",
        "\n",
        "        for _ in range(duplicates_per_image):\n",
        "            if count_needed <= 0:\n",
        "                break\n",
        "\n",
        "            # Create new filenames for duplicated files\n",
        "            new_image_filename = f\"{image_filename}_dup_{duplication_counter}{ext}\"\n",
        "            new_label_filename = f\"{image_filename}_dup_{duplication_counter}.txt\"\n",
        "\n",
        "            new_image_path = os.path.join(train_image_dir, new_image_filename)\n",
        "            new_label_path = os.path.join(train_label_dir, new_label_filename)\n",
        "\n",
        "            # Copy image and label files\n",
        "            shutil.copy(image_path, new_image_path)\n",
        "            shutil.copy(label_path, new_label_path)\n",
        "\n",
        "            count_needed -= len(open(label_path).readlines())\n",
        "            duplication_counter += 1\n",
        "\n",
        "print(f\"\\nOversampling completed. Duplicated images {duplication_counter} times.\")"
      ]
    },
    {
      "cell_type": "code",
      "execution_count": 16,
      "metadata": {
        "colab": {
          "base_uri": "https://localhost:8080/"
        },
        "id": "G0bC416F8fu-",
        "outputId": "91b94a7b-7d59-4e7e-c72c-412452af2723"
      },
      "outputs": [
        {
          "output_type": "stream",
          "name": "stdout",
          "text": [
            "\n",
            "Updated class distribution in the training set:\n",
            "Class 0: 322 instances\n",
            "Class 1: 400 instances\n",
            "Class 2: 483 instances\n",
            "Class 3: 411 instances\n",
            "Class 4: 357 instances\n",
            "Class 5: 416 instances\n",
            "Class 6: 374 instances\n",
            "Class 7: 311 instances\n"
          ]
        }
      ],
      "source": [
        "# Re-count class instances after oversampling\n",
        "new_class_counts = count_class_instances(train_label_dir)\n",
        "\n",
        "print(\"\\nUpdated class distribution in the training set:\")\n",
        "for class_id in sorted(new_class_counts.keys()):\n",
        "    print(f\"Class {class_id}: {new_class_counts[class_id]} instances\")"
      ]
    },
    {
      "cell_type": "code",
      "execution_count": 17,
      "metadata": {
        "colab": {
          "base_uri": "https://localhost:8080/",
          "height": 1000
        },
        "id": "V8TUK86K8fu_",
        "outputId": "d872ab29-d084-456f-b841-7b40293fdb25"
      },
      "outputs": [
        {
          "output_type": "display_data",
          "data": {
            "text/plain": [
              "<Figure size 1000x600 with 1 Axes>"
            ],
            "image/png": "[encoded data removed]"
          },
          "metadata": {}
        },
        {
          "output_type": "display_data",
          "data": {
            "text/plain": [
              "<Figure size 1000x600 with 1 Axes>"
            ],
            "image/png": "[encoded data removed]"
          },
          "metadata": {}
        },
        {
          "output_type": "display_data",
          "data": {
            "text/plain": [
              "<Figure size 1000x600 with 1 Axes>"
            ],
            "image/png": "[encoded data removed]"
          },
          "metadata": {}
        }
      ],
      "source": [
        "import matplotlib.pyplot as plt\n",
        "\n",
        "# Define a mapping from label IDs to names\n",
        "label_names = {\n",
        "    0: \"Plastic film\",\n",
        "    1: \"Unlabeled litter\",\n",
        "    2: \"Cigarette\",\n",
        "    3: \"Clear plastic bottle\",\n",
        "    4: \"Plastic bottle cap\",\n",
        "    5: \"Other plastic wrapper\",\n",
        "    6: \"Other plastic\",\n",
        "    7: \"Drink can\"\n",
        "}\n",
        "\n",
        "\n",
        "# Function to plot label counts for a given split\n",
        "def plot_label_counts(split, label_counts):\n",
        "    # Convert label IDs to label names and sort by count\n",
        "    labels, counts = zip(*sorted(\n",
        "        [(label_names[label_id], count) for label_id, count in label_counts.items()],\n",
        "        key=lambda x: x[1]\n",
        "    ))\n",
        "\n",
        "    # Plotting a horizontal bar chart for the split\n",
        "    plt.figure(figsize=(10, 6))\n",
        "    plt.barh(labels, counts, color='skyblue')\n",
        "    plt.xlabel(\"Count\")\n",
        "    plt.ylabel(\"Label Name\")\n",
        "    plt.title(f\"Counts of Object Labels in {split.capitalize()} Dataset\")\n",
        "    plt.show()\n",
        "\n",
        "# Loop through each split and calculate label distributions\n",
        "for split in ['train', 'val', 'test']:\n",
        "    label_dir_split = os.path.join(base_dir, split, 'labels')\n",
        "\n",
        "    # Initialize a counter for label counts for the current split\n",
        "    label_counts = Counter()\n",
        "\n",
        "    # Loop over each label file in the current label directory\n",
        "    for label_file in os.listdir(label_dir_split):\n",
        "        label_file_path = os.path.join(label_dir_split, label_file)\n",
        "\n",
        "        # Read the label file\n",
        "        with open(label_file_path, 'r') as file:\n",
        "            lines = file.readlines()\n",
        "\n",
        "            # Count each label in the file\n",
        "            for line in lines:\n",
        "                parts = line.strip().split()\n",
        "                label_id = int(parts[0])  # The label ID is the first element\n",
        "                label_counts[label_id] += 1\n",
        "\n",
        "    # Plot label counts for the current split\n",
        "    plot_label_counts(split, label_counts)\n"
      ]
    },
    {
      "cell_type": "code",
      "source": [
        "!pip install ultralytics"
      ],
      "metadata": {
        "colab": {
          "base_uri": "https://localhost:8080/"
        },
        "id": "MOzbCYU6BhFh",
        "outputId": "ca0a8226-43d2-450e-9e33-b9f0b1204cf6"
      },
      "execution_count": 18,
      "outputs": [
        {
          "output_type": "stream",
          "name": "stdout",
          "text": [
            "Collecting ultralytics\n",
            "  Downloading ultralytics-8.3.31-py3-none-any.whl.metadata (35 kB)\n",
            "Requirement already satisfied: numpy>=1.23.0 in /usr/local/lib/python3.10/dist-packages (from ultralytics) (1.26.4)\n",
            "Requirement already satisfied: matplotlib>=3.3.0 in /usr/local/lib/python3.10/dist-packages (from ultralytics) (3.8.0)\n",
            "Requirement already satisfied: opencv-python>=4.6.0 in /usr/local/lib/python3.10/dist-packages (from ultralytics) (4.10.0.84)\n",
            "Requirement already satisfied: pillow>=7.1.2 in /usr/local/lib/python3.10/dist-packages (from ultralytics) (11.0.0)\n",
            "Requirement already satisfied: pyyaml>=5.3.1 in /usr/local/lib/python3.10/dist-packages (from ultralytics) (6.0.2)\n",
            "Requirement already satisfied: requests>=2.23.0 in /usr/local/lib/python3.10/dist-packages (from ultralytics) (2.32.3)\n",
            "Requirement already satisfied: scipy>=1.4.1 in /usr/local/lib/python3.10/dist-packages (from ultralytics) (1.13.1)\n",
            "Requirement already satisfied: torch>=1.8.0 in /usr/local/lib/python3.10/dist-packages (from ultralytics) (2.5.0+cu121)\n",
            "Requirement already satisfied: torchvision>=0.9.0 in /usr/local/lib/python3.10/dist-packages (from ultralytics) (0.20.0+cu121)\n",
            "Requirement already satisfied: tqdm>=4.64.0 in /usr/local/lib/python3.10/dist-packages (from ultralytics) (4.66.6)\n",
            "Requirement already satisfied: psutil in /usr/local/lib/python3.10/dist-packages (from ultralytics) (5.9.5)\n",
            "Requirement already satisfied: py-cpuinfo in /usr/local/lib/python3.10/dist-packages (from ultralytics) (9.0.0)\n",
            "Requirement already satisfied: pandas>=1.1.4 in /usr/local/lib/python3.10/dist-packages (from ultralytics) (2.2.2)\n",
            "Requirement already satisfied: seaborn>=0.11.0 in /usr/local/lib/python3.10/dist-packages (from ultralytics) (0.13.2)\n",
            "Collecting ultralytics-thop>=2.0.0 (from ultralytics)\n",
            "  Downloading ultralytics_thop-2.0.11-py3-none-any.whl.metadata (9.4 kB)\n",
            "Requirement already satisfied: contourpy>=1.0.1 in /usr/local/lib/python3.10/dist-packages (from matplotlib>=3.3.0->ultralytics) (1.3.0)\n",
            "Requirement already satisfied: cycler>=0.10 in /usr/local/lib/python3.10/dist-packages (from matplotlib>=3.3.0->ultralytics) (0.12.1)\n",
            "Requirement already satisfied: fonttools>=4.22.0 in /usr/local/lib/python3.10/dist-packages (from matplotlib>=3.3.0->ultralytics) (4.54.1)\n",
            "Requirement already satisfied: kiwisolver>=1.0.1 in /usr/local/lib/python3.10/dist-packages (from matplotlib>=3.3.0->ultralytics) (1.4.7)\n",
            "Requirement already satisfied: packaging>=20.0 in /usr/local/lib/python3.10/dist-packages (from matplotlib>=3.3.0->ultralytics) (24.2)\n",
            "Requirement already satisfied: pyparsing>=2.3.1 in /usr/local/lib/python3.10/dist-packages (from matplotlib>=3.3.0->ultralytics) (3.2.0)\n",
            "Requirement already satisfied: python-dateutil>=2.7 in /usr/local/lib/python3.10/dist-packages (from matplotlib>=3.3.0->ultralytics) (2.8.2)\n",
            "Requirement already satisfied: pytz>=2020.1 in /usr/local/lib/python3.10/dist-packages (from pandas>=1.1.4->ultralytics) (2024.2)\n",
            "Requirement already satisfied: tzdata>=2022.7 in /usr/local/lib/python3.10/dist-packages (from pandas>=1.1.4->ultralytics) (2024.2)\n",
            "Requirement already satisfied: charset-normalizer<4,>=2 in /usr/local/lib/python3.10/dist-packages (from requests>=2.23.0->ultralytics) (3.4.0)\n",
            "Requirement already satisfied: idna<4,>=2.5 in /usr/local/lib/python3.10/dist-packages (from requests>=2.23.0->ultralytics) (3.10)\n",
            "Requirement already satisfied: urllib3<3,>=1.21.1 in /usr/local/lib/python3.10/dist-packages (from requests>=2.23.0->ultralytics) (2.2.3)\n",
            "Requirement already satisfied: certifi>=2017.4.17 in /usr/local/lib/python3.10/dist-packages (from requests>=2.23.0->ultralytics) (2024.8.30)\n",
            "Requirement already satisfied: filelock in /usr/local/lib/python3.10/dist-packages (from torch>=1.8.0->ultralytics) (3.16.1)\n",
            "Requirement already satisfied: typing-extensions>=4.8.0 in /usr/local/lib/python3.10/dist-packages (from torch>=1.8.0->ultralytics) (4.12.2)\n",
            "Requirement already satisfied: networkx in /usr/local/lib/python3.10/dist-packages (from torch>=1.8.0->ultralytics) (3.4.2)\n",
            "Requirement already satisfied: jinja2 in /usr/local/lib/python3.10/dist-packages (from torch>=1.8.0->ultralytics) (3.1.4)\n",
            "Requirement already satisfied: fsspec in /usr/local/lib/python3.10/dist-packages (from torch>=1.8.0->ultralytics) (2024.10.0)\n",
            "Requirement already satisfied: sympy==1.13.1 in /usr/local/lib/python3.10/dist-packages (from torch>=1.8.0->ultralytics) (1.13.1)\n",
            "Requirement already satisfied: mpmath<1.4,>=1.1.0 in /usr/local/lib/python3.10/dist-packages (from sympy==1.13.1->torch>=1.8.0->ultralytics) (1.3.0)\n",
            "Requirement already satisfied: six>=1.5 in /usr/local/lib/python3.10/dist-packages (from python-dateutil>=2.7->matplotlib>=3.3.0->ultralytics) (1.16.0)\n",
            "Requirement already satisfied: MarkupSafe>=2.0 in /usr/local/lib/python3.10/dist-packages (from jinja2->torch>=1.8.0->ultralytics) (3.0.2)\n",
            "Downloading ultralytics-8.3.31-py3-none-any.whl (886 kB)\n",
            "\u001b[2K   \u001b[90m━━━━━━━━━━━━━━━━━━━━━━━━━━━━━━━━━━━━━━━━\u001b[0m \u001b[32m886.3/886.3 kB\u001b[0m \u001b[31m52.7 MB/s\u001b[0m eta \u001b[36m0:00:00\u001b[0m\n",
            "\u001b[?25hDownloading ultralytics_thop-2.0.11-py3-none-any.whl (26 kB)\n",
            "Installing collected packages: ultralytics-thop, ultralytics\n",
            "Successfully installed ultralytics-8.3.31 ultralytics-thop-2.0.11\n"
          ]
        }
      ]
    },
    {
      "cell_type": "code",
      "source": [
        "import yaml\n",
        "import os\n",
        "\n",
        "if os.path.exists('data.yaml'):\n",
        "  os.remove('data.yaml')\n",
        "\n",
        "# Define the data you want to write to the YAML file\n",
        "data = {\n",
        "    'path': '/content//yolo_top_categories/',  # Replace with your actual path\n",
        "    'train': 'train/images',\n",
        "    'val': 'val/images',\n",
        "    'test': 'test/images',\n",
        "    'names': {\n",
        "        '0': 'Plastic film',\n",
        "        '1': 'Unlabeled litter',\n",
        "        '2': 'Cigarette',\n",
        "        '3': 'Clear plastic bottle',\n",
        "        '4': 'Plastic bottle cap',\n",
        "        '5': 'Other plastic wrapper',\n",
        "        '6': 'Other plastic',\n",
        "        '7': 'Drink can'\n",
        "    }\n",
        "}\n",
        "\n",
        "# Specify the path and filename for the YAML file\n",
        "data_file_path = 'data.yaml'  # Change to your desired path and filename\n",
        "\n",
        "# Write the data to the YAML file\n",
        "with open(data_file_path, 'a') as yaml_file:\n",
        "    yaml.dump(data, yaml_file, indent=2)  # Use indent for better readability\n",
        "\n",
        "print(f\"YAML file '{data_file_path}' created successfully.\")"
      ],
      "metadata": {
        "colab": {
          "base_uri": "https://localhost:8080/"
        },
        "id": "ZAdWOW33Bqkh",
        "outputId": "f4e921ca-e512-4737-abf8-811f33eacd46"
      },
      "execution_count": 37,
      "outputs": [
        {
          "output_type": "stream",
          "name": "stdout",
          "text": [
            "YAML file 'data.yaml' created successfully.\n"
          ]
        }
      ]
    },
    {
      "cell_type": "code",
      "source": [
        "import yaml\n",
        "import os\n",
        "\n",
        "if os.path.exists('hyp.yaml'):\n",
        "  os.remove('hyp.yaml')\n",
        "\n",
        "# Define the data you want to write to the YAML file\n",
        "data = {\n",
        "    'epochs': 100,\n",
        "    'imgsz': 1536,\n",
        "    'batch': 16,\n",
        "    'patience': 15,\n",
        "    'freeze': 10,\n",
        "    'augment': False,\n",
        "}\n",
        "\n",
        "# Specify the path and filename for the YAML file\n",
        "hyp_file_path = 'hyp.yaml'  # Change to your desired path and filename\n",
        "\n",
        "# Write the data to the YAML file\n",
        "with open(hyp_file_path, 'a') as yaml_file:\n",
        "    yaml.dump(data, yaml_file, indent=2)  # Use indent for better readability\n",
        "\n",
        "print(f\"YAML file '{hyp_file_path}' created successfully.\")"
      ],
      "metadata": {
        "colab": {
          "base_uri": "https://localhost:8080/"
        },
        "id": "fUbhkDHeDVgi",
        "outputId": "6861ddb6-d96c-44d7-9fb5-340acf090ae6"
      },
      "execution_count": 39,
      "outputs": [
        {
          "output_type": "stream",
          "name": "stdout",
          "text": [
            "YAML file 'hyp.yaml' created successfully.\n"
          ]
        }
      ]
    },
    {
      "cell_type": "code",
      "source": [
        "from ultralytics import YOLO\n",
        "\n",
        "# Load a model\n",
        "model = YOLO('yolov8l.pt')  # load a pretrained model (recommended for training)\n",
        "\n",
        "# Use the model\n",
        "results = model.train(data=data_file_path, cfg=hyp_file_path)"
      ],
      "metadata": {
        "colab": {
          "base_uri": "https://localhost:8080/"
        },
        "id": "FDyKzJ2GDrzF",
        "outputId": "ebdcb112-1fc9-488a-a731-4d76ab898eb9"
      },
      "execution_count": 41,
      "outputs": [
        {
          "output_type": "stream",
          "name": "stdout",
          "text": [
            "Downloading https://github.com/ultralytics/assets/releases/download/v8.3.0/yolov8l.pt to 'yolov8l.pt'...\n"
          ]
        },
        {
          "output_type": "stream",
          "name": "stderr",
          "text": [
            "100%|██████████| 83.7M/83.7M [00:00<00:00, 327MB/s]\n"
          ]
        },
        {
          "output_type": "stream",
          "name": "stdout",
          "text": [
            "Ultralytics 8.3.31 🚀 Python-3.10.12 torch-2.5.0+cu121 CUDA:0 (NVIDIA L4, 22700MiB)\n",
            "\u001b[34m\u001b[1mengine/trainer: \u001b[0mtask=detect, mode=train, model=yolov8l.pt, data=data.yaml, epochs=100, time=None, patience=15, batch=16, imgsz=1536, save=True, save_period=-1, cache=False, device=None, workers=8, project=None, name=train4, exist_ok=False, pretrained=True, optimizer=auto, verbose=True, seed=0, deterministic=True, single_cls=False, rect=False, cos_lr=False, close_mosaic=10, resume=False, amp=True, fraction=1.0, profile=False, freeze=10, multi_scale=False, overlap_mask=True, mask_ratio=4, dropout=0.0, val=True, split=val, save_json=False, save_hybrid=False, conf=None, iou=0.7, max_det=300, half=False, dnn=False, plots=True, source=None, vid_stride=1, stream_buffer=False, visualize=False, augment=False, agnostic_nms=False, classes=None, retina_masks=False, embed=None, show=False, save_frames=False, save_txt=False, save_conf=False, save_crop=False, show_labels=True, show_conf=True, show_boxes=True, line_width=None, format=torchscript, keras=False, optimize=False, int8=False, dynamic=False, simplify=True, opset=None, workspace=4, nms=False, lr0=0.01, lrf=0.01, momentum=0.937, weight_decay=0.0005, warmup_epochs=3.0, warmup_momentum=0.8, warmup_bias_lr=0.1, box=7.5, cls=0.5, dfl=1.5, pose=12.0, kobj=1.0, label_smoothing=0.0, nbs=64, hsv_h=0.015, hsv_s=0.7, hsv_v=0.4, degrees=0.0, translate=0.1, scale=0.5, shear=0.0, perspective=0.0, flipud=0.0, fliplr=0.5, bgr=0.0, mosaic=1.0, mixup=0.0, copy_paste=0.0, copy_paste_mode=flip, auto_augment=randaugment, erasing=0.4, crop_fraction=1.0, cfg=hyp.yaml, tracker=botsort.yaml, save_dir=runs/detect/train4\n",
            "Overriding model.yaml nc=80 with nc=8\n",
            "\n",
            "                   from  n    params  module                                       arguments                     \n",
            "  0                  -1  1      1856  ultralytics.nn.modules.conv.Conv             [3, 64, 3, 2]                 \n",
            "  1                  -1  1     73984  ultralytics.nn.modules.conv.Conv             [64, 128, 3, 2]               \n",
            "  2                  -1  3    279808  ultralytics.nn.modules.block.C2f             [128, 128, 3, True]           \n",
            "  3                  -1  1    295424  ultralytics.nn.modules.conv.Conv             [128, 256, 3, 2]              \n",
            "  4                  -1  6   2101248  ultralytics.nn.modules.block.C2f             [256, 256, 6, True]           \n",
            "  5                  -1  1   1180672  ultralytics.nn.modules.conv.Conv             [256, 512, 3, 2]              \n",
            "  6                  -1  6   8396800  ultralytics.nn.modules.block.C2f             [512, 512, 6, True]           \n",
            "  7                  -1  1   2360320  ultralytics.nn.modules.conv.Conv             [512, 512, 3, 2]              \n",
            "  8                  -1  3   4461568  ultralytics.nn.modules.block.C2f             [512, 512, 3, True]           \n",
            "  9                  -1  1    656896  ultralytics.nn.modules.block.SPPF            [512, 512, 5]                 \n",
            " 10                  -1  1         0  torch.nn.modules.upsampling.Upsample         [None, 2, 'nearest']          \n",
            " 11             [-1, 6]  1         0  ultralytics.nn.modules.conv.Concat           [1]                           \n",
            " 12                  -1  3   4723712  ultralytics.nn.modules.block.C2f             [1024, 512, 3]                \n",
            " 13                  -1  1         0  torch.nn.modules.upsampling.Upsample         [None, 2, 'nearest']          \n",
            " 14             [-1, 4]  1         0  ultralytics.nn.modules.conv.Concat           [1]                           \n",
            " 15                  -1  3   1247744  ultralytics.nn.modules.block.C2f             [768, 256, 3]                 \n",
            " 16                  -1  1    590336  ultralytics.nn.modules.conv.Conv             [256, 256, 3, 2]              \n",
            " 17            [-1, 12]  1         0  ultralytics.nn.modules.conv.Concat           [1]                           \n",
            " 18                  -1  3   4592640  ultralytics.nn.modules.block.C2f             [768, 512, 3]                 \n",
            " 19                  -1  1   2360320  ultralytics.nn.modules.conv.Conv             [512, 512, 3, 2]              \n",
            " 20             [-1, 9]  1         0  ultralytics.nn.modules.conv.Concat           [1]                           \n",
            " 21                  -1  3   4723712  ultralytics.nn.modules.block.C2f             [1024, 512, 3]                \n",
            " 22        [15, 18, 21]  1   5588968  ultralytics.nn.modules.head.Detect           [8, [256, 512, 512]]          \n",
            "Model summary: 365 layers, 43,636,008 parameters, 43,635,992 gradients, 165.4 GFLOPs\n",
            "\n",
            "Transferred 589/595 items from pretrained weights\n",
            "\u001b[34m\u001b[1mTensorBoard: \u001b[0mStart with 'tensorboard --logdir runs/detect/train4', view at http://localhost:6006/\n",
            "Freezing layer 'model.0.conv.weight'\n",
            "Freezing layer 'model.0.bn.weight'\n",
            "Freezing layer 'model.0.bn.bias'\n",
            "Freezing layer 'model.1.conv.weight'\n",
            "Freezing layer 'model.1.bn.weight'\n",
            "Freezing layer 'model.1.bn.bias'\n",
            "Freezing layer 'model.2.cv1.conv.weight'\n",
            "Freezing layer 'model.2.cv1.bn.weight'\n",
            "Freezing layer 'model.2.cv1.bn.bias'\n",
            "Freezing layer 'model.2.cv2.conv.weight'\n",
            "Freezing layer 'model.2.cv2.bn.weight'\n",
            "Freezing layer 'model.2.cv2.bn.bias'\n",
            "Freezing layer 'model.2.m.0.cv1.conv.weight'\n",
            "Freezing layer 'model.2.m.0.cv1.bn.weight'\n",
            "Freezing layer 'model.2.m.0.cv1.bn.bias'\n",
            "Freezing layer 'model.2.m.0.cv2.conv.weight'\n",
            "Freezing layer 'model.2.m.0.cv2.bn.weight'\n",
            "Freezing layer 'model.2.m.0.cv2.bn.bias'\n",
            "Freezing layer 'model.2.m.1.cv1.conv.weight'\n",
            "Freezing layer 'model.2.m.1.cv1.bn.weight'\n",
            "Freezing layer 'model.2.m.1.cv1.bn.bias'\n",
            "Freezing layer 'model.2.m.1.cv2.conv.weight'\n",
            "Freezing layer 'model.2.m.1.cv2.bn.weight'\n",
            "Freezing layer 'model.2.m.1.cv2.bn.bias'\n",
            "Freezing layer 'model.2.m.2.cv1.conv.weight'\n",
            "Freezing layer 'model.2.m.2.cv1.bn.weight'\n",
            "Freezing layer 'model.2.m.2.cv1.bn.bias'\n",
            "Freezing layer 'model.2.m.2.cv2.conv.weight'\n",
            "Freezing layer 'model.2.m.2.cv2.bn.weight'\n",
            "Freezing layer 'model.2.m.2.cv2.bn.bias'\n",
            "Freezing layer 'model.3.conv.weight'\n",
            "Freezing layer 'model.3.bn.weight'\n",
            "Freezing layer 'model.3.bn.bias'\n",
            "Freezing layer 'model.4.cv1.conv.weight'\n",
            "Freezing layer 'model.4.cv1.bn.weight'\n",
            "Freezing layer 'model.4.cv1.bn.bias'\n",
            "Freezing layer 'model.4.cv2.conv.weight'\n",
            "Freezing layer 'model.4.cv2.bn.weight'\n",
            "Freezing layer 'model.4.cv2.bn.bias'\n",
            "Freezing layer 'model.4.m.0.cv1.conv.weight'\n",
            "Freezing layer 'model.4.m.0.cv1.bn.weight'\n",
            "Freezing layer 'model.4.m.0.cv1.bn.bias'\n",
            "Freezing layer 'model.4.m.0.cv2.conv.weight'\n",
            "Freezing layer 'model.4.m.0.cv2.bn.weight'\n",
            "Freezing layer 'model.4.m.0.cv2.bn.bias'\n",
            "Freezing layer 'model.4.m.1.cv1.conv.weight'\n",
            "Freezing layer 'model.4.m.1.cv1.bn.weight'\n",
            "Freezing layer 'model.4.m.1.cv1.bn.bias'\n",
            "Freezing layer 'model.4.m.1.cv2.conv.weight'\n",
            "Freezing layer 'model.4.m.1.cv2.bn.weight'\n",
            "Freezing layer 'model.4.m.1.cv2.bn.bias'\n",
            "Freezing layer 'model.4.m.2.cv1.conv.weight'\n",
            "Freezing layer 'model.4.m.2.cv1.bn.weight'\n",
            "Freezing layer 'model.4.m.2.cv1.bn.bias'\n",
            "Freezing layer 'model.4.m.2.cv2.conv.weight'\n",
            "Freezing layer 'model.4.m.2.cv2.bn.weight'\n",
            "Freezing layer 'model.4.m.2.cv2.bn.bias'\n",
            "Freezing layer 'model.4.m.3.cv1.conv.weight'\n",
            "Freezing layer 'model.4.m.3.cv1.bn.weight'\n",
            "Freezing layer 'model.4.m.3.cv1.bn.bias'\n",
            "Freezing layer 'model.4.m.3.cv2.conv.weight'\n",
            "Freezing layer 'model.4.m.3.cv2.bn.weight'\n",
            "Freezing layer 'model.4.m.3.cv2.bn.bias'\n",
            "Freezing layer 'model.4.m.4.cv1.conv.weight'\n",
            "Freezing layer 'model.4.m.4.cv1.bn.weight'\n",
            "Freezing layer 'model.4.m.4.cv1.bn.bias'\n",
            "Freezing layer 'model.4.m.4.cv2.conv.weight'\n",
            "Freezing layer 'model.4.m.4.cv2.bn.weight'\n",
            "Freezing layer 'model.4.m.4.cv2.bn.bias'\n",
            "Freezing layer 'model.4.m.5.cv1.conv.weight'\n",
            "Freezing layer 'model.4.m.5.cv1.bn.weight'\n",
            "Freezing layer 'model.4.m.5.cv1.bn.bias'\n",
            "Freezing layer 'model.4.m.5.cv2.conv.weight'\n",
            "Freezing layer 'model.4.m.5.cv2.bn.weight'\n",
            "Freezing layer 'model.4.m.5.cv2.bn.bias'\n",
            "Freezing layer 'model.5.conv.weight'\n",
            "Freezing layer 'model.5.bn.weight'\n",
            "Freezing layer 'model.5.bn.bias'\n",
            "Freezing layer 'model.6.cv1.conv.weight'\n",
            "Freezing layer 'model.6.cv1.bn.weight'\n",
            "Freezing layer 'model.6.cv1.bn.bias'\n",
            "Freezing layer 'model.6.cv2.conv.weight'\n",
            "Freezing layer 'model.6.cv2.bn.weight'\n",
            "Freezing layer 'model.6.cv2.bn.bias'\n",
            "Freezing layer 'model.6.m.0.cv1.conv.weight'\n",
            "Freezing layer 'model.6.m.0.cv1.bn.weight'\n",
            "Freezing layer 'model.6.m.0.cv1.bn.bias'\n",
            "Freezing layer 'model.6.m.0.cv2.conv.weight'\n",
            "Freezing layer 'model.6.m.0.cv2.bn.weight'\n",
            "Freezing layer 'model.6.m.0.cv2.bn.bias'\n",
            "Freezing layer 'model.6.m.1.cv1.conv.weight'\n",
            "Freezing layer 'model.6.m.1.cv1.bn.weight'\n",
            "Freezing layer 'model.6.m.1.cv1.bn.bias'\n",
            "Freezing layer 'model.6.m.1.cv2.conv.weight'\n",
            "Freezing layer 'model.6.m.1.cv2.bn.weight'\n",
            "Freezing layer 'model.6.m.1.cv2.bn.bias'\n",
            "Freezing layer 'model.6.m.2.cv1.conv.weight'\n",
            "Freezing layer 'model.6.m.2.cv1.bn.weight'\n",
            "Freezing layer 'model.6.m.2.cv1.bn.bias'\n",
            "Freezing layer 'model.6.m.2.cv2.conv.weight'\n",
            "Freezing layer 'model.6.m.2.cv2.bn.weight'\n",
            "Freezing layer 'model.6.m.2.cv2.bn.bias'\n",
            "Freezing layer 'model.6.m.3.cv1.conv.weight'\n",
            "Freezing layer 'model.6.m.3.cv1.bn.weight'\n",
            "Freezing layer 'model.6.m.3.cv1.bn.bias'\n",
            "Freezing layer 'model.6.m.3.cv2.conv.weight'\n",
            "Freezing layer 'model.6.m.3.cv2.bn.weight'\n",
            "Freezing layer 'model.6.m.3.cv2.bn.bias'\n",
            "Freezing layer 'model.6.m.4.cv1.conv.weight'\n",
            "Freezing layer 'model.6.m.4.cv1.bn.weight'\n",
            "Freezing layer 'model.6.m.4.cv1.bn.bias'\n",
            "Freezing layer 'model.6.m.4.cv2.conv.weight'\n",
            "Freezing layer 'model.6.m.4.cv2.bn.weight'\n",
            "Freezing layer 'model.6.m.4.cv2.bn.bias'\n",
            "Freezing layer 'model.6.m.5.cv1.conv.weight'\n",
            "Freezing layer 'model.6.m.5.cv1.bn.weight'\n",
            "Freezing layer 'model.6.m.5.cv1.bn.bias'\n",
            "Freezing layer 'model.6.m.5.cv2.conv.weight'\n",
            "Freezing layer 'model.6.m.5.cv2.bn.weight'\n",
            "Freezing layer 'model.6.m.5.cv2.bn.bias'\n",
            "Freezing layer 'model.7.conv.weight'\n",
            "Freezing layer 'model.7.bn.weight'\n",
            "Freezing layer 'model.7.bn.bias'\n",
            "Freezing layer 'model.8.cv1.conv.weight'\n",
            "Freezing layer 'model.8.cv1.bn.weight'\n",
            "Freezing layer 'model.8.cv1.bn.bias'\n",
            "Freezing layer 'model.8.cv2.conv.weight'\n",
            "Freezing layer 'model.8.cv2.bn.weight'\n",
            "Freezing layer 'model.8.cv2.bn.bias'\n",
            "Freezing layer 'model.8.m.0.cv1.conv.weight'\n",
            "Freezing layer 'model.8.m.0.cv1.bn.weight'\n",
            "Freezing layer 'model.8.m.0.cv1.bn.bias'\n",
            "Freezing layer 'model.8.m.0.cv2.conv.weight'\n",
            "Freezing layer 'model.8.m.0.cv2.bn.weight'\n",
            "Freezing layer 'model.8.m.0.cv2.bn.bias'\n",
            "Freezing layer 'model.8.m.1.cv1.conv.weight'\n",
            "Freezing layer 'model.8.m.1.cv1.bn.weight'\n",
            "Freezing layer 'model.8.m.1.cv1.bn.bias'\n",
            "Freezing layer 'model.8.m.1.cv2.conv.weight'\n",
            "Freezing layer 'model.8.m.1.cv2.bn.weight'\n",
            "Freezing layer 'model.8.m.1.cv2.bn.bias'\n",
            "Freezing layer 'model.8.m.2.cv1.conv.weight'\n",
            "Freezing layer 'model.8.m.2.cv1.bn.weight'\n",
            "Freezing layer 'model.8.m.2.cv1.bn.bias'\n",
            "Freezing layer 'model.8.m.2.cv2.conv.weight'\n",
            "Freezing layer 'model.8.m.2.cv2.bn.weight'\n",
            "Freezing layer 'model.8.m.2.cv2.bn.bias'\n",
            "Freezing layer 'model.9.cv1.conv.weight'\n",
            "Freezing layer 'model.9.cv1.bn.weight'\n",
            "Freezing layer 'model.9.cv1.bn.bias'\n",
            "Freezing layer 'model.9.cv2.conv.weight'\n",
            "Freezing layer 'model.9.cv2.bn.weight'\n",
            "Freezing layer 'model.9.cv2.bn.bias'\n",
            "Freezing layer 'model.22.dfl.conv.weight'\n",
            "\u001b[34m\u001b[1mAMP: \u001b[0mrunning Automatic Mixed Precision (AMP) checks...\n",
            "\u001b[34m\u001b[1mAMP: \u001b[0mchecks passed ✅\n"
          ]
        },
        {
          "output_type": "stream",
          "name": "stderr",
          "text": [
            "\u001b[34m\u001b[1mtrain: \u001b[0mScanning /content/yolo_top_categories/train/labels.cache... 1316 images, 0 backgrounds, 0 corrupt: 100%|██████████| 1316/1316 [00:00<?, ?it/s]"
          ]
        },
        {
          "output_type": "stream",
          "name": "stdout",
          "text": [
            "\u001b[34m\u001b[1malbumentations: \u001b[0mBlur(p=0.01, blur_limit=(3, 7)), MedianBlur(p=0.01, blur_limit=(3, 7)), ToGray(p=0.01, num_output_channels=3, method='weighted_average'), CLAHE(p=0.01, clip_limit=(1.0, 4.0), tile_grid_size=(8, 8))\n"
          ]
        },
        {
          "output_type": "stream",
          "name": "stderr",
          "text": [
            "\n",
            "\u001b[34m\u001b[1mval: \u001b[0mScanning /content/yolo_top_categories/val/labels.cache... 217 images, 0 backgrounds, 0 corrupt: 100%|██████████| 217/217 [00:00<?, ?it/s]\n"
          ]
        },
        {
          "output_type": "stream",
          "name": "stdout",
          "text": [
            "Plotting labels to runs/detect/train4/labels.jpg... \n",
            "\u001b[34m\u001b[1moptimizer:\u001b[0m 'optimizer=auto' found, ignoring 'lr0=0.01' and 'momentum=0.937' and determining best 'optimizer', 'lr0' and 'momentum' automatically... \n",
            "\u001b[34m\u001b[1moptimizer:\u001b[0m AdamW(lr=0.000833, momentum=0.9) with parameter groups 97 weight(decay=0.0), 104 weight(decay=0.0005), 103 bias(decay=0.0)\n",
            "\u001b[34m\u001b[1mTensorBoard: \u001b[0mmodel graph visualization added ✅\n",
            "Image sizes 1536 train, 1536 val\n",
            "Using 8 dataloader workers\n",
            "Logging results to \u001b[1mruns/detect/train4\u001b[0m\n",
            "Starting training for 100 epochs...\n",
            "\n",
            "      Epoch    GPU_mem   box_loss   cls_loss   dfl_loss  Instances       Size\n"
          ]
        },
        {
          "output_type": "stream",
          "name": "stderr",
          "text": [
            "      1/100      20.4G     0.9564      4.368      1.221         17       1536: 100%|██████████| 83/83 [02:22<00:00,  1.72s/it]\n",
            "                 Class     Images  Instances      Box(P          R      mAP50  mAP50-95): 100%|██████████| 7/7 [00:12<00:00,  1.77s/it]"
          ]
        },
        {
          "output_type": "stream",
          "name": "stdout",
          "text": [
            "                   all        217        505     0.0493      0.359     0.0309     0.0239\n"
          ]
        },
        {
          "output_type": "stream",
          "name": "stderr",
          "text": [
            "\n"
          ]
        },
        {
          "output_type": "stream",
          "name": "stdout",
          "text": [
            "\n",
            "      Epoch    GPU_mem   box_loss   cls_loss   dfl_loss  Instances       Size\n"
          ]
        },
        {
          "output_type": "stream",
          "name": "stderr",
          "text": [
            "      2/100      21.8G      1.089      2.483      1.296         14       1536: 100%|██████████| 83/83 [02:21<00:00,  1.71s/it]\n",
            "                 Class     Images  Instances      Box(P          R      mAP50  mAP50-95): 100%|██████████| 7/7 [00:11<00:00,  1.69s/it]"
          ]
        },
        {
          "output_type": "stream",
          "name": "stdout",
          "text": [
            "                   all        217        505      0.238      0.258      0.121     0.0827\n"
          ]
        },
        {
          "output_type": "stream",
          "name": "stderr",
          "text": [
            "\n"
          ]
        },
        {
          "output_type": "stream",
          "name": "stdout",
          "text": [
            "\n",
            "      Epoch    GPU_mem   box_loss   cls_loss   dfl_loss  Instances       Size\n"
          ]
        },
        {
          "output_type": "stream",
          "name": "stderr",
          "text": [
            "      3/100      20.1G      1.125       2.12      1.289         27       1536: 100%|██████████| 83/83 [02:20<00:00,  1.70s/it]\n",
            "                 Class     Images  Instances      Box(P          R      mAP50  mAP50-95): 100%|██████████| 7/7 [00:11<00:00,  1.59s/it]"
          ]
        },
        {
          "output_type": "stream",
          "name": "stdout",
          "text": [
            "                   all        217        505       0.28        0.3      0.206      0.139\n"
          ]
        },
        {
          "output_type": "stream",
          "name": "stderr",
          "text": [
            "\n"
          ]
        },
        {
          "output_type": "stream",
          "name": "stdout",
          "text": [
            "\n",
            "      Epoch    GPU_mem   box_loss   cls_loss   dfl_loss  Instances       Size\n"
          ]
        },
        {
          "output_type": "stream",
          "name": "stderr",
          "text": [
            "      4/100      21.8G      1.093      1.968       1.26         15       1536: 100%|██████████| 83/83 [02:20<00:00,  1.70s/it]\n",
            "                 Class     Images  Instances      Box(P          R      mAP50  mAP50-95): 100%|██████████| 7/7 [00:11<00:00,  1.61s/it]"
          ]
        },
        {
          "output_type": "stream",
          "name": "stdout",
          "text": [
            "                   all        217        505       0.26      0.373      0.258      0.178\n"
          ]
        },
        {
          "output_type": "stream",
          "name": "stderr",
          "text": [
            "\n"
          ]
        },
        {
          "output_type": "stream",
          "name": "stdout",
          "text": [
            "\n",
            "      Epoch    GPU_mem   box_loss   cls_loss   dfl_loss  Instances       Size\n"
          ]
        },
        {
          "output_type": "stream",
          "name": "stderr",
          "text": [
            "      5/100      20.5G      1.024      1.662      1.228          6       1536: 100%|██████████| 83/83 [02:20<00:00,  1.70s/it]\n",
            "                 Class     Images  Instances      Box(P          R      mAP50  mAP50-95): 100%|██████████| 7/7 [00:11<00:00,  1.59s/it]"
          ]
        },
        {
          "output_type": "stream",
          "name": "stdout",
          "text": [
            "                   all        217        505      0.378      0.286      0.262      0.175\n"
          ]
        },
        {
          "output_type": "stream",
          "name": "stderr",
          "text": [
            "\n"
          ]
        },
        {
          "output_type": "stream",
          "name": "stdout",
          "text": [
            "\n",
            "      Epoch    GPU_mem   box_loss   cls_loss   dfl_loss  Instances       Size\n"
          ]
        },
        {
          "output_type": "stream",
          "name": "stderr",
          "text": [
            "      6/100      20.8G     0.9767      1.563      1.189         19       1536: 100%|██████████| 83/83 [02:20<00:00,  1.70s/it]\n",
            "                 Class     Images  Instances      Box(P          R      mAP50  mAP50-95): 100%|██████████| 7/7 [00:11<00:00,  1.57s/it]"
          ]
        },
        {
          "output_type": "stream",
          "name": "stdout",
          "text": [
            "                   all        217        505      0.346      0.345      0.286      0.204\n"
          ]
        },
        {
          "output_type": "stream",
          "name": "stderr",
          "text": [
            "\n"
          ]
        },
        {
          "output_type": "stream",
          "name": "stdout",
          "text": [
            "\n",
            "      Epoch    GPU_mem   box_loss   cls_loss   dfl_loss  Instances       Size\n"
          ]
        },
        {
          "output_type": "stream",
          "name": "stderr",
          "text": [
            "      7/100      21.9G     0.9469      1.417      1.164          9       1536: 100%|██████████| 83/83 [02:21<00:00,  1.70s/it]\n",
            "                 Class     Images  Instances      Box(P          R      mAP50  mAP50-95): 100%|██████████| 7/7 [00:11<00:00,  1.58s/it]"
          ]
        },
        {
          "output_type": "stream",
          "name": "stdout",
          "text": [
            "                   all        217        505      0.354      0.356      0.291      0.206\n"
          ]
        },
        {
          "output_type": "stream",
          "name": "stderr",
          "text": [
            "\n"
          ]
        },
        {
          "output_type": "stream",
          "name": "stdout",
          "text": [
            "\n",
            "      Epoch    GPU_mem   box_loss   cls_loss   dfl_loss  Instances       Size\n"
          ]
        },
        {
          "output_type": "stream",
          "name": "stderr",
          "text": [
            "      8/100      21.9G     0.8895      1.319      1.127         14       1536: 100%|██████████| 83/83 [02:21<00:00,  1.70s/it]\n",
            "                 Class     Images  Instances      Box(P          R      mAP50  mAP50-95): 100%|██████████| 7/7 [00:11<00:00,  1.57s/it]"
          ]
        },
        {
          "output_type": "stream",
          "name": "stdout",
          "text": [
            "                   all        217        505      0.393      0.347        0.3      0.209\n"
          ]
        },
        {
          "output_type": "stream",
          "name": "stderr",
          "text": [
            "\n"
          ]
        },
        {
          "output_type": "stream",
          "name": "stdout",
          "text": [
            "\n",
            "      Epoch    GPU_mem   box_loss   cls_loss   dfl_loss  Instances       Size\n"
          ]
        },
        {
          "output_type": "stream",
          "name": "stderr",
          "text": [
            "      9/100      19.8G     0.8388      1.199      1.118         13       1536: 100%|██████████| 83/83 [02:20<00:00,  1.70s/it]\n",
            "                 Class     Images  Instances      Box(P          R      mAP50  mAP50-95): 100%|██████████| 7/7 [00:10<00:00,  1.57s/it]"
          ]
        },
        {
          "output_type": "stream",
          "name": "stdout",
          "text": [
            "                   all        217        505      0.352      0.367      0.313      0.224\n"
          ]
        },
        {
          "output_type": "stream",
          "name": "stderr",
          "text": [
            "\n"
          ]
        },
        {
          "output_type": "stream",
          "name": "stdout",
          "text": [
            "\n",
            "      Epoch    GPU_mem   box_loss   cls_loss   dfl_loss  Instances       Size\n"
          ]
        },
        {
          "output_type": "stream",
          "name": "stderr",
          "text": [
            "     10/100      20.5G     0.8519      1.163      1.111          7       1536: 100%|██████████| 83/83 [02:20<00:00,  1.70s/it]\n",
            "                 Class     Images  Instances      Box(P          R      mAP50  mAP50-95): 100%|██████████| 7/7 [00:10<00:00,  1.56s/it]"
          ]
        },
        {
          "output_type": "stream",
          "name": "stdout",
          "text": [
            "                   all        217        505      0.327      0.344      0.295      0.214\n"
          ]
        },
        {
          "output_type": "stream",
          "name": "stderr",
          "text": [
            "\n"
          ]
        },
        {
          "output_type": "stream",
          "name": "stdout",
          "text": [
            "\n",
            "      Epoch    GPU_mem   box_loss   cls_loss   dfl_loss  Instances       Size\n"
          ]
        },
        {
          "output_type": "stream",
          "name": "stderr",
          "text": [
            "     11/100      20.8G     0.8091      1.108        1.1         12       1536: 100%|██████████| 83/83 [02:20<00:00,  1.70s/it]\n",
            "                 Class     Images  Instances      Box(P          R      mAP50  mAP50-95): 100%|██████████| 7/7 [00:10<00:00,  1.57s/it]"
          ]
        },
        {
          "output_type": "stream",
          "name": "stdout",
          "text": [
            "                   all        217        505      0.359      0.371       0.33      0.238\n"
          ]
        },
        {
          "output_type": "stream",
          "name": "stderr",
          "text": [
            "\n"
          ]
        },
        {
          "output_type": "stream",
          "name": "stdout",
          "text": [
            "\n",
            "      Epoch    GPU_mem   box_loss   cls_loss   dfl_loss  Instances       Size\n"
          ]
        },
        {
          "output_type": "stream",
          "name": "stderr",
          "text": [
            "     12/100      21.4G     0.7715      1.024      1.055         26       1536: 100%|██████████| 83/83 [02:20<00:00,  1.70s/it]\n",
            "                 Class     Images  Instances      Box(P          R      mAP50  mAP50-95): 100%|██████████| 7/7 [00:10<00:00,  1.57s/it]"
          ]
        },
        {
          "output_type": "stream",
          "name": "stdout",
          "text": [
            "                   all        217        505      0.401      0.362      0.326       0.23\n"
          ]
        },
        {
          "output_type": "stream",
          "name": "stderr",
          "text": [
            "\n"
          ]
        },
        {
          "output_type": "stream",
          "name": "stdout",
          "text": [
            "\n",
            "      Epoch    GPU_mem   box_loss   cls_loss   dfl_loss  Instances       Size\n"
          ]
        },
        {
          "output_type": "stream",
          "name": "stderr",
          "text": [
            "     13/100      20.5G      0.766     0.9679      1.065         14       1536: 100%|██████████| 83/83 [02:20<00:00,  1.69s/it]\n",
            "                 Class     Images  Instances      Box(P          R      mAP50  mAP50-95): 100%|██████████| 7/7 [00:10<00:00,  1.56s/it]"
          ]
        },
        {
          "output_type": "stream",
          "name": "stdout",
          "text": [
            "                   all        217        505      0.376      0.386      0.315      0.221\n"
          ]
        },
        {
          "output_type": "stream",
          "name": "stderr",
          "text": [
            "\n"
          ]
        },
        {
          "output_type": "stream",
          "name": "stdout",
          "text": [
            "\n",
            "      Epoch    GPU_mem   box_loss   cls_loss   dfl_loss  Instances       Size\n"
          ]
        },
        {
          "output_type": "stream",
          "name": "stderr",
          "text": [
            "     14/100      20.7G     0.7588      0.912      1.059         15       1536: 100%|██████████| 83/83 [02:20<00:00,  1.70s/it]\n",
            "                 Class     Images  Instances      Box(P          R      mAP50  mAP50-95): 100%|██████████| 7/7 [00:10<00:00,  1.56s/it]"
          ]
        },
        {
          "output_type": "stream",
          "name": "stdout",
          "text": [
            "                   all        217        505      0.377       0.38      0.324      0.237\n"
          ]
        },
        {
          "output_type": "stream",
          "name": "stderr",
          "text": [
            "\n"
          ]
        },
        {
          "output_type": "stream",
          "name": "stdout",
          "text": [
            "\n",
            "      Epoch    GPU_mem   box_loss   cls_loss   dfl_loss  Instances       Size\n"
          ]
        },
        {
          "output_type": "stream",
          "name": "stderr",
          "text": [
            "     15/100      21.1G     0.7418     0.8794      1.048         13       1536: 100%|██████████| 83/83 [02:20<00:00,  1.70s/it]\n",
            "                 Class     Images  Instances      Box(P          R      mAP50  mAP50-95): 100%|██████████| 7/7 [00:10<00:00,  1.56s/it]"
          ]
        },
        {
          "output_type": "stream",
          "name": "stdout",
          "text": [
            "                   all        217        505      0.329      0.378      0.305      0.225\n"
          ]
        },
        {
          "output_type": "stream",
          "name": "stderr",
          "text": [
            "\n"
          ]
        },
        {
          "output_type": "stream",
          "name": "stdout",
          "text": [
            "\n",
            "      Epoch    GPU_mem   box_loss   cls_loss   dfl_loss  Instances       Size\n"
          ]
        },
        {
          "output_type": "stream",
          "name": "stderr",
          "text": [
            "     16/100      20.4G     0.7426     0.8827      1.035         11       1536: 100%|██████████| 83/83 [02:20<00:00,  1.69s/it]\n",
            "                 Class     Images  Instances      Box(P          R      mAP50  mAP50-95): 100%|██████████| 7/7 [00:10<00:00,  1.57s/it]"
          ]
        },
        {
          "output_type": "stream",
          "name": "stdout",
          "text": [
            "                   all        217        505      0.384      0.371      0.326      0.244\n"
          ]
        },
        {
          "output_type": "stream",
          "name": "stderr",
          "text": [
            "\n"
          ]
        },
        {
          "output_type": "stream",
          "name": "stdout",
          "text": [
            "\n",
            "      Epoch    GPU_mem   box_loss   cls_loss   dfl_loss  Instances       Size\n"
          ]
        },
        {
          "output_type": "stream",
          "name": "stderr",
          "text": [
            "     17/100      21.3G     0.7345     0.8547      1.036         16       1536: 100%|██████████| 83/83 [02:20<00:00,  1.69s/it]\n",
            "                 Class     Images  Instances      Box(P          R      mAP50  mAP50-95): 100%|██████████| 7/7 [00:10<00:00,  1.56s/it]"
          ]
        },
        {
          "output_type": "stream",
          "name": "stdout",
          "text": [
            "                   all        217        505      0.378      0.377      0.311      0.229\n"
          ]
        },
        {
          "output_type": "stream",
          "name": "stderr",
          "text": [
            "\n"
          ]
        },
        {
          "output_type": "stream",
          "name": "stdout",
          "text": [
            "\n",
            "      Epoch    GPU_mem   box_loss   cls_loss   dfl_loss  Instances       Size\n"
          ]
        },
        {
          "output_type": "stream",
          "name": "stderr",
          "text": [
            "     18/100      20.6G     0.6963     0.8163      1.037         30       1536: 100%|██████████| 83/83 [02:20<00:00,  1.69s/it]\n",
            "                 Class     Images  Instances      Box(P          R      mAP50  mAP50-95): 100%|██████████| 7/7 [00:10<00:00,  1.56s/it]"
          ]
        },
        {
          "output_type": "stream",
          "name": "stdout",
          "text": [
            "                   all        217        505      0.453      0.334      0.326      0.239\n"
          ]
        },
        {
          "output_type": "stream",
          "name": "stderr",
          "text": [
            "\n"
          ]
        },
        {
          "output_type": "stream",
          "name": "stdout",
          "text": [
            "\n",
            "      Epoch    GPU_mem   box_loss   cls_loss   dfl_loss  Instances       Size\n"
          ]
        },
        {
          "output_type": "stream",
          "name": "stderr",
          "text": [
            "     19/100      20.8G      0.697     0.7785      1.009         11       1536: 100%|██████████| 83/83 [02:20<00:00,  1.69s/it]\n",
            "                 Class     Images  Instances      Box(P          R      mAP50  mAP50-95): 100%|██████████| 7/7 [00:10<00:00,  1.56s/it]"
          ]
        },
        {
          "output_type": "stream",
          "name": "stdout",
          "text": [
            "                   all        217        505      0.393      0.355      0.331      0.245\n"
          ]
        },
        {
          "output_type": "stream",
          "name": "stderr",
          "text": [
            "\n"
          ]
        },
        {
          "output_type": "stream",
          "name": "stdout",
          "text": [
            "\n",
            "      Epoch    GPU_mem   box_loss   cls_loss   dfl_loss  Instances       Size\n"
          ]
        },
        {
          "output_type": "stream",
          "name": "stderr",
          "text": [
            "     20/100      20.8G     0.6761     0.7281       1.01         14       1536: 100%|██████████| 83/83 [02:20<00:00,  1.69s/it]\n",
            "                 Class     Images  Instances      Box(P          R      mAP50  mAP50-95): 100%|██████████| 7/7 [00:10<00:00,  1.57s/it]"
          ]
        },
        {
          "output_type": "stream",
          "name": "stdout",
          "text": [
            "                   all        217        505      0.373        0.4      0.345      0.259\n"
          ]
        },
        {
          "output_type": "stream",
          "name": "stderr",
          "text": [
            "\n"
          ]
        },
        {
          "output_type": "stream",
          "name": "stdout",
          "text": [
            "\n",
            "      Epoch    GPU_mem   box_loss   cls_loss   dfl_loss  Instances       Size\n"
          ]
        },
        {
          "output_type": "stream",
          "name": "stderr",
          "text": [
            "     21/100      21.3G     0.6732     0.7101     0.9977          7       1536: 100%|██████████| 83/83 [02:20<00:00,  1.69s/it]\n",
            "                 Class     Images  Instances      Box(P          R      mAP50  mAP50-95): 100%|██████████| 7/7 [00:10<00:00,  1.56s/it]"
          ]
        },
        {
          "output_type": "stream",
          "name": "stdout",
          "text": [
            "                   all        217        505       0.46      0.323      0.329      0.247\n"
          ]
        },
        {
          "output_type": "stream",
          "name": "stderr",
          "text": [
            "\n"
          ]
        },
        {
          "output_type": "stream",
          "name": "stdout",
          "text": [
            "\n",
            "      Epoch    GPU_mem   box_loss   cls_loss   dfl_loss  Instances       Size\n"
          ]
        },
        {
          "output_type": "stream",
          "name": "stderr",
          "text": [
            "     22/100      21.4G     0.6685     0.7106      1.005          7       1536: 100%|██████████| 83/83 [02:20<00:00,  1.70s/it]\n",
            "                 Class     Images  Instances      Box(P          R      mAP50  mAP50-95): 100%|██████████| 7/7 [00:10<00:00,  1.56s/it]"
          ]
        },
        {
          "output_type": "stream",
          "name": "stdout",
          "text": [
            "                   all        217        505      0.365      0.375      0.317      0.232\n"
          ]
        },
        {
          "output_type": "stream",
          "name": "stderr",
          "text": [
            "\n"
          ]
        },
        {
          "output_type": "stream",
          "name": "stdout",
          "text": [
            "\n",
            "      Epoch    GPU_mem   box_loss   cls_loss   dfl_loss  Instances       Size\n"
          ]
        },
        {
          "output_type": "stream",
          "name": "stderr",
          "text": [
            "     23/100      20.2G     0.6374     0.6659     0.9833         12       1536: 100%|██████████| 83/83 [02:20<00:00,  1.69s/it]\n",
            "                 Class     Images  Instances      Box(P          R      mAP50  mAP50-95): 100%|██████████| 7/7 [00:10<00:00,  1.56s/it]"
          ]
        },
        {
          "output_type": "stream",
          "name": "stdout",
          "text": [
            "                   all        217        505      0.353      0.393      0.335      0.257\n"
          ]
        },
        {
          "output_type": "stream",
          "name": "stderr",
          "text": [
            "\n"
          ]
        },
        {
          "output_type": "stream",
          "name": "stdout",
          "text": [
            "\n",
            "      Epoch    GPU_mem   box_loss   cls_loss   dfl_loss  Instances       Size\n"
          ]
        },
        {
          "output_type": "stream",
          "name": "stderr",
          "text": [
            "     24/100      20.7G     0.6562     0.6828     0.9899         28       1536: 100%|██████████| 83/83 [02:20<00:00,  1.69s/it]\n",
            "                 Class     Images  Instances      Box(P          R      mAP50  mAP50-95): 100%|██████████| 7/7 [00:10<00:00,  1.57s/it]"
          ]
        },
        {
          "output_type": "stream",
          "name": "stdout",
          "text": [
            "                   all        217        505       0.36      0.371       0.31      0.228\n"
          ]
        },
        {
          "output_type": "stream",
          "name": "stderr",
          "text": [
            "\n"
          ]
        },
        {
          "output_type": "stream",
          "name": "stdout",
          "text": [
            "\n",
            "      Epoch    GPU_mem   box_loss   cls_loss   dfl_loss  Instances       Size\n"
          ]
        },
        {
          "output_type": "stream",
          "name": "stderr",
          "text": [
            "     25/100      20.3G     0.6203     0.6557     0.9841          8       1536: 100%|██████████| 83/83 [02:20<00:00,  1.69s/it]\n",
            "                 Class     Images  Instances      Box(P          R      mAP50  mAP50-95): 100%|██████████| 7/7 [00:10<00:00,  1.56s/it]"
          ]
        },
        {
          "output_type": "stream",
          "name": "stdout",
          "text": [
            "                   all        217        505      0.393      0.356      0.326      0.243\n"
          ]
        },
        {
          "output_type": "stream",
          "name": "stderr",
          "text": [
            "\n"
          ]
        },
        {
          "output_type": "stream",
          "name": "stdout",
          "text": [
            "\n",
            "      Epoch    GPU_mem   box_loss   cls_loss   dfl_loss  Instances       Size\n"
          ]
        },
        {
          "output_type": "stream",
          "name": "stderr",
          "text": [
            "     26/100      21.3G     0.6119     0.6212     0.9767         10       1536: 100%|██████████| 83/83 [02:20<00:00,  1.69s/it]\n",
            "                 Class     Images  Instances      Box(P          R      mAP50  mAP50-95): 100%|██████████| 7/7 [00:10<00:00,  1.56s/it]"
          ]
        },
        {
          "output_type": "stream",
          "name": "stdout",
          "text": [
            "                   all        217        505      0.463      0.336      0.329       0.25\n"
          ]
        },
        {
          "output_type": "stream",
          "name": "stderr",
          "text": [
            "\n"
          ]
        },
        {
          "output_type": "stream",
          "name": "stdout",
          "text": [
            "\n",
            "      Epoch    GPU_mem   box_loss   cls_loss   dfl_loss  Instances       Size\n"
          ]
        },
        {
          "output_type": "stream",
          "name": "stderr",
          "text": [
            "     27/100      21.8G     0.6253     0.6385     0.9768         12       1536: 100%|██████████| 83/83 [02:20<00:00,  1.69s/it]\n",
            "                 Class     Images  Instances      Box(P          R      mAP50  mAP50-95): 100%|██████████| 7/7 [00:11<00:00,  1.57s/it]"
          ]
        },
        {
          "output_type": "stream",
          "name": "stdout",
          "text": [
            "                   all        217        505      0.422      0.358      0.329      0.256\n"
          ]
        },
        {
          "output_type": "stream",
          "name": "stderr",
          "text": [
            "\n"
          ]
        },
        {
          "output_type": "stream",
          "name": "stdout",
          "text": [
            "\n",
            "      Epoch    GPU_mem   box_loss   cls_loss   dfl_loss  Instances       Size\n"
          ]
        },
        {
          "output_type": "stream",
          "name": "stderr",
          "text": [
            "     28/100      21.1G     0.6059     0.5841     0.9576         18       1536: 100%|██████████| 83/83 [02:20<00:00,  1.69s/it]\n",
            "                 Class     Images  Instances      Box(P          R      mAP50  mAP50-95): 100%|██████████| 7/7 [00:10<00:00,  1.57s/it]"
          ]
        },
        {
          "output_type": "stream",
          "name": "stdout",
          "text": [
            "                   all        217        505      0.405      0.406      0.337      0.263\n"
          ]
        },
        {
          "output_type": "stream",
          "name": "stderr",
          "text": [
            "\n"
          ]
        },
        {
          "output_type": "stream",
          "name": "stdout",
          "text": [
            "\n",
            "      Epoch    GPU_mem   box_loss   cls_loss   dfl_loss  Instances       Size\n"
          ]
        },
        {
          "output_type": "stream",
          "name": "stderr",
          "text": [
            "     29/100        21G     0.6017     0.5884     0.9646          8       1536: 100%|██████████| 83/83 [02:20<00:00,  1.69s/it]\n",
            "                 Class     Images  Instances      Box(P          R      mAP50  mAP50-95): 100%|██████████| 7/7 [00:10<00:00,  1.56s/it]"
          ]
        },
        {
          "output_type": "stream",
          "name": "stdout",
          "text": [
            "                   all        217        505      0.359      0.402      0.319      0.244\n"
          ]
        },
        {
          "output_type": "stream",
          "name": "stderr",
          "text": [
            "\n"
          ]
        },
        {
          "output_type": "stream",
          "name": "stdout",
          "text": [
            "\n",
            "      Epoch    GPU_mem   box_loss   cls_loss   dfl_loss  Instances       Size\n"
          ]
        },
        {
          "output_type": "stream",
          "name": "stderr",
          "text": [
            "     30/100      20.1G     0.6036     0.5761     0.9568         32       1536: 100%|██████████| 83/83 [02:20<00:00,  1.69s/it]\n",
            "                 Class     Images  Instances      Box(P          R      mAP50  mAP50-95): 100%|██████████| 7/7 [00:10<00:00,  1.56s/it]"
          ]
        },
        {
          "output_type": "stream",
          "name": "stdout",
          "text": [
            "                   all        217        505      0.403      0.376      0.351      0.271\n"
          ]
        },
        {
          "output_type": "stream",
          "name": "stderr",
          "text": [
            "\n"
          ]
        },
        {
          "output_type": "stream",
          "name": "stdout",
          "text": [
            "\n",
            "      Epoch    GPU_mem   box_loss   cls_loss   dfl_loss  Instances       Size\n"
          ]
        },
        {
          "output_type": "stream",
          "name": "stderr",
          "text": [
            "     31/100      20.7G     0.5842     0.5656     0.9627         17       1536: 100%|██████████| 83/83 [02:20<00:00,  1.69s/it]\n",
            "                 Class     Images  Instances      Box(P          R      mAP50  mAP50-95): 100%|██████████| 7/7 [00:10<00:00,  1.56s/it]"
          ]
        },
        {
          "output_type": "stream",
          "name": "stdout",
          "text": [
            "                   all        217        505        0.4      0.383      0.327      0.241\n"
          ]
        },
        {
          "output_type": "stream",
          "name": "stderr",
          "text": [
            "\n"
          ]
        },
        {
          "output_type": "stream",
          "name": "stdout",
          "text": [
            "\n",
            "      Epoch    GPU_mem   box_loss   cls_loss   dfl_loss  Instances       Size\n"
          ]
        },
        {
          "output_type": "stream",
          "name": "stderr",
          "text": [
            "     32/100      21.6G     0.5849     0.5635     0.9473          7       1536: 100%|██████████| 83/83 [02:20<00:00,  1.69s/it]\n",
            "                 Class     Images  Instances      Box(P          R      mAP50  mAP50-95): 100%|██████████| 7/7 [00:11<00:00,  1.58s/it]"
          ]
        },
        {
          "output_type": "stream",
          "name": "stdout",
          "text": [
            "                   all        217        505      0.429      0.387       0.34      0.254\n"
          ]
        },
        {
          "output_type": "stream",
          "name": "stderr",
          "text": [
            "\n"
          ]
        },
        {
          "output_type": "stream",
          "name": "stdout",
          "text": [
            "\n",
            "      Epoch    GPU_mem   box_loss   cls_loss   dfl_loss  Instances       Size\n"
          ]
        },
        {
          "output_type": "stream",
          "name": "stderr",
          "text": [
            "     33/100      20.9G     0.5757     0.5701      0.951         10       1536: 100%|██████████| 83/83 [02:20<00:00,  1.69s/it]\n",
            "                 Class     Images  Instances      Box(P          R      mAP50  mAP50-95): 100%|██████████| 7/7 [00:10<00:00,  1.56s/it]"
          ]
        },
        {
          "output_type": "stream",
          "name": "stdout",
          "text": [
            "                   all        217        505      0.418       0.36       0.32      0.238\n"
          ]
        },
        {
          "output_type": "stream",
          "name": "stderr",
          "text": [
            "\n"
          ]
        },
        {
          "output_type": "stream",
          "name": "stdout",
          "text": [
            "\n",
            "      Epoch    GPU_mem   box_loss   cls_loss   dfl_loss  Instances       Size\n"
          ]
        },
        {
          "output_type": "stream",
          "name": "stderr",
          "text": [
            "     34/100      20.2G     0.5644     0.5335     0.9468         19       1536: 100%|██████████| 83/83 [02:20<00:00,  1.69s/it]\n",
            "                 Class     Images  Instances      Box(P          R      mAP50  mAP50-95): 100%|██████████| 7/7 [00:10<00:00,  1.56s/it]"
          ]
        },
        {
          "output_type": "stream",
          "name": "stdout",
          "text": [
            "                   all        217        505       0.46      0.366      0.344      0.253\n"
          ]
        },
        {
          "output_type": "stream",
          "name": "stderr",
          "text": [
            "\n"
          ]
        },
        {
          "output_type": "stream",
          "name": "stdout",
          "text": [
            "\n",
            "      Epoch    GPU_mem   box_loss   cls_loss   dfl_loss  Instances       Size\n"
          ]
        },
        {
          "output_type": "stream",
          "name": "stderr",
          "text": [
            "     35/100      21.4G     0.5663     0.5193      0.937          9       1536: 100%|██████████| 83/83 [02:20<00:00,  1.69s/it]\n",
            "                 Class     Images  Instances      Box(P          R      mAP50  mAP50-95): 100%|██████████| 7/7 [00:10<00:00,  1.56s/it]"
          ]
        },
        {
          "output_type": "stream",
          "name": "stdout",
          "text": [
            "                   all        217        505      0.405      0.382      0.325      0.248\n"
          ]
        },
        {
          "output_type": "stream",
          "name": "stderr",
          "text": [
            "\n"
          ]
        },
        {
          "output_type": "stream",
          "name": "stdout",
          "text": [
            "\n",
            "      Epoch    GPU_mem   box_loss   cls_loss   dfl_loss  Instances       Size\n"
          ]
        },
        {
          "output_type": "stream",
          "name": "stderr",
          "text": [
            "     36/100      21.5G     0.5801     0.5452     0.9573         12       1536: 100%|██████████| 83/83 [02:20<00:00,  1.69s/it]\n",
            "                 Class     Images  Instances      Box(P          R      mAP50  mAP50-95): 100%|██████████| 7/7 [00:10<00:00,  1.56s/it]"
          ]
        },
        {
          "output_type": "stream",
          "name": "stdout",
          "text": [
            "                   all        217        505      0.442      0.337      0.337      0.255\n"
          ]
        },
        {
          "output_type": "stream",
          "name": "stderr",
          "text": [
            "\n"
          ]
        },
        {
          "output_type": "stream",
          "name": "stdout",
          "text": [
            "\n",
            "      Epoch    GPU_mem   box_loss   cls_loss   dfl_loss  Instances       Size\n"
          ]
        },
        {
          "output_type": "stream",
          "name": "stderr",
          "text": [
            "     37/100      20.5G     0.5528     0.5166     0.9299         16       1536: 100%|██████████| 83/83 [02:20<00:00,  1.69s/it]\n",
            "                 Class     Images  Instances      Box(P          R      mAP50  mAP50-95): 100%|██████████| 7/7 [00:10<00:00,  1.56s/it]"
          ]
        },
        {
          "output_type": "stream",
          "name": "stdout",
          "text": [
            "                   all        217        505      0.412      0.355      0.323      0.247\n"
          ]
        },
        {
          "output_type": "stream",
          "name": "stderr",
          "text": [
            "\n"
          ]
        },
        {
          "output_type": "stream",
          "name": "stdout",
          "text": [
            "\n",
            "      Epoch    GPU_mem   box_loss   cls_loss   dfl_loss  Instances       Size\n"
          ]
        },
        {
          "output_type": "stream",
          "name": "stderr",
          "text": [
            "     38/100      22.2G     0.5487     0.5003     0.9294         19       1536: 100%|██████████| 83/83 [02:20<00:00,  1.69s/it]\n",
            "                 Class     Images  Instances      Box(P          R      mAP50  mAP50-95): 100%|██████████| 7/7 [00:10<00:00,  1.57s/it]"
          ]
        },
        {
          "output_type": "stream",
          "name": "stdout",
          "text": [
            "                   all        217        505       0.38      0.368      0.331      0.255\n"
          ]
        },
        {
          "output_type": "stream",
          "name": "stderr",
          "text": [
            "\n"
          ]
        },
        {
          "output_type": "stream",
          "name": "stdout",
          "text": [
            "\n",
            "      Epoch    GPU_mem   box_loss   cls_loss   dfl_loss  Instances       Size\n"
          ]
        },
        {
          "output_type": "stream",
          "name": "stderr",
          "text": [
            "     39/100      21.3G     0.5603     0.5342     0.9395         27       1536: 100%|██████████| 83/83 [02:20<00:00,  1.69s/it]\n",
            "                 Class     Images  Instances      Box(P          R      mAP50  mAP50-95): 100%|██████████| 7/7 [00:10<00:00,  1.56s/it]"
          ]
        },
        {
          "output_type": "stream",
          "name": "stdout",
          "text": [
            "                   all        217        505      0.424      0.367      0.336      0.255\n"
          ]
        },
        {
          "output_type": "stream",
          "name": "stderr",
          "text": [
            "\n"
          ]
        },
        {
          "output_type": "stream",
          "name": "stdout",
          "text": [
            "\n",
            "      Epoch    GPU_mem   box_loss   cls_loss   dfl_loss  Instances       Size\n"
          ]
        },
        {
          "output_type": "stream",
          "name": "stderr",
          "text": [
            "     40/100      20.9G      0.546     0.5107     0.9216         14       1536: 100%|██████████| 83/83 [02:20<00:00,  1.69s/it]\n",
            "                 Class     Images  Instances      Box(P          R      mAP50  mAP50-95): 100%|██████████| 7/7 [00:10<00:00,  1.56s/it]"
          ]
        },
        {
          "output_type": "stream",
          "name": "stdout",
          "text": [
            "                   all        217        505      0.352       0.36       0.31      0.234\n"
          ]
        },
        {
          "output_type": "stream",
          "name": "stderr",
          "text": [
            "\n"
          ]
        },
        {
          "output_type": "stream",
          "name": "stdout",
          "text": [
            "\n",
            "      Epoch    GPU_mem   box_loss   cls_loss   dfl_loss  Instances       Size\n"
          ]
        },
        {
          "output_type": "stream",
          "name": "stderr",
          "text": [
            "     41/100      19.9G     0.5368     0.4887     0.9269         22       1536: 100%|██████████| 83/83 [02:20<00:00,  1.69s/it]\n",
            "                 Class     Images  Instances      Box(P          R      mAP50  mAP50-95): 100%|██████████| 7/7 [00:10<00:00,  1.56s/it]"
          ]
        },
        {
          "output_type": "stream",
          "name": "stdout",
          "text": [
            "                   all        217        505       0.38      0.372       0.32      0.237\n"
          ]
        },
        {
          "output_type": "stream",
          "name": "stderr",
          "text": [
            "\n"
          ]
        },
        {
          "output_type": "stream",
          "name": "stdout",
          "text": [
            "\n",
            "      Epoch    GPU_mem   box_loss   cls_loss   dfl_loss  Instances       Size\n"
          ]
        },
        {
          "output_type": "stream",
          "name": "stderr",
          "text": [
            "     42/100      20.2G     0.5335     0.4855     0.9292         23       1536: 100%|██████████| 83/83 [02:20<00:00,  1.69s/it]\n",
            "                 Class     Images  Instances      Box(P          R      mAP50  mAP50-95): 100%|██████████| 7/7 [00:10<00:00,  1.56s/it]"
          ]
        },
        {
          "output_type": "stream",
          "name": "stdout",
          "text": [
            "                   all        217        505      0.388      0.381      0.322      0.245\n"
          ]
        },
        {
          "output_type": "stream",
          "name": "stderr",
          "text": [
            "\n"
          ]
        },
        {
          "output_type": "stream",
          "name": "stdout",
          "text": [
            "\n",
            "      Epoch    GPU_mem   box_loss   cls_loss   dfl_loss  Instances       Size\n"
          ]
        },
        {
          "output_type": "stream",
          "name": "stderr",
          "text": [
            "     43/100        20G     0.5287     0.4764     0.9339         10       1536: 100%|██████████| 83/83 [02:20<00:00,  1.69s/it]\n",
            "                 Class     Images  Instances      Box(P          R      mAP50  mAP50-95): 100%|██████████| 7/7 [00:10<00:00,  1.56s/it]"
          ]
        },
        {
          "output_type": "stream",
          "name": "stdout",
          "text": [
            "                   all        217        505      0.456      0.335      0.341      0.262\n"
          ]
        },
        {
          "output_type": "stream",
          "name": "stderr",
          "text": [
            "\n"
          ]
        },
        {
          "output_type": "stream",
          "name": "stdout",
          "text": [
            "\n",
            "      Epoch    GPU_mem   box_loss   cls_loss   dfl_loss  Instances       Size\n"
          ]
        },
        {
          "output_type": "stream",
          "name": "stderr",
          "text": [
            "     44/100      21.8G     0.5235     0.4563     0.9232         14       1536: 100%|██████████| 83/83 [02:20<00:00,  1.69s/it]\n",
            "                 Class     Images  Instances      Box(P          R      mAP50  mAP50-95): 100%|██████████| 7/7 [00:10<00:00,  1.57s/it]"
          ]
        },
        {
          "output_type": "stream",
          "name": "stdout",
          "text": [
            "                   all        217        505      0.416      0.374      0.337      0.262\n"
          ]
        },
        {
          "output_type": "stream",
          "name": "stderr",
          "text": [
            "\n"
          ]
        },
        {
          "output_type": "stream",
          "name": "stdout",
          "text": [
            "\n",
            "      Epoch    GPU_mem   box_loss   cls_loss   dfl_loss  Instances       Size\n"
          ]
        },
        {
          "output_type": "stream",
          "name": "stderr",
          "text": [
            "     45/100      21.5G     0.5073     0.4532     0.9265         10       1536: 100%|██████████| 83/83 [02:20<00:00,  1.69s/it]\n",
            "                 Class     Images  Instances      Box(P          R      mAP50  mAP50-95): 100%|██████████| 7/7 [00:10<00:00,  1.56s/it]"
          ]
        },
        {
          "output_type": "stream",
          "name": "stdout",
          "text": [
            "                   all        217        505      0.397      0.371      0.334      0.262\n",
            "\u001b[34m\u001b[1mEarlyStopping: \u001b[0mTraining stopped early as no improvement observed in last 15 epochs. Best results observed at epoch 30, best model saved as best.pt.\n",
            "To update EarlyStopping(patience=15) pass a new patience value, i.e. `patience=300` or use `patience=0` to disable EarlyStopping.\n"
          ]
        },
        {
          "output_type": "stream",
          "name": "stderr",
          "text": [
            "\n"
          ]
        },
        {
          "output_type": "stream",
          "name": "stdout",
          "text": [
            "\n",
            "45 epochs completed in 1.916 hours.\n",
            "Optimizer stripped from runs/detect/train4/weights/last.pt, 87.8MB\n",
            "Optimizer stripped from runs/detect/train4/weights/best.pt, 87.8MB\n",
            "\n",
            "Validating runs/detect/train4/weights/best.pt...\n",
            "Ultralytics 8.3.31 🚀 Python-3.10.12 torch-2.5.0+cu121 CUDA:0 (NVIDIA L4, 22700MiB)\n",
            "Model summary (fused): 268 layers, 43,612,776 parameters, 0 gradients, 164.8 GFLOPs\n"
          ]
        },
        {
          "output_type": "stream",
          "name": "stderr",
          "text": [
            "                 Class     Images  Instances      Box(P          R      mAP50  mAP50-95): 100%|██████████| 7/7 [00:10<00:00,  1.56s/it]\n"
          ]
        },
        {
          "output_type": "stream",
          "name": "stdout",
          "text": [
            "                   all        217        505      0.406      0.373      0.351      0.271\n",
            "          Plastic film         52         81      0.489      0.296      0.275      0.192\n",
            "      Unlabeled litter         51         75      0.218      0.107     0.0735     0.0423\n",
            "             Cigarette         49        136       0.46       0.39      0.371      0.223\n",
            "  Clear plastic bottle         45         51      0.512      0.762      0.702      0.583\n",
            "    Plastic bottle cap         37         40      0.517      0.475      0.511      0.399\n",
            " Other plastic wrapper         28         41      0.211       0.22      0.194       0.13\n",
            "         Other plastic         27         34       0.45      0.588      0.528      0.464\n",
            "             Drink can         34         47      0.394      0.149      0.153      0.136\n",
            "Speed: 0.7ms preprocess, 45.0ms inference, 0.0ms loss, 1.9ms postprocess per image\n",
            "Results saved to \u001b[1mruns/detect/train4\u001b[0m\n"
          ]
        }
      ]
    }
  ],
  "metadata": {
    "kernelspec": {
      "display_name": "Python 3",
      "name": "python3"
    },
    "language_info": {
      "codemirror_mode": {
        "name": "ipython",
        "version": 3
      },
      "file_extension": ".py",
      "mimetype": "text/x-python",
      "name": "python",
      "nbconvert_exporter": "python",
      "pygments_lexer": "ipython3",
      "version": "3.10.15"
    },
    "colab": {
      "provenance": [],
      "gpuType": "L4"
    },
    "accelerator": "GPU"
  },
  "nbformat": 4,
  "nbformat_minor": 0
}